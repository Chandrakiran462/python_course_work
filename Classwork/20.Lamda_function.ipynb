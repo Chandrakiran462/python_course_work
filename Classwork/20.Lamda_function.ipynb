{
 "cells": [
  {
   "cell_type": "markdown",
   "id": "d8148149",
   "metadata": {},
   "source": [
    "***Lamda Function***\n",
    "\n",
    "Anonymous Functions (Lambda Functions)\n",
    "A lambda function is a small anonymous function that is used to perform short tasks\n",
    "without defining a full function using def.\n",
    "\n",
    "\n",
    "***What is a Lambda Function?***\n",
    "A lambda function is a function without a name. It can take any number of arguments but\n",
    "only has one expression (a single line of code that returns a result).\n",
    "\n",
    "\n",
    "Syntax of Lambda Function\n",
    "***lambda arguments: expression***\n",
    "SYNTAX\\\n",
    "var = lambda arg: expression\n",
    "var(arg)"
   ]
  },
  {
   "cell_type": "code",
   "execution_count": null,
   "id": "eb9ab7d4",
   "metadata": {},
   "outputs": [
    {
     "name": "stdout",
     "output_type": "stream",
     "text": [
      "25\n"
     ]
    }
   ],
   "source": [
    "squares = lambda n: n*n         # var = lambda arg: expression\n",
    "print(squares(5))               # function call var(n)"
   ]
  },
  {
   "cell_type": "code",
   "execution_count": 3,
   "id": "f29dec03",
   "metadata": {},
   "outputs": [
    {
     "name": "stdout",
     "output_type": "stream",
     "text": [
      "13\n"
     ]
    }
   ],
   "source": [
    "add = lambda a,b : a+b\n",
    "print(add(4,9))"
   ]
  },
  {
   "cell_type": "code",
   "execution_count": 5,
   "id": "33146bdf",
   "metadata": {},
   "outputs": [
    {
     "name": "stdout",
     "output_type": "stream",
     "text": [
      "Even\n"
     ]
    }
   ],
   "source": [
    "evenorodd = lambda n: \"Even\" if n%2 == 0 else \"Odd\"\n",
    "print(evenorodd(8))"
   ]
  },
  {
   "cell_type": "markdown",
   "id": "0e6d0ed9",
   "metadata": {},
   "source": [
    "***map,filter,reduse belongs to lambda function***"
   ]
  },
  {
   "cell_type": "code",
   "execution_count": 6,
   "id": "a3aa33cb",
   "metadata": {},
   "outputs": [
    {
     "name": "stdout",
     "output_type": "stream",
     "text": [
      "[1, 9, 16, 25]\n"
     ]
    }
   ],
   "source": [
    "def sqa(l):\n",
    "    for i in range(len(l)):\n",
    "        l[i]**=2\n",
    "    print(l)\n",
    "sqa([1,3,4,5])"
   ]
  },
  {
   "cell_type": "code",
   "execution_count": 7,
   "id": "a792bbad",
   "metadata": {},
   "outputs": [
    {
     "name": "stdout",
     "output_type": "stream",
     "text": [
      "[1, 4, 9, 16, 36]\n"
     ]
    }
   ],
   "source": [
    "# using map and lambda function\n",
    "'''Syntax'''\n",
    "# seq = list(map(fun,input().split()))\n",
    "seq = list(map(lambda i: i*i,[1,2,3,4,6]))\n",
    "print(seq)"
   ]
  },
  {
   "cell_type": "code",
   "execution_count": 12,
   "id": "365c7647",
   "metadata": {},
   "outputs": [
    {
     "name": "stdout",
     "output_type": "stream",
     "text": [
      "PYTHON\n"
     ]
    }
   ],
   "source": [
    "seq = list(map(lambda i: i.upper(),'python'))\n",
    "print(''.join(seq))"
   ]
  },
  {
   "cell_type": "code",
   "execution_count": 15,
   "id": "7b08d5d9",
   "metadata": {},
   "outputs": [
    {
     "name": "stdout",
     "output_type": "stream",
     "text": [
      "pyth*n\n"
     ]
    }
   ],
   "source": [
    "v='aeiou'\n",
    "seq = list(map(lambda i: '*' if i in v else i ,'python'))\n",
    "print(''.join(seq))"
   ]
  },
  {
   "cell_type": "code",
   "execution_count": 17,
   "id": "d4707a10",
   "metadata": {},
   "outputs": [
    {
     "name": "stdout",
     "output_type": "stream",
     "text": [
      "{'shannu': 40, 'kiran': 45}\n"
     ]
    }
   ],
   "source": [
    "data = {'kiran':45, 'shannu': 40}\n",
    "sorted_data = dict(sorted(data.items(),key = lambda i: i[1]))\n",
    "print(sorted_data)"
   ]
  },
  {
   "cell_type": "code",
   "execution_count": null,
   "id": "79cd67e2",
   "metadata": {},
   "outputs": [
    {
     "name": "stdout",
     "output_type": "stream",
     "text": [
      "{'kiran': 45, 'shannu': 40}\n"
     ]
    }
   ],
   "source": [
    "# Based on value\n",
    "data = {'kiran':45, 'shannu': 40}\n",
    "sorted_data = dict(sorted(data.items(),key = lambda i: i[1],reverse = True))\n",
    "print(sorted_data)"
   ]
  },
  {
   "cell_type": "code",
   "execution_count": 21,
   "id": "214d25f4",
   "metadata": {},
   "outputs": [
    {
     "name": "stdout",
     "output_type": "stream",
     "text": [
      "{'Ajay': 38, 'kiran': 45, 'shannu': 40}\n"
     ]
    }
   ],
   "source": [
    "# Based on key\n",
    "data = {'kiran':45, 'shannu': 40,'Ajay': 38}\n",
    "sorted_data = dict(sorted(data.items(),key = lambda i: i[0]))\n",
    "print(sorted_data)"
   ]
  },
  {
   "cell_type": "code",
   "execution_count": 24,
   "id": "06fd558b",
   "metadata": {},
   "outputs": [
    {
     "name": "stdout",
     "output_type": "stream",
     "text": [
      "55\n",
      "68\n"
     ]
    }
   ],
   "source": [
    "maxnum = lambda a,b: a if a > b else b\n",
    "print(maxnum(55,6))\n",
    "print(maxnum(55,68))"
   ]
  },
  {
   "cell_type": "code",
   "execution_count": 26,
   "id": "7a385b20",
   "metadata": {},
   "outputs": [
    {
     "name": "stdout",
     "output_type": "stream",
     "text": [
      "40\n",
      "500\n"
     ]
    }
   ],
   "source": [
    "mul = lambda a,b: a*b\n",
    "print(mul(5,8))\n",
    "print(mul(50,10))"
   ]
  },
  {
   "cell_type": "code",
   "execution_count": null,
   "id": "64fa0b6a",
   "metadata": {},
   "outputs": [
    {
     "name": "stdout",
     "output_type": "stream",
     "text": [
      "[(3, 1), (1, 2), (5, 3)]\n"
     ]
    }
   ],
   "source": [
    "\n",
    "sorted_tuple = sorted([(1,2),(3,1),(5,3)],key = lambda i: i[1]) # can also use reverse index -1 to sort with last element value\n",
    "print(sorted_tuple)"
   ]
  },
  {
   "cell_type": "code",
   "execution_count": 31,
   "id": "aed7c108",
   "metadata": {},
   "outputs": [
    {
     "name": "stdout",
     "output_type": "stream",
     "text": [
      "['kiran', 'shole', 'shannu']\n"
     ]
    }
   ],
   "source": [
    "l = ['kiran','shannu','shole']\n",
    "sorted_tuple = sorted(l,key = lambda i: i[-2])\n",
    "print(sorted_tuple)"
   ]
  },
  {
   "cell_type": "code",
   "execution_count": 32,
   "id": "5b40b717",
   "metadata": {},
   "outputs": [
    {
     "name": "stdout",
     "output_type": "stream",
     "text": [
      "[[23, 54, 68], [45, 66, 74], [56, 68, 99]]\n"
     ]
    }
   ],
   "source": [
    "l = [[23,54,68],[56,68,99],[45,66,74]]\n",
    "sorted_tuple = sorted(l,key = lambda i: i[-1])\n",
    "print(sorted_tuple)"
   ]
  },
  {
   "cell_type": "code",
   "execution_count": null,
   "id": "3de08d6e",
   "metadata": {},
   "outputs": [
    {
     "name": "stdout",
     "output_type": "stream",
     "text": [
      "[8, 4, 6, 8, 2]\n"
     ]
    }
   ],
   "source": [
    "# Filter\n",
    "''' if condition satisfy it return value else it won't return'''\n",
    "\n",
    "l = [5,8,4,6,8,9,2,]\n",
    "'''SYNTAX'''\n",
    "'''var = list(filter(function,input))'''\n",
    "e = list(filter(lambda i : i%2 == 0,l)) # funtion is lambda and 'l' is input\n",
    "print(e)"
   ]
  },
  {
   "cell_type": "code",
   "execution_count": 34,
   "id": "9ffab85c",
   "metadata": {},
   "outputs": [
    {
     "name": "stdout",
     "output_type": "stream",
     "text": [
      "[5, 8, 4, 6, 8, 9, 2]\n"
     ]
    }
   ],
   "source": [
    "l = [5,8,0,0,4,6,0,0,0,8,9,0,0,0,2,]\n",
    "e = list(filter(lambda i : i != 0,l))\n",
    "print(e)"
   ]
  },
  {
   "cell_type": "code",
   "execution_count": 46,
   "id": "6f3bab54",
   "metadata": {},
   "outputs": [
    {
     "name": "stdout",
     "output_type": "stream",
     "text": [
      "[True, True, False, False, True, True, True, False, False]\n",
      "['redmi', 'realme', 'iqoo', 'poco', 'Xaiomi']\n",
      "['redmi', 'iqoo', 'poco']\n",
      "['redmi', 'poco']\n"
     ]
    }
   ],
   "source": [
    "data = {\n",
    "    'redmi':{'Avalilable':True,'Price':18000,'ram':6}, \n",
    "    'realme':{'Avalilable':True,'Price':20000,'ram':8}, \n",
    "    'oppo':{'Avalilable':False,'Price':25000,'ram':8},\n",
    "    'apple':{'Avalilable':False,'Price':80000,'ram':4}, \n",
    "    'iqoo':{'Avalilable':True,'Price':15000,'ram':12}, \n",
    "    'poco':{'Avalilable':True,'Price':12000,'ram':6}, \n",
    "    'Xaiomi':{'Avalilable':True,'Price':60000,'ram':12}, \n",
    "    'nothing':{'Avalilable':False,'Price':45000,'ram':8}, \n",
    "    'samsung':{'Avalilable':False,'Price':100000,'ram':4} \n",
    "}\n",
    "l = list(map(lambda i: data[i]['Avalilable'],data))\n",
    "f1 = list(filter(lambda i: data[i]['Avalilable'],data))\n",
    "f2 = list(filter(lambda i: data[i]['Price']<20000,data))\n",
    "f3 = list(filter(lambda i: data[i]['ram'] == 6,data))\n",
    "print(l)\n",
    "print(f1)\n",
    "print(f2)\n",
    "print(f3)"
   ]
  },
  {
   "cell_type": "code",
   "execution_count": 48,
   "id": "c6631737",
   "metadata": {},
   "outputs": [
    {
     "name": "stdout",
     "output_type": "stream",
     "text": [
      "['KIRAN', 'SHANNU', 'SHOLE']\n",
      "['Kiran', 'Shannu', 'Shole']\n"
     ]
    }
   ],
   "source": [
    "l = ['kiran','shannu','shole']\n",
    "up = list(map(lambda i: i.upper(),l))\n",
    "print(up)\n",
    "t = list(map(lambda i: i.title(),l))\n",
    "print(t)"
   ]
  },
  {
   "cell_type": "markdown",
   "id": "784d7a81",
   "metadata": {},
   "source": [
    "***List Comprehension***\n",
    "when ever we use list and for loop we can use list compresension\n",
    "list,set,dictionary can be comprehensive\n",
    "\n",
    "syntax\n",
    "k = [i for i in ranga(1,n+1)]\n",
    "    appnd       for loop                if condition\n",
    "k = [i      for i in range(1,n+1)       if i%2 == 0]\n"
   ]
  },
  {
   "cell_type": "code",
   "execution_count": 16,
   "id": "8689d450",
   "metadata": {},
   "outputs": [
    {
     "name": "stdout",
     "output_type": "stream",
     "text": [
      "[1, 2, 3, 4, 5, 6, 7, 8, 9, 10, 11, 12, 13, 14, 15]\n",
      "[2, 4, 6, 8, 10, 12, 14]\n"
     ]
    }
   ],
   "source": [
    "n = int(input(\"Enter number: \"))\n",
    "l = []\n",
    "for i in range(1,n+1):\n",
    "    l.append(i)\n",
    "print(l)\n",
    "\n",
    "k = [i for i in range(1,n+1) if i%2 == 0]\n",
    "print(k)"
   ]
  },
  {
   "cell_type": "code",
   "execution_count": 26,
   "id": "819ec5c3",
   "metadata": {},
   "outputs": [
    {
     "name": "stdout",
     "output_type": "stream",
     "text": [
      "[1, 2, 3, 4, 5]\n"
     ]
    }
   ],
   "source": [
    "l = int(input())\n",
    "s = [i for i in range(1,l+1)]\n",
    "print(s)"
   ]
  },
  {
   "cell_type": "code",
   "execution_count": 31,
   "id": "cd188589",
   "metadata": {},
   "outputs": [
    {
     "name": "stdout",
     "output_type": "stream",
     "text": [
      "[<built-in method upper of str object at 0x00007FFDEAA82A48>, <built-in method upper of str object at 0x00007FFDEAA82C40>, <built-in method upper of str object at 0x00007FFDEAA82B28>, <built-in method upper of str object at 0x00007FFDEAA82888>, <built-in method upper of str object at 0x00007FFDEAA82A10>, <built-in method upper of str object at 0x00007FFDEAA829D8>]\n"
     ]
    }
   ],
   "source": [
    "s = \"python\"\n",
    "# for i in s:\n",
    "#     s.append(s.upper())\n",
    "# print(s)\n",
    "\n",
    "s = [i.upper for i in s]\n",
    "print(s)"
   ]
  },
  {
   "cell_type": "code",
   "execution_count": 33,
   "id": "8b3ea9a8",
   "metadata": {},
   "outputs": [
    {
     "name": "stdout",
     "output_type": "stream",
     "text": [
      "y\n",
      "t\n",
      "h\n",
      "o\n",
      "n\n"
     ]
    }
   ],
   "source": [
    "s = \"Python\"\n",
    "for i in s:\n",
    "    if i.islower(): \n",
    "        print(i)"
   ]
  },
  {
   "cell_type": "code",
   "execution_count": 39,
   "id": "e29c6f14",
   "metadata": {},
   "outputs": [
    {
     "name": "stdout",
     "output_type": "stream",
     "text": [
      "['1', '2', '5', '4', '8', '6', '0', '0', '0', '0', '0', '0', '0', '0', '5', '5', '4']\n"
     ]
    }
   ],
   "source": [
    "s = \"125486kkiransk554\"\n",
    "# l = []\n",
    "# for i in s:\n",
    "#     if i.isdigit():\n",
    "#         l.append(i)\n",
    "#     else:\n",
    "#         l.append(0)\n",
    "l = [i if i.isdigit() else '0' for i in s]\n",
    "print(l)"
   ]
  },
  {
   "cell_type": "markdown",
   "id": "59559d26",
   "metadata": {},
   "source": [
    "l = {key:val for key in seq}    # dictionary\n",
    "l = [val for val in seq]        # list\n",
    "l = {val for val in seq}        # set\n",
    "for these comprehension is possible"
   ]
  },
  {
   "cell_type": "code",
   "execution_count": 43,
   "id": "e22f15be",
   "metadata": {},
   "outputs": [
    {
     "name": "stdout",
     "output_type": "stream",
     "text": [
      "{'kiran': 'Absent', 'ram': 'present', 'shannu': 'Absent', 'raj': 'present'}\n"
     ]
    }
   ],
   "source": [
    "name = {'kiran','shannu','raj','ram'}\n",
    "d = {key:'Absent' if ind %2 == 0 else 'present' for ind,key in enumerate(name) }\n",
    "print(d)"
   ]
  },
  {
   "cell_type": "markdown",
   "id": "afd6d350",
   "metadata": {},
   "source": [
    "***Reduce***\n",
    "from functools import reduce\n",
    "when we have group of list and you need conclude in one way we can use reduce function\n",
    "\n",
    "\n",
    "map = [] is for to update each and every element"
   ]
  },
  {
   "cell_type": "code",
   "execution_count": null,
   "id": "1235a310",
   "metadata": {},
   "outputs": [
    {
     "name": "stdout",
     "output_type": "stream",
     "text": [
      "15\n"
     ]
    }
   ],
   "source": [
    "from functools import reduce\n",
    "\n",
    "num = [1,2,3,4,5]\n",
    "\n",
    "sum_all = reduce(lambda x,y:x+y,num) #  syntax\n",
    "print(sum_all)"
   ]
  },
  {
   "cell_type": "code",
   "execution_count": 5,
   "id": "77884930",
   "metadata": {},
   "outputs": [
    {
     "name": "stdout",
     "output_type": "stream",
     "text": [
      "289\n"
     ]
    }
   ],
   "source": [
    "n = int(input())\n",
    "square = lambda n:n**2\n",
    "print(square(n))"
   ]
  },
  {
   "cell_type": "code",
   "execution_count": 12,
   "id": "ecad2d99",
   "metadata": {},
   "outputs": [
    {
     "name": "stdout",
     "output_type": "stream",
     "text": [
      "False\n"
     ]
    }
   ],
   "source": [
    "n = int(input())\n",
    "even = lambda n: True if n%2 == 0 else False\n",
    "print(even(n))"
   ]
  },
  {
   "cell_type": "code",
   "execution_count": 16,
   "id": "32233aba",
   "metadata": {},
   "outputs": [
    {
     "name": "stdout",
     "output_type": "stream",
     "text": [
      "50000\n"
     ]
    }
   ],
   "source": [
    "a = int(input())\n",
    "b = int(input())\n",
    "maximum = lambda a,b: a if a>b else b\n",
    "print(maximum(a,b))"
   ]
  },
  {
   "cell_type": "code",
   "execution_count": 20,
   "id": "5397e0f0",
   "metadata": {},
   "outputs": [
    {
     "name": "stdout",
     "output_type": "stream",
     "text": [
      "310\n"
     ]
    }
   ],
   "source": [
    "a = int(input())\n",
    "b = int(input())\n",
    "product = lambda a,b:a*b\n",
    "print(product(a,b))"
   ]
  },
  {
   "cell_type": "code",
   "execution_count": 21,
   "id": "71d74835",
   "metadata": {},
   "outputs": [
    {
     "name": "stdout",
     "output_type": "stream",
     "text": [
      "[(2, 1), (4, 2), (1, 3)]\n"
     ]
    }
   ],
   "source": [
    "l = [(1, 3), (2, 1), (4, 2)]\n",
    "sortbysec = sorted(l,key = lambda i: i[-1])\n",
    "print(sortbysec)"
   ]
  },
  {
   "cell_type": "code",
   "execution_count": 25,
   "id": "abe4afc2",
   "metadata": {},
   "outputs": [
    {
     "name": "stdout",
     "output_type": "stream",
     "text": [
      "[2, 4, 6]\n"
     ]
    }
   ],
   "source": [
    "l = [1, 2, 3, 4, 5, 6]\n",
    "even_fil = list(filter(lambda i: i%2 == 0,l))\n",
    "print(even_fil)"
   ]
  },
  {
   "cell_type": "code",
   "execution_count": 26,
   "id": "8d581bd3",
   "metadata": {},
   "outputs": [
    {
     "name": "stdout",
     "output_type": "stream",
     "text": [
      "[1, 4, 9, 16, 25, 36]\n"
     ]
    }
   ],
   "source": [
    "l = [1, 2, 3, 4, 5, 6]\n",
    "map_sqr = list(map(lambda i: i*i,l))\n",
    "print(map_sqr)"
   ]
  },
  {
   "cell_type": "code",
   "execution_count": 29,
   "id": "12fa9a9f",
   "metadata": {},
   "outputs": [
    {
     "name": "stdout",
     "output_type": "stream",
     "text": [
      "['KIRAN', 'SRI', 'SAI', 'CHANDRA']\n"
     ]
    }
   ],
   "source": [
    "l = input().split()\n",
    "upper = list(map(lambda i:i.upper(),l))\n",
    "print(upper)"
   ]
  },
  {
   "cell_type": "code",
   "execution_count": 2,
   "id": "835863ce",
   "metadata": {},
   "outputs": [
    {
     "name": "stdout",
     "output_type": "stream",
     "text": [
      "[{'name': 'B', 'age': 20}, {'name': 'A', 'age': 30}]\n"
     ]
    }
   ],
   "source": [
    "d = [{'name': 'A', 'age': 30}, {'name': 'B', 'age': 20}]\n",
    "age_sort = sorted(d, key = lambda i:i['age'])\n",
    "print(age_sort)"
   ]
  },
  {
   "cell_type": "code",
   "execution_count": 65,
   "id": "ab9d6bd3",
   "metadata": {},
   "outputs": [
    {
     "name": "stdout",
     "output_type": "stream",
     "text": [
      "5\n"
     ]
    }
   ],
   "source": [
    "s = input()\n",
    "length = lambda n:len(s)\n",
    "print(length(s))"
   ]
  },
  {
   "cell_type": "code",
   "execution_count": 73,
   "id": "98401a95",
   "metadata": {},
   "outputs": [
    {
     "name": "stdout",
     "output_type": "stream",
     "text": [
      "True\n"
     ]
    }
   ],
   "source": [
    "s = input()\n",
    "vowel = lambda n:True if n[0] in 'aeiou' else False\n",
    "print(vowel(s))"
   ]
  },
  {
   "cell_type": "code",
   "execution_count": 75,
   "id": "f2b533b9",
   "metadata": {},
   "outputs": [
    {
     "name": "stdout",
     "output_type": "stream",
     "text": [
      "[25, 10, 5]\n"
     ]
    }
   ],
   "source": [
    "l = [15,0,-5]\n",
    "add_ten = list(map(lambda i: i + 10,l))\n",
    "print(add_ten)"
   ]
  },
  {
   "cell_type": "code",
   "execution_count": 1,
   "id": "19ae40d8",
   "metadata": {},
   "outputs": [
    {
     "name": "stdout",
     "output_type": "stream",
     "text": [
      "['cat']\n"
     ]
    }
   ],
   "source": [
    "s = [\"a\", \"the\", \"lamp\", \"cat\"]\n",
    "char = 'c'\n",
    "length = list(filter(lambda i: i[0] == char, s))\n",
    "print(length)"
   ]
  },
  {
   "cell_type": "code",
   "execution_count": 91,
   "id": "036afeb3",
   "metadata": {},
   "outputs": [
    {
     "name": "stdout",
     "output_type": "stream",
     "text": [
      "[0, 2, 6, 12]\n"
     ]
    }
   ],
   "source": [
    "l = [1, 2, 3, 4]\n",
    "mulbyind = list(map(lambda i:i[0]*i[1],enumerate(l)))\n",
    "print(mulbyind)"
   ]
  }
 ],
 "metadata": {
  "kernelspec": {
   "display_name": "Python 3",
   "language": "python",
   "name": "python3"
  },
  "language_info": {
   "codemirror_mode": {
    "name": "ipython",
    "version": 3
   },
   "file_extension": ".py",
   "mimetype": "text/x-python",
   "name": "python",
   "nbconvert_exporter": "python",
   "pygments_lexer": "ipython3",
   "version": "3.11.9"
  }
 },
 "nbformat": 4,
 "nbformat_minor": 5
}
