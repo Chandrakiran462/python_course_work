{
 "cells": [
  {
   "cell_type": "markdown",
   "id": "f17edd9d",
   "metadata": {},
   "source": [
    "***Modules***\n",
    "'group of relevent functions'\n",
    "develop independent blocks of code\n",
    "\n",
    "# user define modules\n",
    "# Built-in modules"
   ]
  },
  {
   "cell_type": "code",
   "execution_count": null,
   "id": "616f9517",
   "metadata": {},
   "outputs": [
    {
     "name": "stdout",
     "output_type": "stream",
     "text": [
      "16 + 65\n",
      "81\n"
     ]
    }
   ],
   "source": [
    "# Group of functions is called Module\n",
    "import operators                # general syntax to import a module\n",
    "a = int(input())\n",
    "b = int(input())\n",
    "op = input()\n",
    "print(f\"{a} {op} {b}\")\n",
    "if op == '+':\n",
    "    operators.add(a,b)\n",
    "if op == '-':\n",
    "    operators.sub(a,b)\n",
    "if op == '/':\n",
    "    operators.div(a,b)\n",
    "if op == '*':\n",
    "    operators.mul(a,b)\n"
   ]
  },
  {
   "cell_type": "code",
   "execution_count": null,
   "id": "3b8d8b06",
   "metadata": {},
   "outputs": [
    {
     "name": "stdout",
     "output_type": "stream",
     "text": [
      "54 / 5\n",
      "10.8\n"
     ]
    }
   ],
   "source": [
    "# Group of functions is called Module\n",
    "# import operators\n",
    "import operators as opr         # syntax to import a module with alias using 'as' \n",
    "a = int(input())\n",
    "b = int(input())\n",
    "op = input()\n",
    "print(f\"{a} {op} {b}\")\n",
    "if op == '+':\n",
    "    opr.add(a,b)\n",
    "if op == '-':\n",
    "    opr.sub(a,b)\n",
    "if op == '/':\n",
    "    opr.div(a,b)\n",
    "if op == '*':\n",
    "    opr.mul(a,b)\n"
   ]
  },
  {
   "cell_type": "code",
   "execution_count": null,
   "id": "7c454662",
   "metadata": {},
   "outputs": [
    {
     "name": "stdout",
     "output_type": "stream",
     "text": [
      "15 * 5\n",
      "75\n"
     ]
    }
   ],
   "source": [
    "# Group of functions is called Module\n",
    "# import operators\n",
    "# import operators as opr\n",
    "from operators import *           # syntax to import all functions from module \n",
    "a = int(input())                  # so we don't need us module name when calling function\n",
    "b = int(input())\n",
    "op = input()\n",
    "print(f\"{a} {op} {b}\")\n",
    "if op == '+':\n",
    "    add(a,b)\n",
    "if op == '-':\n",
    "    sub(a,b)\n",
    "if op == '/':\n",
    "    div(a,b)\n",
    "if op == '*':\n",
    "    mul(a,b)\n"
   ]
  },
  {
   "cell_type": "code",
   "execution_count": null,
   "id": "9c02a779",
   "metadata": {},
   "outputs": [
    {
     "name": "stdout",
     "output_type": "stream",
     "text": [
      "68 - 45\n",
      "23\n"
     ]
    }
   ],
   "source": [
    "# Group of functions is called Module\n",
    "# import operators\n",
    "# import operators as opr\n",
    "# from operators import *\n",
    "from operators import add,sub,mul,div   # syntax to import specific functions from module\n",
    "a = int(input())\n",
    "b = int(input())\n",
    "op = input()\n",
    "print(f\"{a} {op} {b}\")\n",
    "if op == '+':\n",
    "    add(a,b)\n",
    "if op == '-':\n",
    "    sub(a,b)\n",
    "if op == '/':\n",
    "    div(a,b)\n",
    "if op == '*':\n",
    "    mul(a,b)"
   ]
  }
 ],
 "metadata": {
  "kernelspec": {
   "display_name": "Python 3",
   "language": "python",
   "name": "python3"
  },
  "language_info": {
   "codemirror_mode": {
    "name": "ipython",
    "version": 3
   },
   "file_extension": ".py",
   "mimetype": "text/x-python",
   "name": "python",
   "nbconvert_exporter": "python",
   "pygments_lexer": "ipython3",
   "version": "3.11.9"
  }
 },
 "nbformat": 4,
 "nbformat_minor": 5
}
