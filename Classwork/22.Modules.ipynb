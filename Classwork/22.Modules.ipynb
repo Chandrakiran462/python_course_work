{
 "cells": [
  {
   "cell_type": "markdown",
   "id": "f17edd9d",
   "metadata": {},
   "source": [
    "***Modules***\n",
    "'group of relevent functions'\n",
    "develop independent blocks of code\n",
    "\n",
    "# user define modules\n",
    "# Built-in modules"
   ]
  },
  {
   "cell_type": "code",
   "execution_count": null,
   "id": "616f9517",
   "metadata": {},
   "outputs": [
    {
     "name": "stdout",
     "output_type": "stream",
     "text": [
      "16 + 65\n",
      "81\n"
     ]
    }
   ],
   "source": [
    "# Group of functions is called Module\n",
    "import operators                # general syntax to import a module\n",
    "a = int(input())\n",
    "b = int(input())\n",
    "op = input()\n",
    "print(f\"{a} {op} {b}\")\n",
    "if op == '+':\n",
    "    operators.add(a,b)\n",
    "if op == '-':\n",
    "    operators.sub(a,b)\n",
    "if op == '/':\n",
    "    operators.div(a,b)\n",
    "if op == '*':\n",
    "    operators.mul(a,b)\n"
   ]
  },
  {
   "cell_type": "code",
   "execution_count": null,
   "id": "3b8d8b06",
   "metadata": {},
   "outputs": [
    {
     "name": "stdout",
     "output_type": "stream",
     "text": [
      "54 / 5\n",
      "10.8\n"
     ]
    }
   ],
   "source": [
    "# Group of functions is called Module\n",
    "# import operators\n",
    "import operators as opr         # syntax to import a module with alias using 'as' \n",
    "a = int(input())\n",
    "b = int(input())\n",
    "op = input()\n",
    "print(f\"{a} {op} {b}\")\n",
    "if op == '+':\n",
    "    opr.add(a,b)\n",
    "if op == '-':\n",
    "    opr.sub(a,b)\n",
    "if op == '/':\n",
    "    opr.div(a,b)\n",
    "if op == '*':\n",
    "    opr.mul(a,b)\n"
   ]
  },
  {
   "cell_type": "code",
   "execution_count": null,
   "id": "7c454662",
   "metadata": {},
   "outputs": [
    {
     "name": "stdout",
     "output_type": "stream",
     "text": [
      "15 * 5\n",
      "75\n"
     ]
    }
   ],
   "source": [
    "# Group of functions is called Module\n",
    "# import operators\n",
    "# import operators as opr\n",
    "from operators import *           # syntax to import all functions from module \n",
    "a = int(input())                  # so we don't need us module name when calling function\n",
    "b = int(input())\n",
    "op = input()\n",
    "print(f\"{a} {op} {b}\")\n",
    "if op == '+':\n",
    "    add(a,b)\n",
    "if op == '-':\n",
    "    sub(a,b)\n",
    "if op == '/':\n",
    "    div(a,b)\n",
    "if op == '*':\n",
    "    mul(a,b)\n"
   ]
  },
  {
   "cell_type": "code",
   "execution_count": null,
   "id": "9c02a779",
   "metadata": {},
   "outputs": [
    {
     "name": "stdout",
     "output_type": "stream",
     "text": [
      "68 - 45\n",
      "23\n"
     ]
    }
   ],
   "source": [
    "# Group of functions is called Module\n",
    "# import operators\n",
    "# import operators as opr\n",
    "# from operators import *\n",
    "from operators import add,sub,mul,div   # syntax to import specific functions from module\n",
    "a = int(input())\n",
    "b = int(input())\n",
    "op = input()\n",
    "print(f\"{a} {op} {b}\")\n",
    "if op == '+':\n",
    "    add(a,b)\n",
    "if op == '-':\n",
    "    sub(a,b)\n",
    "if op == '/':\n",
    "    div(a,b)\n",
    "if op == '*':\n",
    "    mul(a,b)"
   ]
  },
  {
   "cell_type": "markdown",
   "id": "3e7d8cef",
   "metadata": {},
   "source": [
    "***Built-in Modules***\n",
    "os\n",
    "sys module\n",
    "platform - to check system information\n",
    "math - for mathmetical operations\n",
    "random  - generates random values"
   ]
  },
  {
   "cell_type": "code",
   "execution_count": null,
   "id": "b00af8a2",
   "metadata": {},
   "outputs": [
    {
     "name": "stdout",
     "output_type": "stream",
     "text": [
      "['C:\\\\Users\\\\Lenovo\\\\AppData\\\\Local\\\\Packages\\\\PythonSoftwareFoundation.Python.3.11_qbz5n2kfra8p0\\\\LocalCache\\\\local-packages\\\\Python311\\\\site-packages\\\\ipykernel_launcher.py', '--f=c:\\\\Users\\\\Lenovo\\\\AppData\\\\Roaming\\\\jupyter\\\\runtime\\\\kernel-v3a1870a2f95b59ef2573be0a9922acdb6773760f7.json']\n",
      "['C:\\\\Program Files\\\\WindowsApps\\\\PythonSoftwareFoundation.Python.3.11_3.11.2544.0_x64__qbz5n2kfra8p0\\\\python311.zip', 'C:\\\\Program Files\\\\WindowsApps\\\\PythonSoftwareFoundation.Python.3.11_3.11.2544.0_x64__qbz5n2kfra8p0\\\\DLLs', 'C:\\\\Program Files\\\\WindowsApps\\\\PythonSoftwareFoundation.Python.3.11_3.11.2544.0_x64__qbz5n2kfra8p0\\\\Lib', 'C:\\\\Program Files\\\\WindowsApps\\\\PythonSoftwareFoundation.Python.3.11_3.11.2544.0_x64__qbz5n2kfra8p0', '', 'C:\\\\Users\\\\Lenovo\\\\AppData\\\\Local\\\\Packages\\\\PythonSoftwareFoundation.Python.3.11_qbz5n2kfra8p0\\\\LocalCache\\\\local-packages\\\\Python311\\\\site-packages', 'C:\\\\Users\\\\Lenovo\\\\AppData\\\\Local\\\\Packages\\\\PythonSoftwareFoundation.Python.3.11_qbz5n2kfra8p0\\\\LocalCache\\\\local-packages\\\\Python311\\\\site-packages\\\\win32', 'C:\\\\Users\\\\Lenovo\\\\AppData\\\\Local\\\\Packages\\\\PythonSoftwareFoundation.Python.3.11_qbz5n2kfra8p0\\\\LocalCache\\\\local-packages\\\\Python311\\\\site-packages\\\\win32\\\\lib', 'C:\\\\Users\\\\Lenovo\\\\AppData\\\\Local\\\\Packages\\\\PythonSoftwareFoundation.Python.3.11_qbz5n2kfra8p0\\\\LocalCache\\\\local-packages\\\\Python311\\\\site-packages\\\\Pythonwin', 'C:\\\\Program Files\\\\WindowsApps\\\\PythonSoftwareFoundation.Python.3.11_3.11.2544.0_x64__qbz5n2kfra8p0\\\\Lib\\\\site-packages']\n",
      "3.11.9 (tags/v3.11.9:de54cf5, Apr  2 2024, 10:12:12) [MSC v.1938 64 bit (AMD64)]\n"
     ]
    }
   ],
   "source": [
    "import sys  # this module have sys.argv and sys. # used for cml arguments # args will \n",
    "print(sys.argv)         # List of command-line arguments\n",
    "print(sys.path)         # List of paths for module search\n",
    "print(sys.version)      # Returns the Python version\n",
    "\n",
    "# sys.exit()    # Exits PROGRAM\n",
    "# sys.exit(0)   # Exits PROGRAM abnormally\n",
    "# sys.exit(1)   # Exits PROGRAM normally\n"
   ]
  },
  {
   "cell_type": "code",
   "execution_count": 6,
   "id": "39e3cd71",
   "metadata": {},
   "outputs": [
    {
     "name": "stdout",
     "output_type": "stream",
     "text": [
      "Windows\n",
      "10\n",
      "Intel64 Family 6 Model 154 Stepping 4, GenuineIntel\n"
     ]
    }
   ],
   "source": [
    "import platform\n",
    "print(platform.system())\n",
    "print(platform.release())\n",
    "print(platform.processor())"
   ]
  },
  {
   "cell_type": "code",
   "execution_count": 12,
   "id": "8106272f",
   "metadata": {},
   "outputs": [
    {
     "name": "stdout",
     "output_type": "stream",
     "text": [
      "5.0\n",
      "8.0\n",
      "12\n",
      "13\n",
      "13\n",
      "13\n",
      "13\n",
      "12\n",
      "12\n",
      "12\n",
      "62.0\n",
      "62\n",
      "120\n",
      "15\n",
      "1.0986122886681098\n",
      "0.8939966636005579\n",
      "0.5253219888177297\n",
      "-1.995200412208242\n",
      "2578.3100780887044\n",
      "0.5235987755982988\n"
     ]
    }
   ],
   "source": [
    "import math\n",
    "print(math.sqrt(25))\n",
    "print(math.pow(2,3))\n",
    "print(round(12.3))\n",
    "print(round(12.8))\n",
    "print(math.ceil(12.3))\n",
    "print(math.ceil(12.8))\n",
    "print(math.ceil(12.1))\n",
    "print(math.floor(12.3))\n",
    "print(math.floor(12.8))\n",
    "print(math.floor(12.0))\n",
    "print(math.fabs(-62))\n",
    "print(abs(-62))\n",
    "print(math.factorial(5))\n",
    "print(math.gcd(15,90))\n",
    "print(math.log(3))\n",
    "print(math.sin(90))\n",
    "print(math.cos(45))\n",
    "print(math.tan(90))\n",
    "print(math.degrees(45))\n",
    "print(math.radians(30))\n"
   ]
  },
  {
   "cell_type": "code",
   "execution_count": null,
   "id": "39e9c6ec",
   "metadata": {},
   "outputs": [
    {
     "name": "stdout",
     "output_type": "stream",
     "text": [
      "0.5276294143623982\n",
      "8\n",
      "7.574169132640106\n",
      "sri\n",
      "['sri', 'sai']\n",
      "['sai', 'kiran', 'sri', 'chandra']\n"
     ]
    }
   ],
   "source": [
    "import random\n",
    "\n",
    "# random.seed(1) will give same output\n",
    "print(random.random())                # Returns a float in the range [0.0, 1.0)\n",
    "print(random.randint(1,8))            # Returns random integer between a and b (inclusive)\n",
    "print(random.uniform(1,8))            # Returns a float between a and b\n",
    "\n",
    "names = ['kiran','sri','sai','chandra']\n",
    "print(random.choice(names))           # Returns a random element from a non-empty sequence\n",
    "print(random.choices(names,k = 2))    # Returns a list of k random elements from seq\n",
    "random.shuffle(names)                 # Shuffles the list in place\n",
    "print(names) "
   ]
  },
  {
   "cell_type": "code",
   "execution_count": null,
   "id": "4b05f16d",
   "metadata": {},
   "outputs": [],
   "source": [
    "# snake and ladder game\n"
   ]
  }
 ],
 "metadata": {
  "kernelspec": {
   "display_name": "Python 3",
   "language": "python",
   "name": "python3"
  },
  "language_info": {
   "codemirror_mode": {
    "name": "ipython",
    "version": 3
   },
   "file_extension": ".py",
   "mimetype": "text/x-python",
   "name": "python",
   "nbconvert_exporter": "python",
   "pygments_lexer": "ipython3",
   "version": "3.11.9"
  }
 },
 "nbformat": 4,
 "nbformat_minor": 5
}
