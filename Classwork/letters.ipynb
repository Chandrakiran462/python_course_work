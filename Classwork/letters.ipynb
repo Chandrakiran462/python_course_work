{
 "cells": [
  {
   "cell_type": "code",
   "execution_count": 2,
   "id": "9233ead9",
   "metadata": {},
   "outputs": [
    {
     "name": "stdout",
     "output_type": "stream",
     "text": [
      "* * * * * * * * * \n",
      "        *         \n",
      "        *         \n",
      "        *         \n",
      "        *         \n",
      "        *         \n",
      "        *         \n",
      "        *         \n",
      "* * * * * * * * * \n"
     ]
    }
   ],
   "source": [
    "n = int(input())\n",
    "for rows in range(n):\n",
    "  for cols in range(n):\n",
    "    if rows == 0 or rows == n-1 or cols == n // 2:\n",
    "      print(\"*\",end= \" \")\n",
    "    else:\n",
    "      print(\" \",end = \" \")\n",
    "  print()"
   ]
  },
  {
   "cell_type": "code",
   "execution_count": 4,
   "id": "2e99a038",
   "metadata": {},
   "outputs": [
    {
     "name": "stdout",
     "output_type": "stream",
     "text": [
      "*               * \n",
      "*               * \n",
      "*               * \n",
      "*               * \n",
      "* * * * * * * * * \n",
      "*               * \n",
      "*               * \n",
      "*               * \n",
      "*               * \n"
     ]
    }
   ],
   "source": [
    "n = int(input())\n",
    "for rows in range(n):\n",
    "  for cols in range(n):\n",
    "    if cols == 0 or cols == n-1 or rows == n // 2:\n",
    "      print(\"*\",end= \" \")\n",
    "    else:\n",
    "      print(\" \",end = \" \")\n",
    "  print()"
   ]
  },
  {
   "cell_type": "code",
   "execution_count": 14,
   "id": "53eb107c",
   "metadata": {},
   "outputs": [
    {
     "name": "stdout",
     "output_type": "stream",
     "text": [
      "  * * * * * * * * \n",
      "*                 \n",
      "*                 \n",
      "*                 \n",
      "* * * * * * * * * \n",
      "                * \n",
      "                * \n",
      "                * \n",
      "* * * * * * * * * \n"
     ]
    }
   ],
   "source": [
    "n = int(input())\n",
    "for rows in range(n):\n",
    "  for cols in range(n):\n",
    "    if (rows==0 and cols!=0) or (rows==n-1 and cols!=n-1) or rows==n//2 or (cols == 0 and rows <= n//2 and rows!=0) or (cols == n-1 and rows >= n//2):\n",
    "      print(\"*\",end= \" \")\n",
    "    else:\n",
    "      print(\" \",end = \" \")\n",
    "  print()"
   ]
  },
  {
   "cell_type": "code",
   "execution_count": 15,
   "id": "e01a5784",
   "metadata": {},
   "outputs": [
    {
     "name": "stdout",
     "output_type": "stream",
     "text": [
      "* * * * * * * * * \n",
      "*               * \n",
      "*               * \n",
      "*               * \n",
      "* * * * * * * * * \n",
      "*               * \n",
      "*               * \n",
      "*               * \n",
      "*               * \n"
     ]
    }
   ],
   "source": [
    "n = int(input())\n",
    "for rows in range(n):\n",
    "  for cols in range(n):\n",
    "    if rows == 0 or cols == 0 or cols == n-1 or rows == n // 2:\n",
    "      print(\"*\",end= \" \")\n",
    "    else:\n",
    "      print(\" \",end = \" \")\n",
    "  print()"
   ]
  },
  {
   "cell_type": "code",
   "execution_count": null,
   "id": "500f6753",
   "metadata": {},
   "outputs": [
    {
     "name": "stdout",
     "output_type": "stream",
     "text": [
      "*               * \n",
      "*               * \n",
      "*               * \n",
      "*               * \n",
      "*               * \n",
      "  *               \n",
      "    *             \n",
      "      *           \n",
      "        *         \n"
     ]
    }
   ],
   "source": [
    "n = int(input())\n",
    "for rows in range(n):\n",
    "    for cols in range(n):\n",
    "        if (cols == 0 or cols == n-1) and rows <= n//2 or (rows-cols == n // 2 and rows>=n//2) or  :\n",
    "            print(\"*\",end= \" \")\n",
    "        else:\n",
    "            print(\" \",end = \" \")\n",
    "        \n",
    "    print()"
   ]
  }
 ],
 "metadata": {
  "kernelspec": {
   "display_name": "Python 3",
   "language": "python",
   "name": "python3"
  },
  "language_info": {
   "codemirror_mode": {
    "name": "ipython",
    "version": 3
   },
   "file_extension": ".py",
   "mimetype": "text/x-python",
   "name": "python",
   "nbconvert_exporter": "python",
   "pygments_lexer": "ipython3",
   "version": "3.11.9"
  }
 },
 "nbformat": 4,
 "nbformat_minor": 5
}
