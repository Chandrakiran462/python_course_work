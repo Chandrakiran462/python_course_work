{
 "cells": [
  {
   "cell_type": "markdown",
   "id": "f66ff610",
   "metadata": {},
   "source": [
    "#### File and Directory Operations\n",
    "File and directory operations are essential for handling stored data. Python provides built-in\n",
    "functions through the open(), os, and shutil modules to perform these tasks efficiently.\n",
    "\n",
    "\n",
    "file operations\\\n",
    "read\\\n",
    "write\\\n",
    "append\\\n",
    "binary\n",
    "```\\\n",
    "r       read\n",
    "w       write\n",
    "a       append\n",
    "r+      read+write\n",
    "w+      write+read\n",
    "a+      append+read\n"
   ]
  },
  {
   "cell_type": "code",
   "execution_count": 3,
   "id": "3e8bc916",
   "metadata": {},
   "outputs": [
    {
     "name": "stdout",
     "output_type": "stream",
     "text": [
      "\n",
      " File content using read(): ï»¿chandrakiran5292@gmail.com\n",
      "yangyan5292@gmail.com\n",
      "srinarayan5292@gmail.com\n",
      "iamkira5292@gmail.com\n",
      "\n",
      "\n",
      " File content using readlines(): ['ï»¿chandrakiran5292@gmail.com\\n', 'yangyan5292@gmail.com\\n', 'srinarayan5292@gmail.com\\n', 'iamkira5292@gmail.com\\n']\n",
      "\n",
      " File content using readline(): ï»¿chandrakiran5292@gmail.com\n",
      "\n"
     ]
    }
   ],
   "source": [
    "try:\n",
    "    file = open('dsda.csv','r')\n",
    "except FileNotFoundError:\n",
    "    print(\"File is not present\")\n",
    "else:\n",
    "    read = file.read()\n",
    "    file.seek(0)\n",
    "    readlines = file.readlines()\n",
    "    file.seek(0)\n",
    "    readline = file.readline()\n",
    "    print(f\"\\n File content using read(): {read}\")\n",
    "    print(f\"\\n File content using readlines(): {readlines}\")\n",
    "    print(f\"\\n File content using readline(): {readline}\")\n",
    "    \n",
    "    \n"
   ]
  },
  {
   "cell_type": "code",
   "execution_count": 2,
   "id": "466f3ad4",
   "metadata": {},
   "outputs": [
    {
     "name": "stdout",
     "output_type": "stream",
     "text": [
      "\n",
      "Name:\n",
      "sai\n",
      "chandra\n",
      "kiran\n",
      "rest of the code\n"
     ]
    }
   ],
   "source": [
    "try:\n",
    "    file = open('dsda.txt','a+')\n",
    "except FileNotFoundError:\n",
    "    print('file not found')\n",
    "else:\n",
    "    file.write('\\nName:\\nsai\\nchandra\\nkiran')\n",
    "    file.seek(0)\n",
    "    print(file.read())\n",
    "    file.close()\n",
    "finally:\n",
    "    print('rest of the code')"
   ]
  },
  {
   "cell_type": "code",
   "execution_count": 7,
   "id": "5eafbb55",
   "metadata": {},
   "outputs": [
    {
     "name": "stdout",
     "output_type": "stream",
     "text": [
      "\n",
      "Name:\n",
      "sri\n",
      "Name:\n",
      "sai\n",
      "chandra\n",
      "kiranfile operations\n",
      "file operations\n",
      "\n",
      "Name:\n",
      "sri\n",
      "Name:\n",
      "sai\n",
      "chandra\n",
      "kiranfile operations\n",
      "file operations\n",
      "file operations\n"
     ]
    }
   ],
   "source": [
    "with open ('dsda.txt','r+') as file:\n",
    "    print(file.read())\n",
    "    file.write('\\nfile operations')\n",
    "    file.seek(0)\n",
    "    print(file.read())\n",
    "    file.close()"
   ]
  },
  {
   "cell_type": "code",
   "execution_count": 16,
   "id": "dc987cc4",
   "metadata": {},
   "outputs": [
    {
     "name": "stdout",
     "output_type": "stream",
     "text": [
      "c:\\Users\\Lenovo\\Desktop\\Python-Course-Work\\python_course_work\\Classwork\n"
     ]
    }
   ],
   "source": [
    "import os \n",
    "print(os.getcwd())\n",
    "if not os.path.exists('file operation example'):\n",
    "    os.mkdir('file operation example')\n",
    "\n"
   ]
  },
  {
   "cell_type": "code",
   "execution_count": 31,
   "id": "f91adcd0",
   "metadata": {},
   "outputs": [],
   "source": [
    "import os\n",
    "if os.path.exists('file operation example'):\n",
    "    os.rmdir('file operation example')"
   ]
  },
  {
   "cell_type": "code",
   "execution_count": 20,
   "id": "fc38b0b2",
   "metadata": {},
   "outputs": [
    {
     "name": "stdout",
     "output_type": "stream",
     "text": [
      "c:\\Users\\Lenovo\\Desktop\\Python-Course-Work\\python_course_work\\Classwork\n"
     ]
    }
   ],
   "source": [
    "import os \n",
    "print(os.getcwd())\n",
    "if not os.path.exists('file operation example'):\n",
    "    os.mkdir('file operation example')\n",
    "\n",
    "os.makedirs('file operation example\\python')"
   ]
  },
  {
   "cell_type": "code",
   "execution_count": 1,
   "id": "9b6f95e0",
   "metadata": {},
   "outputs": [
    {
     "name": "stdout",
     "output_type": "stream",
     "text": [
      "c:\\Users\\Lenovo\\Desktop\\Python-Course-Work\\python_course_work\\Classwork\n"
     ]
    }
   ],
   "source": [
    "import os \n",
    "import shutil\n",
    "print(os.getcwd())\n",
    "if not os.path.exists('file operation example'):\n",
    "    os.mkdir('file operation example')\n",
    "    os.makedirs('file operation example\\python')\n",
    "\n",
    "shutil.rmtree('file operation example')"
   ]
  },
  {
   "cell_type": "code",
   "execution_count": 1,
   "id": "79829ff1",
   "metadata": {},
   "outputs": [
    {
     "ename": "PermissionError",
     "evalue": "[WinError 32] The process cannot access the file because it is being used by another process: 'dsda.csv'",
     "output_type": "error",
     "traceback": [
      "\u001b[31m---------------------------------------------------------------------------\u001b[39m",
      "\u001b[31mPermissionError\u001b[39m                           Traceback (most recent call last)",
      "\u001b[36mCell\u001b[39m\u001b[36m \u001b[39m\u001b[32mIn[1]\u001b[39m\u001b[32m, line 2\u001b[39m\n\u001b[32m      1\u001b[39m \u001b[38;5;28;01mimport\u001b[39;00m\u001b[38;5;250m \u001b[39m\u001b[34;01mos\u001b[39;00m\n\u001b[32m----> \u001b[39m\u001b[32m2\u001b[39m \u001b[43mos\u001b[49m\u001b[43m.\u001b[49m\u001b[43mremove\u001b[49m\u001b[43m(\u001b[49m\u001b[33;43m'\u001b[39;49m\u001b[33;43mdsda.csv\u001b[39;49m\u001b[33;43m'\u001b[39;49m\u001b[43m)\u001b[49m\n",
      "\u001b[31mPermissionError\u001b[39m: [WinError 32] The process cannot access the file because it is being used by another process: 'dsda.csv'"
     ]
    }
   ],
   "source": [
    "import os\n",
    "os.remove('dsda.csv')"
   ]
  },
  {
   "cell_type": "code",
   "execution_count": 32,
   "id": "9b140470",
   "metadata": {},
   "outputs": [
    {
     "name": "stdout",
     "output_type": "stream",
     "text": [
      "c:\\Users\\Lenovo\\Desktop\\Python-Course-Work\\python_course_work\\Classwork\n",
      "\n"
     ]
    }
   ],
   "source": [
    "import os \n",
    "print(os.getcwd())\n",
    "if not os.path.exists('file operation example'):\n",
    "    os.mkdir('file operation example')\n",
    "\n",
    "filepath = os.path.join('file operation example\\demo.txt')\n",
    "with open (filepath,'w+') as file:\n",
    "    file.write(\"Name:\\nKiran\")\n",
    "    print(file.read())"
   ]
  },
  {
   "cell_type": "code",
   "execution_count": 2,
   "id": "f2ee5fe7",
   "metadata": {},
   "outputs": [
    {
     "name": "stdout",
     "output_type": "stream",
     "text": [
      "ï»¿chandrakiran5292@gmail.com\n",
      "yangyan5292@gmail.com\n",
      "srinarayan5292@gmail.com\n",
      "iamkira5292@gmail.com\n",
      "\n"
     ]
    }
   ],
   "source": [
    "file = open('dsda.csv','r')\n",
    "print(file.read())"
   ]
  },
  {
   "cell_type": "code",
   "execution_count": 1,
   "id": "ec506720",
   "metadata": {},
   "outputs": [
    {
     "name": "stdout",
     "output_type": "stream",
     "text": [
      "Email Sent to chandrakiran5292@gmail.com\n",
      "Email Sent to yangyan5292@gmail.com\n",
      "Email Sent to srinarayan5292@gmail.com\n",
      "Email Sent to iamkira5292@gmail.com\n"
     ]
    }
   ],
   "source": [
    "import EmailAutomation as ea\n",
    "\n",
    "subject = input(\"Enter email subject: \")\n",
    "body = input(\"Enter email body: \")\n",
    "    \n",
    "choice = input(\"Do you want to send (1) Single Email or (2) Bulk Emails? Enter 1 or 2: \")\n",
    "\n",
    "if choice == \"1\":\n",
    "    recipient = input(\"Enter recipient email: \")\n",
    "    ea.send_email(recipient, subject, body)\n",
    "\n",
    "elif choice == \"2\":\n",
    "    csv_file = input(\"Enter path to CSV file with email addresses: \")\n",
    "    ea.send_bulk_emails(csv_file, subject, body)\n",
    "else:\n",
    "    print(\"Invalid choice! Please enter 1 or 2.\")\n",
    "\n"
   ]
  }
 ],
 "metadata": {
  "kernelspec": {
   "display_name": "Python 3",
   "language": "python",
   "name": "python3"
  },
  "language_info": {
   "codemirror_mode": {
    "name": "ipython",
    "version": 3
   },
   "file_extension": ".py",
   "mimetype": "text/x-python",
   "name": "python",
   "nbconvert_exporter": "python",
   "pygments_lexer": "ipython3",
   "version": "3.11.9"
  }
 },
 "nbformat": 4,
 "nbformat_minor": 5
}
