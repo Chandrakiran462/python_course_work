{
 "cells": [
  {
   "cell_type": "markdown",
   "id": "f66ff610",
   "metadata": {},
   "source": [
    "#### File and Directory Operations\n",
    "File and directory operations are essential for handling stored data. Python provides built-in\n",
    "functions through the open(), os, and shutil modules to perform these tasks efficiently.\n",
    "\n",
    "\n",
    "file operations\\\n",
    "read\\\n",
    "write\\\n",
    "append\\\n",
    "binary\n",
    "```\\\n",
    "r       read\n",
    "w       write\n",
    "a       append\n",
    "r+      read+write\n",
    "w+      write+read\n",
    "a+      append+read\n"
   ]
  },
  {
   "cell_type": "code",
   "execution_count": null,
   "id": "3e8bc916",
   "metadata": {},
   "outputs": [
    {
     "name": "stdout",
     "output_type": "stream",
     "text": [
      "\n",
      " File content using read(): Hello Kiran\n",
      "what is this\n",
      "\n",
      " File content using readlines(): ['Hello Kiran\\n', 'what is this']\n",
      "\n",
      " File content using readline(): Hello Kiran\n",
      "\n"
     ]
    }
   ],
   "source": [
    "try:\n",
    "    file = open('fileop.txt','r')\n",
    "except FileNotFoundError:\n",
    "    print(\"File is not present\")\n",
    "else:\n",
    "    read = file.read()\n",
    "    file.seek(0)\n",
    "    readlines = file.readlines()\n",
    "    file.seek(0)\n",
    "    readline = file.readline()\n",
    "    print(f\"\\n File content using read(): {read}\")\n",
    "    print(f\"\\n File content using readlines(): {readlines}\")\n",
    "    print(f\"\\n File content using readline(): {readline}\")\n",
    "    \n",
    "    \n"
   ]
  },
  {
   "cell_type": "code",
   "execution_count": 3,
   "id": "466f3ad4",
   "metadata": {},
   "outputs": [
    {
     "name": "stdout",
     "output_type": "stream",
     "text": [
      "\n",
      "Name:\n",
      "sri\n",
      "Name:\n",
      "sai\n",
      "chandra\n",
      "kiran\n",
      "rest of the code\n"
     ]
    }
   ],
   "source": [
    "try:\n",
    "    file = open('dsda.txt','a+')\n",
    "except FileNotFoundError:\n",
    "    print('file not found')\n",
    "else:\n",
    "    file.write('\\nName:\\nsai\\nchandra\\nkiran')\n",
    "    file.seek(0)\n",
    "    print(file.read())\n",
    "    file.close()\n",
    "finally:\n",
    "    print('rest of the code')"
   ]
  },
  {
   "cell_type": "code",
   "execution_count": 7,
   "id": "5eafbb55",
   "metadata": {},
   "outputs": [
    {
     "name": "stdout",
     "output_type": "stream",
     "text": [
      "\n",
      "Name:\n",
      "sri\n",
      "Name:\n",
      "sai\n",
      "chandra\n",
      "kiranfile operations\n",
      "file operations\n",
      "\n",
      "Name:\n",
      "sri\n",
      "Name:\n",
      "sai\n",
      "chandra\n",
      "kiranfile operations\n",
      "file operations\n",
      "file operations\n"
     ]
    }
   ],
   "source": [
    "with open ('dsda.txt','r+') as file:\n",
    "    print(file.read())\n",
    "    file.write('\\nfile operations')\n",
    "    file.seek(0)\n",
    "    print(file.read())\n",
    "    file.close()"
   ]
  },
  {
   "cell_type": "code",
   "execution_count": 16,
   "id": "dc987cc4",
   "metadata": {},
   "outputs": [
    {
     "name": "stdout",
     "output_type": "stream",
     "text": [
      "c:\\Users\\Lenovo\\Desktop\\Python-Course-Work\\python_course_work\\Classwork\n"
     ]
    }
   ],
   "source": [
    "import os \n",
    "print(os.getcwd())\n",
    "if not os.path.exists('file operation example'):\n",
    "    os.mkdir('file operation example')\n",
    "\n"
   ]
  },
  {
   "cell_type": "code",
   "execution_count": 31,
   "id": "f91adcd0",
   "metadata": {},
   "outputs": [],
   "source": [
    "import os\n",
    "if os.path.exists('file operation example'):\n",
    "    os.rmdir('file operation example')"
   ]
  },
  {
   "cell_type": "code",
   "execution_count": 20,
   "id": "fc38b0b2",
   "metadata": {},
   "outputs": [
    {
     "name": "stdout",
     "output_type": "stream",
     "text": [
      "c:\\Users\\Lenovo\\Desktop\\Python-Course-Work\\python_course_work\\Classwork\n"
     ]
    }
   ],
   "source": [
    "import os \n",
    "print(os.getcwd())\n",
    "if not os.path.exists('file operation example'):\n",
    "    os.mkdir('file operation example')\n",
    "\n",
    "os.makedirs('file operation example\\python')"
   ]
  },
  {
   "cell_type": "code",
   "execution_count": 1,
   "id": "9b6f95e0",
   "metadata": {},
   "outputs": [
    {
     "name": "stdout",
     "output_type": "stream",
     "text": [
      "c:\\Users\\Lenovo\\Desktop\\Python-Course-Work\\python_course_work\\Classwork\n"
     ]
    }
   ],
   "source": [
    "import os \n",
    "import shutil\n",
    "print(os.getcwd())\n",
    "if not os.path.exists('file operation example'):\n",
    "    os.mkdir('file operation example')\n",
    "    os.makedirs('file operation example\\python')\n",
    "\n",
    "shutil.rmtree('file operation example')"
   ]
  },
  {
   "cell_type": "code",
   "execution_count": 30,
   "id": "79829ff1",
   "metadata": {},
   "outputs": [],
   "source": [
    "import os\n",
    "os.remove('filepath')"
   ]
  },
  {
   "cell_type": "code",
   "execution_count": 32,
   "id": "9b140470",
   "metadata": {},
   "outputs": [
    {
     "name": "stdout",
     "output_type": "stream",
     "text": [
      "c:\\Users\\Lenovo\\Desktop\\Python-Course-Work\\python_course_work\\Classwork\n",
      "\n"
     ]
    }
   ],
   "source": [
    "import os \n",
    "print(os.getcwd())\n",
    "if not os.path.exists('file operation example'):\n",
    "    os.mkdir('file operation example')\n",
    "\n",
    "filepath = os.path.join('file operation example\\demo.txt')\n",
    "with open (filepath,'w+') as file:\n",
    "    file.write(\"Name:\\nKiran\")\n",
    "    print(file.read())"
   ]
  }
 ],
 "metadata": {
  "kernelspec": {
   "display_name": "Python 3",
   "language": "python",
   "name": "python3"
  },
  "language_info": {
   "codemirror_mode": {
    "name": "ipython",
    "version": 3
   },
   "file_extension": ".py",
   "mimetype": "text/x-python",
   "name": "python",
   "nbconvert_exporter": "python",
   "pygments_lexer": "ipython3",
   "version": "3.11.9"
  }
 },
 "nbformat": 4,
 "nbformat_minor": 5
}
