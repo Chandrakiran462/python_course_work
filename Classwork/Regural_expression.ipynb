{
 "cells": [
  {
   "cell_type": "markdown",
   "id": "798d4d2f",
   "metadata": {},
   "source": [
    "***Regular Expressions***\n",
    "to validate data or pattrens in the code\n",
    "\n",
    "module = re - regular expression\n",
    "\n",
    "re.match()      #checks whether pattren starts with.\n",
    "re.search()     # search entire pattren for the given pattren to search\n",
    "re.findall()    # returns list of all occurance in the pattren\n",
    "re.finditer()   # it returns the position of the given pattren when it is occured in the pattren\n",
    "re.fullmatch()  # checks if entire pattren is same or not\n",
    "re.split()      # split can split the pattren for given list of charaters                     \n",
    "re.sub()        # sub will replace if the given pattren is occur in original string it will replace           them  with given character # replace the string"
   ]
  },
  {
   "cell_type": "code",
   "execution_count": 1,
   "id": "ba519aa1",
   "metadata": {},
   "outputs": [
    {
     "name": "stdout",
     "output_type": "stream",
     "text": [
      "Hello\n"
     ]
    }
   ],
   "source": [
    "# match\n",
    "\n",
    "import re\n",
    "\n",
    "res = re.match('Hello','Hello world')\n",
    "\n",
    "print(res.group())"
   ]
  },
  {
   "cell_type": "code",
   "execution_count": 3,
   "id": "399be6ee",
   "metadata": {},
   "outputs": [
    {
     "name": "stdout",
     "output_type": "stream",
     "text": [
      "No pattren\n"
     ]
    }
   ],
   "source": [
    "# match\n",
    "\n",
    "import re\n",
    "\n",
    "res = re.match(r'aeiou','Hello world')\n",
    "\n",
    "print(res.group() if res else 'No pattren')"
   ]
  },
  {
   "cell_type": "code",
   "execution_count": 4,
   "id": "a8d8a3a1",
   "metadata": {},
   "outputs": [
    {
     "name": "stdout",
     "output_type": "stream",
     "text": [
      "No pattren\n"
     ]
    }
   ],
   "source": [
    "# match\n",
    "\n",
    "import re\n",
    "\n",
    "res = re.match(r'A-Z','Hello world')        # Raw Expression\n",
    "\n",
    "print(res.group() if res else 'No pattren')"
   ]
  },
  {
   "cell_type": "code",
   "execution_count": 6,
   "id": "19940529",
   "metadata": {},
   "outputs": [
    {
     "name": "stdout",
     "output_type": "stream",
     "text": [
      "5\n"
     ]
    }
   ],
   "source": [
    "# match\n",
    "\n",
    "import re\n",
    "\n",
    "res = re.match(r'\\d','58Hello world')        # Raw Expression\n",
    "\n",
    "print(res.group() if res else 'No pattren')"
   ]
  },
  {
   "cell_type": "code",
   "execution_count": 7,
   "id": "19e6e8d5",
   "metadata": {},
   "outputs": [
    {
     "name": "stdout",
     "output_type": "stream",
     "text": [
      "58\n"
     ]
    }
   ],
   "source": [
    "# match\n",
    "\n",
    "import re\n",
    "\n",
    "res = re.match(r'\\d{2}','58Hello world')        # Raw Expression\n",
    "\n",
    "print(res.group() if res else 'No pattren')"
   ]
  },
  {
   "cell_type": "code",
   "execution_count": 9,
   "id": "b13cb3f4",
   "metadata": {},
   "outputs": [
    {
     "name": "stdout",
     "output_type": "stream",
     "text": [
      "h\n"
     ]
    }
   ],
   "source": [
    "# match\n",
    "\n",
    "import re\n",
    "\n",
    "res = re.match(r'[a-z]','hello world')        # Raw Expression\n",
    "\n",
    "print(res.group() if res else 'No pattren')"
   ]
  },
  {
   "cell_type": "code",
   "execution_count": 25,
   "id": "3e868cd2",
   "metadata": {},
   "outputs": [
    {
     "name": "stdout",
     "output_type": "stream",
     "text": [
      "😊❤️\n"
     ]
    }
   ],
   "source": [
    "# match\n",
    "\n",
    "import re\n",
    "\n",
    "res = re.match(r'[❤️😊@!#$%^&*]{3}','😊❤️hello world')        # Raw Expression\n",
    "\n",
    "print(res.group() if res else 'No pattren')\n",
    "\n"
   ]
  },
  {
   "cell_type": "code",
   "execution_count": 30,
   "id": "5486f73c",
   "metadata": {},
   "outputs": [
    {
     "name": "stdout",
     "output_type": "stream",
     "text": [
      "99999\n"
     ]
    }
   ],
   "source": [
    "# search\n",
    "\n",
    "import re\n",
    "\n",
    "res = re.search(r'[1-9]{5}','ds-99999-da-14')\n",
    "\n",
    "print(res.group() if res else 'No pattren')\n"
   ]
  },
  {
   "cell_type": "code",
   "execution_count": 32,
   "id": "ebcf0f08",
   "metadata": {},
   "outputs": [
    {
     "name": "stdout",
     "output_type": "stream",
     "text": [
      "🤣🎊🎈👍😂\n"
     ]
    }
   ],
   "source": [
    "# search\n",
    "\n",
    "import re\n",
    "\n",
    "res = re.search(r'[😊🎉🌃🤣🎊🎈👍😂]{5}','hello😊 hi🎉 good🌃 haha🤣🎊🎈👍😂')\n",
    "\n",
    "print(res.group() if res else 'No pattren')"
   ]
  },
  {
   "cell_type": "code",
   "execution_count": 35,
   "id": "c1a28bf0",
   "metadata": {},
   "outputs": [
    {
     "name": "stdout",
     "output_type": "stream",
     "text": [
      "['😊', '🎉', '🌃', '🤣', '🎊', '🎈', '👍', '😂']\n"
     ]
    }
   ],
   "source": [
    "# findall\n",
    "\n",
    "import re\n",
    "\n",
    "res = re.findall(r'[😊🎉🌃🤣🎊🎈👍😂]','hello 😊 hi 🎉 good 🌃 haha🤣🎊🎈👍😂')\n",
    "\n",
    "# print(res.group() if res else 'No pattren')\n",
    "\n",
    "print(res)"
   ]
  },
  {
   "cell_type": "code",
   "execution_count": 37,
   "id": "4da924e3",
   "metadata": {},
   "outputs": [
    {
     "name": "stdout",
     "output_type": "stream",
     "text": [
      "😊 6\n",
      "🎉 11\n",
      "🌃 18\n",
      "🤣 24\n",
      "🎊 25\n",
      "🎈 26\n",
      "👍 27\n",
      "😂 28\n"
     ]
    }
   ],
   "source": [
    "# finditer\n",
    "\n",
    "import re\n",
    "\n",
    "res = re.finditer(r'[😊🎉🌃🤣🎊🎈👍😂]','hello 😊 hi 🎉 good 🌃 haha🤣🎊🎈👍😂')\n",
    "\n",
    "# print(res.group() if res else 'No pattren')\n",
    "# print(res)\n",
    "\n",
    "for i in res:\n",
    "    print(i.group(),i.start())"
   ]
  },
  {
   "cell_type": "code",
   "execution_count": 48,
   "id": "3f43d735",
   "metadata": {},
   "outputs": [
    {
     "name": "stdout",
     "output_type": "stream",
     "text": [
      "😊🎉🌃🤣🎊🎈👍😂😊🎉🌃🤣🎊🎈👍😂\n"
     ]
    }
   ],
   "source": [
    "# fullmatch\n",
    "\n",
    "import re\n",
    "\n",
    "res = re.fullmatch(r'(😊🎉🌃🤣🎊🎈👍😂)+','😊🎉🌃🤣🎊🎈👍😂😊🎉🌃🤣🎊🎈👍😂')\n",
    "# full match checks pattren is matched including positions  \n",
    "\n",
    "print(res.group() if res else 'No pattren')"
   ]
  },
  {
   "cell_type": "code",
   "execution_count": 51,
   "id": "ad1b8c0a",
   "metadata": {},
   "outputs": [
    {
     "name": "stdout",
     "output_type": "stream",
     "text": [
      "9864875686\n"
     ]
    }
   ],
   "source": [
    "# fullmatch\n",
    "\n",
    "import re\n",
    "\n",
    "res = re.fullmatch(r'^[6-9]\\d{9}','9864875686')         # '^' used to check [starts with]\n",
    "# full match checks pattren is matched including positions  \n",
    "\n",
    "print(res.group() if res else 'No pattren')"
   ]
  },
  {
   "cell_type": "code",
   "execution_count": 52,
   "id": "26026922",
   "metadata": {},
   "outputs": [
    {
     "name": "stdout",
     "output_type": "stream",
     "text": [
      "DA-14\n"
     ]
    }
   ],
   "source": [
    "import re\n",
    "\n",
    "res = re.fullmatch(r'DA-..','DA-14')         # \"..\" can be anything\n",
    "# full match checks pattren is matched including positions  \n",
    "\n",
    "print(res.group() if res else 'No pattren')"
   ]
  },
  {
   "cell_type": "code",
   "execution_count": 58,
   "id": "4162e1a2",
   "metadata": {},
   "outputs": [
    {
     "name": "stdout",
     "output_type": "stream",
     "text": [
      "['hot', 'hit', 'hat', 'hii', 'hop']\n"
     ]
    }
   ],
   "source": [
    "import re\n",
    "\n",
    "res = re.findall(r'h..','hot hit hat hii hop')         # \"..\" can be anything  \n",
    "\n",
    "# print(res.group() if res else 'No pattren')\n",
    "print(res)"
   ]
  },
  {
   "cell_type": "code",
   "execution_count": 59,
   "id": "fe6d823a",
   "metadata": {},
   "outputs": [
    {
     "name": "stdout",
     "output_type": "stream",
     "text": [
      "['python', 'pathon']\n"
     ]
    }
   ],
   "source": [
    "import re\n",
    "\n",
    "res = re.findall(r'p..h.n','python pythox pathon')         # \"..\" can be anything  \n",
    "\n",
    "print(res)"
   ]
  },
  {
   "cell_type": "code",
   "execution_count": 60,
   "id": "b078db4f",
   "metadata": {},
   "outputs": [
    {
     "name": "stdout",
     "output_type": "stream",
     "text": [
      "['p', 'y', 't', 'h', 'o', 'n', 'p', 'y', 't', 'h', 'o', 'x', 'p', 'a', 't', 'h', 'o', 'n']\n"
     ]
    }
   ],
   "source": [
    "import re\n",
    "\n",
    "res = re.findall(r'\\w','python pythox pathon')         # \"\\w\" prints all characters as list  \n",
    "\n",
    "print(res)"
   ]
  },
  {
   "cell_type": "code",
   "execution_count": 61,
   "id": "94bf2f50",
   "metadata": {},
   "outputs": [
    {
     "name": "stdout",
     "output_type": "stream",
     "text": [
      "[' ', ' ']\n"
     ]
    }
   ],
   "source": [
    "import re\n",
    "\n",
    "res = re.findall(r'\\s','python pythox pathon')         # \"\\s\" prints all spaces as list  \n",
    "\n",
    "print(res)"
   ]
  },
  {
   "cell_type": "code",
   "execution_count": 86,
   "id": "b8e71a18",
   "metadata": {},
   "outputs": [
    {
     "name": "stdout",
     "output_type": "stream",
     "text": [
      "['@', '-']\n"
     ]
    }
   ],
   "source": [
    "import re\n",
    "\n",
    "res = re.findall(r'\\W','python@pythox-pathon')         # \"\\W\" prints all non-characters as list  \n",
    "\n",
    "print(res)"
   ]
  },
  {
   "cell_type": "code",
   "execution_count": null,
   "id": "c0ec21a0",
   "metadata": {},
   "outputs": [
    {
     "name": "stdout",
     "output_type": "stream",
     "text": [
      "['p', 'y', 't', 'h', 'o', 'n', 'p', 'y', 't', 'h', 'o', 'x', 'p', 'a', 't', 'h', 'o', 'n']\n"
     ]
    }
   ],
   "source": [
    "import re\n",
    "\n",
    "res = re.findall(r'\\S','python pythox pathon')         # \"\\S\" prints all characters as list  \n",
    "\n",
    "print(res)"
   ]
  },
  {
   "cell_type": "code",
   "execution_count": null,
   "id": "9aec8f99",
   "metadata": {},
   "outputs": [
    {
     "name": "stdout",
     "output_type": "stream",
     "text": [
      "['python', 'pythox', 'pathon']\n"
     ]
    }
   ],
   "source": [
    "import re\n",
    "\n",
    "res = re.findall(r'\\w+','python pythox pathon')         # \"\\w+\" prints all words as list  \n",
    "\n",
    "print(res)"
   ]
  },
  {
   "cell_type": "code",
   "execution_count": null,
   "id": "04aae4ff",
   "metadata": {},
   "outputs": [
    {
     "name": "stdout",
     "output_type": "stream",
     "text": [
      "['python', 'pythox', 'pathon', 'python', 'hythos', 'hi', 'pyhtin']\n"
     ]
    }
   ],
   "source": [
    "# split\n",
    "\n",
    "import re\n",
    "\n",
    "res = re.split(r'[,-/\";:]','python,pythox-pathon/python\"hythos;hi:pyhtin')\n",
    "# split can split the pattren for given list of charaters\n",
    "\n",
    "print(res)"
   ]
  },
  {
   "cell_type": "code",
   "execution_count": 67,
   "id": "d05efc8f",
   "metadata": {},
   "outputs": [
    {
     "name": "stdout",
     "output_type": "stream",
     "text": [
      "['hello', 'hi', 'good', 'haha', 'wohoo', 'pop', 'up', 'cry', '']\n"
     ]
    }
   ],
   "source": [
    "# split\n",
    "\n",
    "import re\n",
    "\n",
    "res = re.split(r'[😊🎉🌃🤣🎊🎈👍😂]','hello😊hi🎉good🌃haha🤣wohoo🎊pop🎈up👍cry😂')\n",
    "# split can split the pattren for given list of charaters\n",
    "\n",
    "print(res)"
   ]
  },
  {
   "cell_type": "code",
   "execution_count": null,
   "id": "b0a32a07",
   "metadata": {},
   "outputs": [
    {
     "name": "stdout",
     "output_type": "stream",
     "text": [
      "Pyht❤️n pr❤️gr❤️mm❤️ng l❤️ng❤️❤️g❤️\n"
     ]
    }
   ],
   "source": [
    "# sub\n",
    "import re   # re - regular Expressions\n",
    "\n",
    "res = re.sub(r'[aeiouAEIOU]','❤️','Pyhton programming language')\n",
    "# sub will replace if the given pattren is occur in original string it will replace them with given character\n",
    "# replace the string\n",
    "\n",
    "print(res)"
   ]
  },
  {
   "cell_type": "code",
   "execution_count": null,
   "id": "cbc5f3ae",
   "metadata": {},
   "outputs": [
    {
     "name": "stdout",
     "output_type": "stream",
     "text": [
      "e\n"
     ]
    }
   ],
   "source": [
    "import re   # re - regular Expressions\n",
    "\n",
    "res = re.search(r'[aeiouAEIOU]$','Pyhton programming language') #$ ends with\n",
    "\n",
    "print(res.group() if res else 'No pattren')"
   ]
  },
  {
   "cell_type": "code",
   "execution_count": 84,
   "id": "e11e1c1d",
   "metadata": {},
   "outputs": [
    {
     "name": "stdout",
     "output_type": "stream",
     "text": [
      "['5', '2', '6', '5', '5', '8', '8', '6', '6', '4', '8', '8', '6', '5', '5', '5', '5', '6', '5', '5', '8', '5', '5', '4', '4', '5', '5', '5', '6', '6', '6', '6', '5', '6', '6', '6']\n",
      "['52', '65', '88', '66', '88']\n",
      "['666']\n",
      "['6558', '5544', '5556', '6665']\n",
      "['52', '65', '88', '66', '88', '65', '65', '55', '55', '66', '66']\n"
     ]
    }
   ],
   "source": [
    "import re \n",
    "\n",
    "res = re.findall(r'\\d','52 65 5 88 66 4 88 65555 6558 5544 5556 6665 666')\n",
    "res1 = re.findall(r'\\b\\d{2}\\b','52 65 5 88 66 4 88 65555 6558 5544 5556 6665 666')\n",
    "res2 = re.findall(r'\\b\\d{3}\\b','52 65 5 88 66 4 88 65555 6558 5544 5556 6665 666')\n",
    "res3 = re.findall(r'\\b\\d{4}\\b','52 65 5 88 66 4 88 65555 6558 5544 5556 6665 666')\n",
    "res4 = re.findall(r'\\b\\d{2}','52 65 5 88 66 4 88 65555 6558 5544 5556 6665 666')\n",
    "\n",
    "print(res)\n",
    "print(res1)\n",
    "print(res2)\n",
    "print(res3)\n",
    "print(res4)\n"
   ]
  },
  {
   "cell_type": "code",
   "execution_count": null,
   "id": "ff5091d6",
   "metadata": {},
   "outputs": [
    {
     "name": "stdout",
     "output_type": "stream",
     "text": [
      "sri sai chandra kiran\n"
     ]
    }
   ],
   "source": [
    "import re\n",
    "# name \n",
    "pattren = r'^[A-Za-z]{2,25}( [A-Za-z]{2,25})+$'\n",
    "n = input()\n",
    "res = re.fullmatch(pattren,n)\n",
    "\n",
    "print(res.group() if res else 'No pattren')\n"
   ]
  },
  {
   "cell_type": "code",
   "execution_count": 92,
   "id": "44fce62a",
   "metadata": {},
   "outputs": [
    {
     "name": "stdout",
     "output_type": "stream",
     "text": [
      "Kiran@gmail.com\n"
     ]
    }
   ],
   "source": [
    "import re\n",
    "# email \n",
    "\n",
    "pattren = r'^[A-Za-z0-9._]+@[A-Za-z]+\\.[A-Za-z]{2,3}$'\n",
    "n = input()\n",
    "res = re.fullmatch(pattren,n)\n",
    "\n",
    "print(res.group() if res else 'No pattren')"
   ]
  },
  {
   "cell_type": "code",
   "execution_count": null,
   "id": "f5357d70",
   "metadata": {},
   "outputs": [
    {
     "name": "stdout",
     "output_type": "stream",
     "text": [
      "9877564662\n"
     ]
    }
   ],
   "source": [
    "import re\n",
    "# Phone Number\n",
    "\n",
    "pattren = r'^(?:\\+91|0)?[6-9]\\d{9}$'        # postive look ahead\n",
    "n = input()\n",
    "res = re.fullmatch(pattren,n)\n",
    "\n",
    "print(res.group() if res else 'No pattren')"
   ]
  },
  {
   "cell_type": "code",
   "execution_count": 104,
   "id": "e37ba873",
   "metadata": {},
   "outputs": [
    {
     "name": "stdout",
     "output_type": "stream",
     "text": [
      "Kiran@8956\n"
     ]
    }
   ],
   "source": [
    "import re\n",
    "# password\n",
    "\n",
    "pattren = r'^(?=.*[A-Z])(?=.*[a-b])(?=.*\\d)(?=.*[@$!%*?&])[A-Za-z\\d@$!%*?&]{8,}$'\n",
    "n = input()\n",
    "res = re.fullmatch(pattren,n)\n",
    "\n",
    "print(res.group() if res else 'No pattren')"
   ]
  }
 ],
 "metadata": {
  "kernelspec": {
   "display_name": "Python 3",
   "language": "python",
   "name": "python3"
  },
  "language_info": {
   "codemirror_mode": {
    "name": "ipython",
    "version": 3
   },
   "file_extension": ".py",
   "mimetype": "text/x-python",
   "name": "python",
   "nbconvert_exporter": "python",
   "pygments_lexer": "ipython3",
   "version": "3.11.9"
  }
 },
 "nbformat": 4,
 "nbformat_minor": 5
}
