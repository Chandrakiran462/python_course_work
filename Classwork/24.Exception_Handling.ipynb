{
 "cells": [
  {
   "cell_type": "markdown",
   "id": "848e75dd",
   "metadata": {},
   "source": [
    "#### Exception Handling\n",
    "Error Handling\n",
    "handling run-time Errors\\\n",
    "Exception handling in Python is a mechanism to respond to runtime errors or exceptions. It\n",
    "helps maintain the normal flow of the program even when unexpected events occur. Without\n",
    "proper exception handling, errors can cause programs to crash.\\\n",
    "\n",
    "keywords in Exception Handling\\\n",
    "try\\\n",
    "except\\\n",
    "else\\\n",
    "finally"
   ]
  },
  {
   "cell_type": "code",
   "execution_count": null,
   "id": "ebbdbfaf",
   "metadata": {},
   "outputs": [
    {
     "name": "stdout",
     "output_type": "stream",
     "text": [
      "2\n",
      "8\n",
      "string cannot be added to integer\n"
     ]
    }
   ],
   "source": [
    "# try & except Keyword\n",
    "\n",
    "try:\n",
    "    a = a + 10\n",
    "    l = [1,2,4]\n",
    "    k = [l[2]]\n",
    "    d = {1:2,2:4}\n",
    "    print(d[1])\n",
    "    b = int(input())\n",
    "    print(b)\n",
    "    c = 1 + \"1\"\n",
    "\n",
    "# Exception Handling\n",
    "except NameError:\n",
    "    print('a is not defined')\n",
    "except IndexError:\n",
    "    print('index is out of range')\n",
    "except KeyError:\n",
    "    print('key not present in dictionary')\n",
    "except ValueError:\n",
    "    print('your input is not an Integer ')\n",
    "except TypeError:\n",
    "    print('string cannot be added to integer')\n"
   ]
  },
  {
   "cell_type": "code",
   "execution_count": 28,
   "id": "77b18c3c",
   "metadata": {},
   "outputs": [
    {
     "name": "stdout",
     "output_type": "stream",
     "text": [
      "2\n",
      "Error Occured :invalid literal for int() with base 10: 'df'\n"
     ]
    }
   ],
   "source": [
    "try:\n",
    "    a = a + 10\n",
    "    l = [1,2,4]\n",
    "    k = [l[2]]\n",
    "    d = {1:2,2:4}\n",
    "    print(d[1])\n",
    "    b = int(input())\n",
    "    print(b)\n",
    "    c = 1 + \"1\"\n",
    "\n",
    "# Multiple - Exception Handling\n",
    "except (NameError,IndexError,KeyError,ValueError,TypeError) as e:\n",
    "    print(f'Error Occured :{e}')\n"
   ]
  },
  {
   "cell_type": "code",
   "execution_count": 31,
   "id": "86385ec4",
   "metadata": {},
   "outputs": [
    {
     "name": "stdout",
     "output_type": "stream",
     "text": [
      "2\n",
      "Error Occured :invalid literal for int() with base 10: 'jkl'\n"
     ]
    }
   ],
   "source": [
    "try:\n",
    "    a = a + 10\n",
    "    l = [1,2,4]\n",
    "    k = [l[2]]\n",
    "    d = {1:2,2:4}\n",
    "    print(d[1])\n",
    "    b = int(input())\n",
    "    print(b)\n",
    "    c = 1 + \"1\"\n",
    "\n",
    "# if don't know which error is coming we can use this \"\"Exception\"\"  - Exception Handling\n",
    "except Exception as e:\n",
    "    print(f'Error Occured :{e}')"
   ]
  },
  {
   "cell_type": "code",
   "execution_count": 33,
   "id": "2e85bb39",
   "metadata": {},
   "outputs": [
    {
     "name": "stdout",
     "output_type": "stream",
     "text": [
      "2\n",
      "Error Occured :invalid literal for int() with base 10: 'jkl'\n"
     ]
    }
   ],
   "source": [
    "try:\n",
    "    a = a + 10\n",
    "    l = [1,2,4]\n",
    "    k = [l[2]]\n",
    "    d = {1:2,2:4}\n",
    "    print(d[1])\n",
    "    b = int(input())\n",
    "    print(b)\n",
    "    c = 1 + 15\n",
    "\n",
    "# if don't know which error is coming we can use this \"\"Exception\"\"  - Exception Handling\n",
    "except Exception as e:\n",
    "    print(f'Error Occured :{e}')\n",
    "\n",
    "\n",
    "# if try block is successfully executed without any errors else block will execute \n",
    "else:\n",
    "    print('No Errors')\n",
    "    print(c)\n"
   ]
  },
  {
   "cell_type": "code",
   "execution_count": 37,
   "id": "4213f077",
   "metadata": {},
   "outputs": [
    {
     "name": "stdout",
     "output_type": "stream",
     "text": [
      "2\n",
      "Error Occured :invalid literal for int() with base 10: 'kl'\n",
      "--------Code Executed---------\n"
     ]
    }
   ],
   "source": [
    "try:\n",
    "    a = a + 10\n",
    "    l = [1,2,4]\n",
    "    k = [l[2]]\n",
    "    d = {1:2,2:4}\n",
    "    print(d[1])\n",
    "    b = int(input())\n",
    "    print(b)\n",
    "    c = 1 + 15\n",
    "\n",
    "# if don't know which error is coming we can use this \"\"Exception\"\"  - Exception Handling\n",
    "except Exception as e:\n",
    "    print(f'Error Occured :{e}')\n",
    "\n",
    "\n",
    "# if try block is successfully executed without any errors else block will execute \n",
    "else:\n",
    "    print('No Errors')\n",
    "    print(c)\n",
    "\n",
    "# even if you have errors or No errors you need to print something you can write them under ''finally'' Block\n",
    "finally:\n",
    "    print('Code Executed'.center(30,'-'))"
   ]
  }
 ],
 "metadata": {
  "kernelspec": {
   "display_name": "Python 3",
   "language": "python",
   "name": "python3"
  },
  "language_info": {
   "codemirror_mode": {
    "name": "ipython",
    "version": 3
   },
   "file_extension": ".py",
   "mimetype": "text/x-python",
   "name": "python",
   "nbconvert_exporter": "python",
   "pygments_lexer": "ipython3",
   "version": "3.11.9"
  }
 },
 "nbformat": 4,
 "nbformat_minor": 5
}
