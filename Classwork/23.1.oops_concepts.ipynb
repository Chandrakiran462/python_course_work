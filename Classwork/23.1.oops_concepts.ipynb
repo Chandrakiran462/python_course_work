{
 "cells": [
  {
   "cell_type": "markdown",
   "id": "25fc0913",
   "metadata": {
    "tags": [
     "parameters"
    ]
   },
   "source": [
    "***INHERITENCE***"
   ]
  }
 ],
 "metadata": {
  "language_info": {
   "name": "python"
  }
 },
 "nbformat": 4,
 "nbformat_minor": 5
}
