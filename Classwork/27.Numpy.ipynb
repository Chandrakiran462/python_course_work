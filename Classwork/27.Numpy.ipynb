{
  "cells": [
    {
      "cell_type": "code",
      "execution_count": 4,
      "metadata": {
        "colab": {
          "base_uri": "https://localhost:8080/"
        },
        "id": "jFu5GHFDjy0_",
        "outputId": "ceb17ae9-3dc4-4a34-aeb7-06e9ff429c1b"
      },
      "outputs": [
        {
          "name": "stdout",
          "output_type": "stream",
          "text": [
            "1D array:\n",
            "  [1 2 3 4 5]\n",
            "2D array:\n",
            "  [[1 2 3]\n",
            " [4 5 6]]\n",
            "Mul Dim array:\n",
            "  [[[1 2]\n",
            "  [3 4]]\n",
            "\n",
            " [[5 6]\n",
            "  [7 8]]]\n"
          ]
        }
      ],
      "source": [
        "import numpy as np\n",
        "\n",
        "arr1 = np.array([1,2,3,4,5])\n",
        "print('1D array:\\n ',arr1)\n",
        "\n",
        "arr2 = np.array([[1,2,3],[4,5,6]])\n",
        "print('2D array:\\n ',arr2)\n",
        "\n",
        "arr3 = np.array([[[1,2],[3,4]],[[5,6],[7,8]]])\n",
        "print(\"Mul Dim array:\\n \",arr3)"
      ]
    },
    {
      "cell_type": "code",
      "execution_count": 6,
      "metadata": {
        "colab": {
          "base_uri": "https://localhost:8080/"
        },
        "id": "vMgbUyFDlask",
        "outputId": "3b2b8872-644f-4ceb-db81-dc262b5a8abd"
      },
      "outputs": [
        {
          "name": "stdout",
          "output_type": "stream",
          "text": [
            "[[0. 0. 0.]\n",
            " [0. 0. 0.]\n",
            " [0. 0. 0.]]\n"
          ]
        }
      ],
      "source": [
        "zeros = np.zeros((3,3))\n",
        "print(zeros)"
      ]
    },
    {
      "cell_type": "code",
      "execution_count": 7,
      "metadata": {
        "colab": {
          "base_uri": "https://localhost:8080/"
        },
        "id": "FnEDjlM2lvqe",
        "outputId": "7e190d0b-943a-4ef6-fbb4-a59e2f28bebe"
      },
      "outputs": [
        {
          "name": "stdout",
          "output_type": "stream",
          "text": [
            "[[1. 1. 1.]\n",
            " [1. 1. 1.]\n",
            " [1. 1. 1.]]\n"
          ]
        }
      ],
      "source": [
        "ones = np.ones((3,3))\n",
        "print(ones)"
      ]
    },
    {
      "cell_type": "code",
      "execution_count": 9,
      "metadata": {
        "colab": {
          "base_uri": "https://localhost:8080/"
        },
        "id": "xQdkmLHul4vD",
        "outputId": "cf6fe72c-3ee7-462a-9c15-b8c107482538"
      },
      "outputs": [
        {
          "name": "stdout",
          "output_type": "stream",
          "text": [
            "[[1. 0. 0. 0. 0. 0. 0. 0. 0. 0.]\n",
            " [0. 1. 0. 0. 0. 0. 0. 0. 0. 0.]\n",
            " [0. 0. 1. 0. 0. 0. 0. 0. 0. 0.]\n",
            " [0. 0. 0. 1. 0. 0. 0. 0. 0. 0.]\n",
            " [0. 0. 0. 0. 1. 0. 0. 0. 0. 0.]\n",
            " [0. 0. 0. 0. 0. 1. 0. 0. 0. 0.]\n",
            " [0. 0. 0. 0. 0. 0. 1. 0. 0. 0.]\n",
            " [0. 0. 0. 0. 0. 0. 0. 1. 0. 0.]\n",
            " [0. 0. 0. 0. 0. 0. 0. 0. 1. 0.]\n",
            " [0. 0. 0. 0. 0. 0. 0. 0. 0. 1.]]\n"
          ]
        }
      ],
      "source": [
        "identity = np.eye(10)\n",
        "print(identity)"
      ]
    },
    {
      "cell_type": "code",
      "execution_count": 11,
      "metadata": {
        "colab": {
          "base_uri": "https://localhost:8080/"
        },
        "id": "XSNWugSvmUkR",
        "outputId": "124d1c76-8f35-4085-a606-abbb4718b670"
      },
      "outputs": [
        {
          "name": "stdout",
          "output_type": "stream",
          "text": [
            "[['unbooked' 'unbooked' 'unbooked' 'unbooked' 'unbooked']\n",
            " ['unbooked' 'unbooked' 'unbooked' 'unbooked' 'unbooked']\n",
            " ['unbooked' 'unbooked' 'unbooked' 'unbooked' 'unbooked']\n",
            " ['unbooked' 'unbooked' 'unbooked' 'unbooked' 'unbooked']\n",
            " ['unbooked' 'unbooked' 'unbooked' 'unbooked' 'unbooked']\n",
            " ['unbooked' 'unbooked' 'unbooked' 'unbooked' 'unbooked']\n",
            " ['unbooked' 'unbooked' 'unbooked' 'unbooked' 'unbooked']\n",
            " ['unbooked' 'unbooked' 'unbooked' 'unbooked' 'unbooked']\n",
            " ['unbooked' 'unbooked' 'unbooked' 'unbooked' 'unbooked']\n",
            " ['unbooked' 'unbooked' 'unbooked' 'unbooked' 'unbooked']]\n"
          ]
        }
      ],
      "source": [
        "full_array = np.full((10,5),'unbooked')\n",
        "print(full_array)"
      ]
    },
    {
      "cell_type": "code",
      "execution_count": 15,
      "metadata": {
        "colab": {
          "base_uri": "https://localhost:8080/"
        },
        "id": "Zocjnwvam8a8",
        "outputId": "406a04e2-7fd3-4e3f-8ec3-8e21efa80399"
      },
      "outputs": [
        {
          "name": "stdout",
          "output_type": "stream",
          "text": [
            "[ 1  3  5  7  9 11 13 15 17 19 21 23 25 27 29 31 33 35 37 39]\n",
            "[ 2  4  6  8 10 12 14 16 18 20 22 24 26 28 30 32 34 36 38 40]\n"
          ]
        }
      ],
      "source": [
        "range_arr = np.arange(1,40,2)\n",
        "print(range_arr)\n",
        "range_arr1 = np.arange(2,41,2)\n",
        "print(range_arr1)"
      ]
    },
    {
      "cell_type": "code",
      "execution_count": 20,
      "metadata": {
        "colab": {
          "base_uri": "https://localhost:8080/"
        },
        "id": "ivWSa8rkoQTq",
        "outputId": "c635d989-69db-48b9-a8d2-f3f3d5ca08c3"
      },
      "outputs": [
        {
          "name": "stdout",
          "output_type": "stream",
          "text": [
            "[  0.  25.  50.  75. 100.]\n"
          ]
        }
      ],
      "source": [
        "lin_space = np.linspace(0,100,5)\n",
        "'''\n",
        "first 100/2   0 50 100\n",
        "second        0 25 50 75 100\n",
        "'''\n",
        "print(lin_space)"
      ]
    },
    {
      "cell_type": "code",
      "execution_count": 32,
      "metadata": {
        "colab": {
          "base_uri": "https://localhost:8080/"
        },
        "id": "0UtB1pCIpQsW",
        "outputId": "55a77377-4954-4dc8-bb18-8001296f6e53"
      },
      "outputs": [
        {
          "name": "stdout",
          "output_type": "stream",
          "text": [
            "[[14  6 13 10 16 16 16 15  6 12]\n",
            " [11 13 13 15  5  4 19 13  3 17]\n",
            " [ 8 16  9  6 12 10 15 12 17 10]\n",
            " [16  5 15 11  7  3  4 16 10 11]\n",
            " [16 18 19 13 11 19  4 11  5 18]\n",
            " [ 2 10  9  4 15 10  8  3 14 19]\n",
            " [14  8 13 17 11 17 16 11  6 17]\n",
            " [10 18 19  4  9 16 18 10  7  9]\n",
            " [13  8  3 18 18 19 19  6  5  6]\n",
            " [ 2 16 19 10 18  9 12 19 15  2]]\n"
          ]
        }
      ],
      "source": [
        "rand_int = np.random.randint(1,20,(10,10))    # start,end,array size(row,cols)\n",
        "print(rand_int)"
      ]
    },
    {
      "cell_type": "code",
      "execution_count": 30,
      "metadata": {
        "colab": {
          "base_uri": "https://localhost:8080/"
        },
        "id": "9yPpDHhFqPGU",
        "outputId": "779e9c82-5835-4b3a-9366-3013c290a344"
      },
      "outputs": [
        {
          "name": "stdout",
          "output_type": "stream",
          "text": [
            "6\n"
          ]
        }
      ],
      "source": [
        "rand_int = np.random.randint(1,20)    # start,end gives single element\n",
        "print(rand_int)"
      ]
    },
    {
      "cell_type": "code",
      "execution_count": 40,
      "metadata": {
        "colab": {
          "base_uri": "https://localhost:8080/"
        },
        "id": "S5dRV4fwqazG",
        "outputId": "825f18c5-7cca-480c-c342-eb3bae16b5d5"
      },
      "outputs": [
        {
          "name": "stdout",
          "output_type": "stream",
          "text": [
            "[[0.8484102  0.26866815 0.40831844 0.80334756]\n",
            " [0.70082065 0.96047211 0.22772414 0.27945216]\n",
            " [0.03235253 0.22353977 0.9116036  0.94604862]\n",
            " [0.87990027 0.64337942 0.45590838 0.54449889]\n",
            " [0.196229   0.02197911 0.82486888 0.68937402]\n",
            " [0.310109   0.45751438 0.78038228 0.57405723]\n",
            " [0.52316161 0.77648418 0.43538709 0.59265604]\n",
            " [0.96031575 0.44716387 0.36349398 0.24454363]]\n"
          ]
        }
      ],
      "source": [
        "rand_int = np.random.rand(8,4)    # generates 0-1 and (rand(rows,cols))\n",
        "print(rand_int)"
      ]
    },
    {
      "cell_type": "code",
      "execution_count": 48,
      "metadata": {
        "colab": {
          "base_uri": "https://localhost:8080/"
        },
        "id": "PpzSBvwvrWZ2",
        "outputId": "ad6d43a8-f573-49eb-911a-f6b653337bac"
      },
      "outputs": [
        {
          "name": "stdout",
          "output_type": "stream",
          "text": [
            "[[ 0.16619458  0.35153649 -1.04404964]\n",
            " [ 0.40364894 -0.88213655 -0.0697343 ]\n",
            " [-0.36998251 -0.19214486 -0.76130097]]\n"
          ]
        }
      ],
      "source": [
        "normal_distribution = np.random.randn(3,3)\n",
        "print(normal_distribution)"
      ]
    },
    {
      "cell_type": "code",
      "execution_count": 52,
      "metadata": {
        "colab": {
          "base_uri": "https://localhost:8080/"
        },
        "id": "zCI67ErWsNZV",
        "outputId": "60d91fb5-8ab1-47f4-b6bc-79db8e4bca18"
      },
      "outputs": [
        {
          "name": "stdout",
          "output_type": "stream",
          "text": [
            "['cpp' 'jave']\n"
          ]
        }
      ],
      "source": [
        "rand_choice = np.random.choice(['html','css','python','jave','cpp'],2)    # (list, range)\n",
        "print(rand_choice)"
      ]
    },
    {
      "cell_type": "code",
      "execution_count": 67,
      "metadata": {
        "colab": {
          "base_uri": "https://localhost:8080/"
        },
        "id": "8pCcAaY6s7q8",
        "outputId": "76bb4060-6dd3-46f6-850d-31c42a10c82c"
      },
      "outputs": [
        {
          "name": "stdout",
          "output_type": "stream",
          "text": [
            "1\n"
          ]
        }
      ],
      "source": [
        "np.random.seed(10)\n",
        "\n",
        "rand_arr = np.random.randint(6)\n",
        "print(rand_arr)"
      ]
    },
    {
      "cell_type": "code",
      "execution_count": 68,
      "metadata": {
        "colab": {
          "base_uri": "https://localhost:8080/"
        },
        "id": "XEdIQMJJtnl3",
        "outputId": "97afdbb5-da8c-4be8-8495-0033bb51566d"
      },
      "outputs": [
        {
          "name": "stdout",
          "output_type": "stream",
          "text": [
            "(6, 2)\n"
          ]
        }
      ],
      "source": [
        "arr = np.array([[1,2],[5,4],[8,9],[7,4],[2,8],[5,2]])\n",
        "print(arr.shape)"
      ]
    },
    {
      "cell_type": "code",
      "execution_count": 73,
      "metadata": {
        "colab": {
          "base_uri": "https://localhost:8080/"
        },
        "id": "rx2b-oFaufwi",
        "outputId": "752af1a1-1126-4595-a891-c3f615b06eda"
      },
      "outputs": [
        {
          "name": "stdout",
          "output_type": "stream",
          "text": [
            "[[1 2 5]\n",
            " [4 8 9]\n",
            " [7 4 2]\n",
            " [8 5 2]]\n"
          ]
        }
      ],
      "source": [
        "reshape = arr.reshape(4,3)\n",
        "print(reshape)"
      ]
    },
    {
      "cell_type": "code",
      "execution_count": 79,
      "metadata": {
        "colab": {
          "base_uri": "https://localhost:8080/"
        },
        "id": "U3pFYO18u5cm",
        "outputId": "deaebc82-c683-46bb-8982-fbc87bbd0d01"
      },
      "outputs": [
        {
          "name": "stdout",
          "output_type": "stream",
          "text": [
            "[1 2 3 4 5 6 7 3]\n"
          ]
        }
      ],
      "source": [
        "a = np.array([[1,2,3,4],[5,6,7,3]])\n",
        "flattened = a.flatten()\n",
        "print(flattened)"
      ]
    },
    {
      "cell_type": "code",
      "execution_count": 80,
      "metadata": {
        "colab": {
          "base_uri": "https://localhost:8080/"
        },
        "id": "yojDZJIfvgGh",
        "outputId": "6ba2b1f2-624d-4e09-8c85-5f7b9fb10c49"
      },
      "outputs": [
        {
          "name": "stdout",
          "output_type": "stream",
          "text": [
            "[[1 5]\n",
            " [2 6]\n",
            " [3 7]\n",
            " [4 3]]\n"
          ]
        }
      ],
      "source": [
        "transpose = a.T\n",
        "print(transpose)"
      ]
    },
    {
      "cell_type": "code",
      "execution_count": 87,
      "metadata": {
        "colab": {
          "base_uri": "https://localhost:8080/"
        },
        "id": "1P8HV3U5v3nE",
        "outputId": "734213ab-3b7b-4e14-9862-defdd6210ac1"
      },
      "outputs": [
        {
          "name": "stdout",
          "output_type": "stream",
          "text": [
            "10\n",
            "60\n",
            "[20 30 40]\n",
            "[10 20 30 40 50 60]\n",
            "[60 50 40 30 20 10]\n",
            "[10 20 30]\n"
          ]
        }
      ],
      "source": [
        "arr = np.array([10,20,30,40,50,60])\n",
        "print(arr[0])\n",
        "print(arr[-1])\n",
        "print(arr[1:4])\n",
        "print(arr[0:])\n",
        "print(arr[::-1])\n",
        "print(arr[:3])"
      ]
    },
    {
      "cell_type": "code",
      "execution_count": 88,
      "metadata": {
        "colab": {
          "base_uri": "https://localhost:8080/"
        },
        "id": "lXxN2-PfwlOp",
        "outputId": "4fa25447-5577-4faa-f62d-6407e5aa4b34"
      },
      "outputs": [
        {
          "name": "stdout",
          "output_type": "stream",
          "text": [
            "40\n",
            "[20 50 80]\n",
            "[[40 50]\n",
            " [70 80]]\n"
          ]
        }
      ],
      "source": [
        "matrix = np.array([[10,20,30],[40,50,60],[70,80,90]])\n",
        "print(matrix[1,0])      # to access single element\n",
        "print(matrix[0:3,1])    # to access same column values in range of rows\n",
        "print(matrix[1:3,0:2])  # to access range of elements for rows and columns\n",
        "\n"
      ]
    },
    {
      "cell_type": "code",
      "execution_count": 90,
      "metadata": {
        "colab": {
          "base_uri": "https://localhost:8080/"
        },
        "id": "6Bn8p5EayNkU",
        "outputId": "49cba9db-f586-49d5-dcd2-27e8c67d9f5e"
      },
      "outputs": [
        {
          "name": "stdout",
          "output_type": "stream",
          "text": [
            "[ 5  7  9 11 13 15]\n",
            "[ 4  8 12 16 20 24]\n",
            "[  4  16  36  64 100 144]\n",
            "[1.41421356 2.         2.44948974 2.82842712 3.16227766 3.46410162]\n"
          ]
        }
      ],
      "source": [
        "arr = np.array([2,4,6,8,10,12])\n",
        "print(arr + 3)\n",
        "print(arr * 2)\n",
        "print(arr ** 2)\n",
        "print(np.sqrt(arr))\n"
      ]
    }
  ],
  "metadata": {
    "colab": {
      "provenance": []
    },
    "kernelspec": {
      "display_name": "Python 3",
      "name": "python3"
    },
    "language_info": {
      "name": "python",
      "version": "3.11.9"
    }
  },
  "nbformat": 4,
  "nbformat_minor": 0
}
