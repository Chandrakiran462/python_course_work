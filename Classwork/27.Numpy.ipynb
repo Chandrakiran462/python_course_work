{
 "cells": [
  {
   "cell_type": "code",
   "execution_count": 8,
   "id": "7cbd238a",
   "metadata": {},
   "outputs": [
    {
     "name": "stdout",
     "output_type": "stream",
     "text": [
      "Error Sending Email to chandrakiran5292@gmail.com: name 'to_mail' is not defined\n"
     ]
    }
   ],
   "source": [
    "import EmailAutomation\n",
    "\n",
    "res_mail = input(\"Enter Email: \")\n",
    "subject = input(\"Enter Subject: \")\n",
    "body = input(\"Enter Body: \")\n",
    "\n",
    "EmailAutomation.send_email(res_mail,subject,body)"
   ]
  }
 ],
 "metadata": {
  "kernelspec": {
   "display_name": "Python 3",
   "language": "python",
   "name": "python3"
  },
  "language_info": {
   "codemirror_mode": {
    "name": "ipython",
    "version": 3
   },
   "file_extension": ".py",
   "mimetype": "text/x-python",
   "name": "python",
   "nbconvert_exporter": "python",
   "pygments_lexer": "ipython3",
   "version": "3.11.9"
  }
 },
 "nbformat": 4,
 "nbformat_minor": 5
}
