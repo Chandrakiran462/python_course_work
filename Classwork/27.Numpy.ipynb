{
  "nbformat": 4,
  "nbformat_minor": 0,
  "metadata": {
    "colab": {
      "provenance": []
    },
    "kernelspec": {
      "name": "python3",
      "display_name": "Python 3"
    },
    "language_info": {
      "name": "python"
    }
  },
  "cells": [
    {
      "cell_type": "code",
      "execution_count": null,
      "metadata": {
        "colab": {
          "base_uri": "https://localhost:8080/"
        },
        "id": "jFu5GHFDjy0_",
        "outputId": "55aade9b-07fd-4d2f-d337-287a54e9aa89"
      },
      "outputs": [
        {
          "output_type": "stream",
          "name": "stdout",
          "text": [
            "1D array:\n",
            "  [1 2 3 4 5]\n",
            "2D array:\n",
            "  [[1 2 3]\n",
            " [4 5 6]]\n",
            "Mul Dim array:\n",
            "  [[[1 2]\n",
            "  [3 4]]\n",
            "\n",
            " [[5 6]\n",
            "  [7 8]]]\n"
          ]
        }
      ],
      "source": [
        "import numpy as np\n",
        "\n",
        "arr1 = np.array([1,2,3,4,5])\n",
        "print('1D array:\\n ',arr1)\n",
        "\n",
        "arr2 = np.array([[1,2,3],[4,5,6]])\n",
        "print('2D array:\\n ',arr2)\n",
        "\n",
        "arr3 = np.array([[[1,2],[3,4]],[[5,6],[7,8]]])\n",
        "print(\"Mul Dim array:\\n \",arr3)"
      ]
    },
    {
      "cell_type": "code",
      "source": [
        "zeros = np.zeros((3,3))\n",
        "print(zeros)"
      ],
      "metadata": {
        "colab": {
          "base_uri": "https://localhost:8080/"
        },
        "id": "vMgbUyFDlask",
        "outputId": "3b2b8872-644f-4ceb-db81-dc262b5a8abd"
      },
      "execution_count": null,
      "outputs": [
        {
          "output_type": "stream",
          "name": "stdout",
          "text": [
            "[[0. 0. 0.]\n",
            " [0. 0. 0.]\n",
            " [0. 0. 0.]]\n"
          ]
        }
      ]
    },
    {
      "cell_type": "code",
      "source": [
        "ones = np.ones((3,3))\n",
        "print(ones)"
      ],
      "metadata": {
        "colab": {
          "base_uri": "https://localhost:8080/"
        },
        "id": "FnEDjlM2lvqe",
        "outputId": "7e190d0b-943a-4ef6-fbb4-a59e2f28bebe"
      },
      "execution_count": null,
      "outputs": [
        {
          "output_type": "stream",
          "name": "stdout",
          "text": [
            "[[1. 1. 1.]\n",
            " [1. 1. 1.]\n",
            " [1. 1. 1.]]\n"
          ]
        }
      ]
    },
    {
      "cell_type": "code",
      "source": [
        "identity = np.eye(10)\n",
        "print(identity)"
      ],
      "metadata": {
        "colab": {
          "base_uri": "https://localhost:8080/"
        },
        "id": "xQdkmLHul4vD",
        "outputId": "cf6fe72c-3ee7-462a-9c15-b8c107482538"
      },
      "execution_count": null,
      "outputs": [
        {
          "output_type": "stream",
          "name": "stdout",
          "text": [
            "[[1. 0. 0. 0. 0. 0. 0. 0. 0. 0.]\n",
            " [0. 1. 0. 0. 0. 0. 0. 0. 0. 0.]\n",
            " [0. 0. 1. 0. 0. 0. 0. 0. 0. 0.]\n",
            " [0. 0. 0. 1. 0. 0. 0. 0. 0. 0.]\n",
            " [0. 0. 0. 0. 1. 0. 0. 0. 0. 0.]\n",
            " [0. 0. 0. 0. 0. 1. 0. 0. 0. 0.]\n",
            " [0. 0. 0. 0. 0. 0. 1. 0. 0. 0.]\n",
            " [0. 0. 0. 0. 0. 0. 0. 1. 0. 0.]\n",
            " [0. 0. 0. 0. 0. 0. 0. 0. 1. 0.]\n",
            " [0. 0. 0. 0. 0. 0. 0. 0. 0. 1.]]\n"
          ]
        }
      ]
    },
    {
      "cell_type": "code",
      "source": [
        "full_array = np.full((10,5),'unbooked')\n",
        "print(full_array)"
      ],
      "metadata": {
        "colab": {
          "base_uri": "https://localhost:8080/"
        },
        "id": "XSNWugSvmUkR",
        "outputId": "124d1c76-8f35-4085-a606-abbb4718b670"
      },
      "execution_count": null,
      "outputs": [
        {
          "output_type": "stream",
          "name": "stdout",
          "text": [
            "[['unbooked' 'unbooked' 'unbooked' 'unbooked' 'unbooked']\n",
            " ['unbooked' 'unbooked' 'unbooked' 'unbooked' 'unbooked']\n",
            " ['unbooked' 'unbooked' 'unbooked' 'unbooked' 'unbooked']\n",
            " ['unbooked' 'unbooked' 'unbooked' 'unbooked' 'unbooked']\n",
            " ['unbooked' 'unbooked' 'unbooked' 'unbooked' 'unbooked']\n",
            " ['unbooked' 'unbooked' 'unbooked' 'unbooked' 'unbooked']\n",
            " ['unbooked' 'unbooked' 'unbooked' 'unbooked' 'unbooked']\n",
            " ['unbooked' 'unbooked' 'unbooked' 'unbooked' 'unbooked']\n",
            " ['unbooked' 'unbooked' 'unbooked' 'unbooked' 'unbooked']\n",
            " ['unbooked' 'unbooked' 'unbooked' 'unbooked' 'unbooked']]\n"
          ]
        }
      ]
    },
    {
      "cell_type": "code",
      "source": [
        "range_arr = np.arange(1,40,2)\n",
        "print(range_arr)\n",
        "range_arr1 = np.arange(2,41,2)\n",
        "print(range_arr1)"
      ],
      "metadata": {
        "colab": {
          "base_uri": "https://localhost:8080/"
        },
        "id": "Zocjnwvam8a8",
        "outputId": "406a04e2-7fd3-4e3f-8ec3-8e21efa80399"
      },
      "execution_count": null,
      "outputs": [
        {
          "output_type": "stream",
          "name": "stdout",
          "text": [
            "[ 1  3  5  7  9 11 13 15 17 19 21 23 25 27 29 31 33 35 37 39]\n",
            "[ 2  4  6  8 10 12 14 16 18 20 22 24 26 28 30 32 34 36 38 40]\n"
          ]
        }
      ]
    },
    {
      "cell_type": "code",
      "source": [
        "lin_space = np.linspace(0,100,5)\n",
        "'''\n",
        "first 100/2   0 50 100\n",
        "second        0 25 50 75 100\n",
        "'''\n",
        "print(lin_space)"
      ],
      "metadata": {
        "colab": {
          "base_uri": "https://localhost:8080/"
        },
        "id": "ivWSa8rkoQTq",
        "outputId": "c635d989-69db-48b9-a8d2-f3f3d5ca08c3"
      },
      "execution_count": null,
      "outputs": [
        {
          "output_type": "stream",
          "name": "stdout",
          "text": [
            "[  0.  25.  50.  75. 100.]\n"
          ]
        }
      ]
    },
    {
      "cell_type": "code",
      "source": [
        "rand_int = np.random.randint(1,20,(10,10))    # start,end,array size(row,cols)\n",
        "print(rand_int)"
      ],
      "metadata": {
        "colab": {
          "base_uri": "https://localhost:8080/"
        },
        "id": "0UtB1pCIpQsW",
        "outputId": "55a77377-4954-4dc8-bb18-8001296f6e53"
      },
      "execution_count": null,
      "outputs": [
        {
          "output_type": "stream",
          "name": "stdout",
          "text": [
            "[[14  6 13 10 16 16 16 15  6 12]\n",
            " [11 13 13 15  5  4 19 13  3 17]\n",
            " [ 8 16  9  6 12 10 15 12 17 10]\n",
            " [16  5 15 11  7  3  4 16 10 11]\n",
            " [16 18 19 13 11 19  4 11  5 18]\n",
            " [ 2 10  9  4 15 10  8  3 14 19]\n",
            " [14  8 13 17 11 17 16 11  6 17]\n",
            " [10 18 19  4  9 16 18 10  7  9]\n",
            " [13  8  3 18 18 19 19  6  5  6]\n",
            " [ 2 16 19 10 18  9 12 19 15  2]]\n"
          ]
        }
      ]
    },
    {
      "cell_type": "code",
      "source": [
        "rand_int = np.random.randint(1,20)    # start,end gives single element\n",
        "print(rand_int)"
      ],
      "metadata": {
        "colab": {
          "base_uri": "https://localhost:8080/"
        },
        "id": "9yPpDHhFqPGU",
        "outputId": "779e9c82-5835-4b3a-9366-3013c290a344"
      },
      "execution_count": null,
      "outputs": [
        {
          "output_type": "stream",
          "name": "stdout",
          "text": [
            "6\n"
          ]
        }
      ]
    },
    {
      "cell_type": "code",
      "source": [
        "rand_int = np.random.rand(8,4)    # generates 0-1 and (rand(rows,cols))\n",
        "print(rand_int)"
      ],
      "metadata": {
        "colab": {
          "base_uri": "https://localhost:8080/"
        },
        "id": "S5dRV4fwqazG",
        "outputId": "825f18c5-7cca-480c-c342-eb3bae16b5d5"
      },
      "execution_count": null,
      "outputs": [
        {
          "output_type": "stream",
          "name": "stdout",
          "text": [
            "[[0.8484102  0.26866815 0.40831844 0.80334756]\n",
            " [0.70082065 0.96047211 0.22772414 0.27945216]\n",
            " [0.03235253 0.22353977 0.9116036  0.94604862]\n",
            " [0.87990027 0.64337942 0.45590838 0.54449889]\n",
            " [0.196229   0.02197911 0.82486888 0.68937402]\n",
            " [0.310109   0.45751438 0.78038228 0.57405723]\n",
            " [0.52316161 0.77648418 0.43538709 0.59265604]\n",
            " [0.96031575 0.44716387 0.36349398 0.24454363]]\n"
          ]
        }
      ]
    },
    {
      "cell_type": "code",
      "source": [
        "normal_distribution = np.random.randn(3,3)\n",
        "print(normal_distribution)"
      ],
      "metadata": {
        "colab": {
          "base_uri": "https://localhost:8080/"
        },
        "id": "PpzSBvwvrWZ2",
        "outputId": "ad6d43a8-f573-49eb-911a-f6b653337bac"
      },
      "execution_count": null,
      "outputs": [
        {
          "output_type": "stream",
          "name": "stdout",
          "text": [
            "[[ 0.16619458  0.35153649 -1.04404964]\n",
            " [ 0.40364894 -0.88213655 -0.0697343 ]\n",
            " [-0.36998251 -0.19214486 -0.76130097]]\n"
          ]
        }
      ]
    },
    {
      "cell_type": "code",
      "source": [
        "rand_choice = np.random.choice(['html','css','python','jave','cpp'],2)    # (list, range)\n",
        "print(rand_choice)"
      ],
      "metadata": {
        "colab": {
          "base_uri": "https://localhost:8080/"
        },
        "id": "zCI67ErWsNZV",
        "outputId": "60d91fb5-8ab1-47f4-b6bc-79db8e4bca18"
      },
      "execution_count": null,
      "outputs": [
        {
          "output_type": "stream",
          "name": "stdout",
          "text": [
            "['cpp' 'jave']\n"
          ]
        }
      ]
    },
    {
      "cell_type": "code",
      "source": [
        "np.random.seed(10)\n",
        "\n",
        "rand_arr = np.random.randint(6)\n",
        "print(rand_arr)"
      ],
      "metadata": {
        "colab": {
          "base_uri": "https://localhost:8080/"
        },
        "id": "8pCcAaY6s7q8",
        "outputId": "76bb4060-6dd3-46f6-850d-31c42a10c82c"
      },
      "execution_count": null,
      "outputs": [
        {
          "output_type": "stream",
          "name": "stdout",
          "text": [
            "1\n"
          ]
        }
      ]
    },
    {
      "cell_type": "code",
      "source": [
        "arr = np.array([[1,2],[5,4],[8,9],[7,4],[2,8],[5,2]])\n",
        "print(arr.shape)"
      ],
      "metadata": {
        "colab": {
          "base_uri": "https://localhost:8080/"
        },
        "id": "XEdIQMJJtnl3",
        "outputId": "97afdbb5-da8c-4be8-8495-0033bb51566d"
      },
      "execution_count": null,
      "outputs": [
        {
          "output_type": "stream",
          "name": "stdout",
          "text": [
            "(6, 2)\n"
          ]
        }
      ]
    },
    {
      "cell_type": "code",
      "source": [
        "reshape = arr.reshape(4,3)\n",
        "print(reshape)"
      ],
      "metadata": {
        "colab": {
          "base_uri": "https://localhost:8080/"
        },
        "id": "rx2b-oFaufwi",
        "outputId": "752af1a1-1126-4595-a891-c3f615b06eda"
      },
      "execution_count": null,
      "outputs": [
        {
          "output_type": "stream",
          "name": "stdout",
          "text": [
            "[[1 2 5]\n",
            " [4 8 9]\n",
            " [7 4 2]\n",
            " [8 5 2]]\n"
          ]
        }
      ]
    },
    {
      "cell_type": "code",
      "source": [
        "a = np.array([[1,2,3,4],[5,6,7,3]])\n",
        "flattened = a.flatten()\n",
        "print(flattened)"
      ],
      "metadata": {
        "colab": {
          "base_uri": "https://localhost:8080/"
        },
        "id": "U3pFYO18u5cm",
        "outputId": "deaebc82-c683-46bb-8982-fbc87bbd0d01"
      },
      "execution_count": null,
      "outputs": [
        {
          "output_type": "stream",
          "name": "stdout",
          "text": [
            "[1 2 3 4 5 6 7 3]\n"
          ]
        }
      ]
    },
    {
      "cell_type": "code",
      "source": [
        "transpose = a.T\n",
        "print(transpose)"
      ],
      "metadata": {
        "colab": {
          "base_uri": "https://localhost:8080/"
        },
        "id": "yojDZJIfvgGh",
        "outputId": "6ba2b1f2-624d-4e09-8c85-5f7b9fb10c49"
      },
      "execution_count": null,
      "outputs": [
        {
          "output_type": "stream",
          "name": "stdout",
          "text": [
            "[[1 5]\n",
            " [2 6]\n",
            " [3 7]\n",
            " [4 3]]\n"
          ]
        }
      ]
    },
    {
      "cell_type": "code",
      "source": [
        "arr = np.array([10,20,30,40,50,60])\n",
        "print(arr[0])\n",
        "print(arr[-1])\n",
        "print(arr[1:4])\n",
        "print(arr[0:])\n",
        "print(arr[::-1])\n",
        "print(arr[:3])"
      ],
      "metadata": {
        "colab": {
          "base_uri": "https://localhost:8080/"
        },
        "id": "1P8HV3U5v3nE",
        "outputId": "734213ab-3b7b-4e14-9862-defdd6210ac1"
      },
      "execution_count": null,
      "outputs": [
        {
          "output_type": "stream",
          "name": "stdout",
          "text": [
            "10\n",
            "60\n",
            "[20 30 40]\n",
            "[10 20 30 40 50 60]\n",
            "[60 50 40 30 20 10]\n",
            "[10 20 30]\n"
          ]
        }
      ]
    },
    {
      "cell_type": "code",
      "source": [
        "matrix = np.array([[10,20,30],[40,50,60],[70,80,90]])\n",
        "print(matrix[1,0])      # to access single element\n",
        "print(matrix[0:3,1])    # to access same column values in range of rows\n",
        "print(matrix[1:3,0:2])  # to access range of elements for rows and columns\n",
        "\n"
      ],
      "metadata": {
        "colab": {
          "base_uri": "https://localhost:8080/"
        },
        "id": "lXxN2-PfwlOp",
        "outputId": "4fa25447-5577-4faa-f62d-6407e5aa4b34"
      },
      "execution_count": null,
      "outputs": [
        {
          "output_type": "stream",
          "name": "stdout",
          "text": [
            "40\n",
            "[20 50 80]\n",
            "[[40 50]\n",
            " [70 80]]\n"
          ]
        }
      ]
    },
    {
      "cell_type": "code",
      "source": [
        "arr = np.array([2,4,6,8,10,12])\n",
        "print(arr + 3)\n",
        "print(arr * 2)\n",
        "print(arr ** 2)\n",
        "print(np.sqrt(arr))\n"
      ],
      "metadata": {
        "colab": {
          "base_uri": "https://localhost:8080/"
        },
        "id": "6Bn8p5EayNkU",
        "outputId": "585d3fc4-dfc3-475f-9d6f-a9f91b4ae00a"
      },
      "execution_count": null,
      "outputs": [
        {
          "output_type": "stream",
          "name": "stdout",
          "text": [
            "[ 5  7  9 11 13 15]\n",
            "[ 4  8 12 16 20 24]\n",
            "[  4  16  36  64 100 144]\n",
            "[1.41421356 2.         2.44948974 2.82842712 3.16227766 3.46410162]\n"
          ]
        }
      ]
    },
    {
      "cell_type": "code",
      "source": [
        "print(np.sum(arr))\n",
        "print(np.mean(arr))\n",
        "print(np.median(arr))"
      ],
      "metadata": {
        "colab": {
          "base_uri": "https://localhost:8080/"
        },
        "id": "sJ5iA1ooceKe",
        "outputId": "b85c35aa-f11e-4358-9cdf-15f42cf227b9"
      },
      "execution_count": null,
      "outputs": [
        {
          "output_type": "stream",
          "name": "stdout",
          "text": [
            "42\n",
            "7.0\n",
            "7.0\n"
          ]
        }
      ]
    },
    {
      "cell_type": "code",
      "source": [
        "a = np.array([1, 2, 3, 4, 5])\n",
        "\n",
        "print(np.mean(a))\n",
        "print(np.var(a))\n",
        "print(np.std(a))"
      ],
      "metadata": {
        "colab": {
          "base_uri": "https://localhost:8080/"
        },
        "id": "D1q2nR4Bc-vo",
        "outputId": "21871cdc-0bda-4e12-d2fc-a0d54e6b102f"
      },
      "execution_count": null,
      "outputs": [
        {
          "output_type": "stream",
          "name": "stdout",
          "text": [
            "3.0\n",
            "2.0\n",
            "1.4142135623730951\n"
          ]
        }
      ]
    },
    {
      "cell_type": "code",
      "source": [
        "print(np.min(arr))\n",
        "print(np.max(arr))"
      ],
      "metadata": {
        "colab": {
          "base_uri": "https://localhost:8080/"
        },
        "id": "BvJs-e3leCFA",
        "outputId": "771adcd2-cf58-42f0-ae6d-4b26c8803285"
      },
      "execution_count": null,
      "outputs": [
        {
          "output_type": "stream",
          "name": "stdout",
          "text": [
            "2\n",
            "12\n"
          ]
        }
      ]
    },
    {
      "cell_type": "code",
      "source": [
        "arr = np.array([1,2,3,4,5])\n",
        "print(np.cumsum(arr))\n",
        "print(np.cumprod(arr))\n"
      ],
      "metadata": {
        "colab": {
          "base_uri": "https://localhost:8080/"
        },
        "id": "bURnZ98peJPb",
        "outputId": "29c7799b-5a59-4fd0-a46c-0bb95f7fec1b"
      },
      "execution_count": null,
      "outputs": [
        {
          "output_type": "stream",
          "name": "stdout",
          "text": [
            "[ 1  3  6 10 15]\n",
            "[  1   2   6  24 120]\n"
          ]
        }
      ]
    },
    {
      "cell_type": "code",
      "source": [
        "arr = np.array([10, 20, 30, 40, 50])\n",
        "\n",
        "print(arr%20==0)\n",
        "print(arr[arr%20==0])"
      ],
      "metadata": {
        "colab": {
          "base_uri": "https://localhost:8080/"
        },
        "id": "nqvEPvFZfMGJ",
        "outputId": "963867b2-2fb1-45bc-f649-193a32088931"
      },
      "execution_count": null,
      "outputs": [
        {
          "output_type": "stream",
          "name": "stdout",
          "text": [
            "[False  True False  True False]\n",
            "[20 40]\n"
          ]
        }
      ]
    },
    {
      "cell_type": "code",
      "source": [
        "arr = np.array([3, 1, 4, 1, 5, 9, 2, 6])\n",
        "sorted_arr = np.sort(arr)\n",
        "print(sorted_arr)\n"
      ],
      "metadata": {
        "colab": {
          "base_uri": "https://localhost:8080/"
        },
        "id": "OE6jnRY6fmUP",
        "outputId": "43c94080-3c17-41b0-a816-b1cb3d29137e"
      },
      "execution_count": null,
      "outputs": [
        {
          "output_type": "stream",
          "name": "stdout",
          "text": [
            "[1 1 2 3 4 5 6 9]\n"
          ]
        }
      ]
    },
    {
      "cell_type": "code",
      "source": [
        "unq_vals = np.unique(arr)\n",
        "print(unq_vals)"
      ],
      "metadata": {
        "colab": {
          "base_uri": "https://localhost:8080/"
        },
        "id": "EVN9JsoVf6Zc",
        "outputId": "8e966d5d-c257-4165-90ac-926453edd187"
      },
      "execution_count": null,
      "outputs": [
        {
          "output_type": "stream",
          "name": "stdout",
          "text": [
            "[1 2 3 4 5 6 9]\n"
          ]
        }
      ]
    },
    {
      "cell_type": "code",
      "source": [
        "arr = np.array([10, 20, 30])\n",
        "view_arr = arr.view()       # deep Copy\n",
        "view_arr[0] = 100\n",
        "print(arr,view_arr)\n",
        "\n",
        "\n",
        "copy_arr = arr.copy()       # shallow copy\n",
        "copy_arr[0] = 200\n",
        "print(arr,copy_arr)"
      ],
      "metadata": {
        "colab": {
          "base_uri": "https://localhost:8080/"
        },
        "id": "zGodg1OIgC_w",
        "outputId": "29bbe4d4-5d31-4c8b-c4ae-24a03f1bb17d"
      },
      "execution_count": null,
      "outputs": [
        {
          "output_type": "stream",
          "name": "stdout",
          "text": [
            "[100  20  30] [100  20  30]\n",
            "[100  20  30] [200  20  30]\n"
          ]
        }
      ]
    },
    {
      "cell_type": "markdown",
      "source": [
        "![Capture.PNG](data:image/png;base64,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)"
      ],
      "metadata": {
        "id": "xdBFx1M6heLn"
      }
    },
    {
      "cell_type": "code",
      "source": [
        "A = np.array([[1, 2], [3, 4]])\n",
        "B = np.array([[5, 6], [7, 8]])\n",
        "print(np.dot(A, B))"
      ],
      "metadata": {
        "colab": {
          "base_uri": "https://localhost:8080/"
        },
        "id": "VMawNfZqhX_S",
        "outputId": "32ef9a66-3bdb-4535-f389-0b513d77c28d"
      },
      "execution_count": null,
      "outputs": [
        {
          "output_type": "stream",
          "name": "stdout",
          "text": [
            "[[19 22]\n",
            " [43 50]]\n"
          ]
        }
      ]
    },
    {
      "cell_type": "markdown",
      "source": [
        "![image.png](data:image/png;base64,iVBORw0KGgoAAAANSUhEUgAAAr8AAADXCAIAAACcQ66nAAAQAElEQVR4AeydD3BT153vz+xjBnV4Y3WTN4gXHijLjlBxCibd2CS82Fo2RpRXSwmNDenGVWgETlpbJpvYSYmiJVlFoY1sdrHktBE4j6puGyynNDJbL8LZjEw2ieW8gEwLkT1LI7xkuUxJfT1lqszozXvn6r9k/f9nWfpqrq7uPed3fuf3+5xrn9895/75s/+HDwiAAAiAAAiAAAhkQuDPCD4gAAIgAAIgAAJLj8BiWozoYTHpo24QAAEQAAEQWIoEED0sxVaDzSAAAiAAAqVBoFKtQPRQqS0Pv0EABEAABEAgWwKIHrIlh3IgAAIgAAKlQQBWFJ8AoofiM0eNIAACIAACILC0CSB6WNrtB+tBAARAoDQIwIrKIoDoobLaG96CAAiAAAiAQO4EED3kzhAaQAAEQKA0CMAKECgWAUQPxSKNekAABEAABECgXAggeiiXloQfIAACpUEAVoBAJRBA9FAJrQwfQQAEQAAEQCCfBBA95JMmdIEACJQGAVgBAiBQWAKIHgrLF9pBAARAAARAoPwIIHoovzaFRyBQGgRgBQiAQPkSQPRQvm0Lz0AABEAABECgMAQQPRSGK7SCQGkQgBUgAAIgUAgCiB4KQRU6QQAEQAAEQKCcCSB6KOfWhW+lQQBWgAAIgEC5EUD0UG4tCn9AAARAAARAoNAEED0UmjD0lwYBWAECIAACIJA/Aoge8scSmkAABEAABECgMgggeqiMdi4NL2EFCIAACIBAeRBA9FAe7QgvQAAEQAAEQKB4BBA9FI91adQEK0AABEAABEAgVwKIHnIliPIgAAIgAAIgUGkEED2k3+Ie97jd7UlfPrFkUXLYs1rZhiru84DJXZQal3Ql7JTdeXNJewDjQQAEQKB4BHKIHryM/aiyfg3XPVVVrdzYpLZeS8/uK4Zaf6HgeqWoVtZpsE2XdM/MnGjZ2CTbuMOwNHriD7q++rDefo1Xs1Mh/cv02iWRFOsyH5RtXOlrrdvW1LeZHGwi0YTpzLsGpSR4rGyWqUeYhKLhw6PWcCWOlP1pvylVytE4uVkmfdAlul9W/xcdtizLoxgIgAAIVBaB7KMHW6dIprG4eDXSZomQR8/LDa33Km2Z9Cv81QKBbyGMy35C3XzPStH3rKw3vQa4Zjd05tSXp1dNWIq/WiggRFAjputwamG2mHFDR9PGxv7sAxXbT020KcTayXMnjcOmNmH2droN8tqOfvvcWknLzho+YZ1vdjXKDa40m8lf79kO0YNqy2UayrRI1vE8V+yGR+9RjlID/dmJ1i7TL1yxebcsx45nFGV6XMPaZsmajuShhmD9pmWE1G4Sx9aHfRAAARAAgTgEso8eCF+iOzN7Y+bc8BsjFz+b1FQTwloMpxKfU8bW3jJweWbGt9z4/MbkTxS0h2MGWxuPLugwYgv69qfM6hN2d8oOyCeblxVvu3Fmfn6mT8rLi7qkSpyDavO4O91AKq4qX+++aT2FGjc7k8Q7FYMXbsx+NDJw8tzs7wZbqP/ntccmM9Hg5Uu0Y7OfzZw7OTBy4cbkIdpHs5b+t5MdKwIhNd19YsgZXY9n9G0rjeEE/OjkJHuMrUdvO8/+KYkIzVrXNvb5/Pw7uYRZVAsWEAABEKgUAtlHD1LtiOq+4D/xZeLd36JdArnOZnReGKS8jCfeZXzvZ1zH5HpJa7kVTMfv4hMQqgaM8nU0ZPCZwpfveYhueP4wR9fBhXU5YyatWIdjOphLf7frRg7U8enJPd0mRLxLwR0rv096rDDiGhkhjOGn474ygRVj/hENHloa6osYNgaqxg8IgAAIgECYQPbRAwl2Bn5lzH9ww+y86ER/VpprvqxTxc0KWP/lX4MlvIw1NOO+UlTfafVdtOg23FtVtcfCCV1Sb+Sm45WB6er48lTQV6Sq1jDNWNpEtAQ3Ze6fX7/X4Lpm7bjfN5W+sr7DNx/velNZ70uo2tBqmAx2VKNKWrCqLVCVrY3bU456XK+3+q8JWLm51RzuMj3uU3TAXORXU7VyY+vR8NUCycr6rGp+k9pMXBqfc8EauaTI7zW79tHaNbdxZlTdtqb2UYPDf9FfhAbLHi639ijXNJFFCUlmXrQkiW5o5vpnXP6Xwg3tsXXX1m9sNIR8Z+1dksbGv9U6Q5FkWJgrSxg3Z9By33bCFX/3E2084jENBoBzgleG6JgHb5/iwRiFNx2mTllt4LKKqjWSjsAlOFyTbVRf4opGoEh2MHCGsVYl12wru4KBi2fUl3CvPrP5Gq5afEEABECgPAn8GcmLX9OGZ16nfUXdtx+i481Za6ypqefKTl3h/ocTr8vwgKi1387bplDsVbTcTZwnWjc2mxlCByoUim2+ing18r00V8JFHQnlOZ3+74WeJuWb0ePlN4f2/fU+5+rd0k20q3KaH23s6m6u/d6U4JGWOqr0mlX9jadticdCpn6wvbbnep1P2HPF2vFAl8M3ZUDI+D88ph//vzW7OfOkYq/bqmlsPRFVdfyyK8S0iGQtZy9vk5w6rthK7eB2o77ThvoNMv2I64tqqWJvi0TAukbUjSKZmY4BRGgQblNQDburgyMHYRWpzQvLRmyxo8+raZ/Ka2vZFkrlSfVj3Rsd6nt9AQQXOshMV+t0P9fULKyWFqLN9H0Td6z87W5fE9Kk+Atvq0xBNbxpDo1FuX5hchGB6tsSmhxZxj3Y3jX4yartnLMt9wnY8+bWe30NsVqi2Cv3m7EQRZyDwa+ULz/ympQGWKZnfVfIep36bouHiDXmbnFM1OKXxxoEQAAEKo/An+XB5WuW1gfUdH66RtvftjonfZFDF+7+VvV5XsvPZidPGo19xoEz7/XU0k5ZazovkD5nND5Zx9W0breuj+YqaghJLM8J+r4uy7ti44Ub8/PzAzt9CXTFuNYfofPxxuH3ZnyJbtPrjO7DyeG+gbHLI220m/JYrO9TufiL6wv55OWxgZAwax4KXBAgfuLM7I33hqnlxr7hyZ+00PL24TOR4UP8sgJpd59RtZWKE2GLjiu+lzrH7UZ8Xdpv+oFP+qoYGLk8O/wIn3jtXb12EqGh7kkKx9i9fWH8kdq8iOoCm+yktmmPhSX8lp9oJJH9KL9OY/UHELX1El/o8OGYan2gVNSPl7E81qg+T8jdun7lQquiZMkyyf4DNMCwnhylwQbNchw76iZrFbvvpttRC6+h/+JnMyNvcM4OnDmtoVX7G2KTwtin272OE16AIt7BwAlyX37zAHcwXFKrhz3M4Av6q0R8aLCbquUy8QUBEACBkiGweIbkGj3QHqVxo9LKEuETI6cPcNPZOfjiYVmu9Co+7bTd1l+66Pmf5dHgeHSVqIvrmJlPr3MyC75pydd19SpCU/h+FTzFEzL/1Rv8uq0++3d27vf3E8skDU2c0J8CwwncdsxX2qUKnI8GhEMXBAjr1n9qParu2FMv2rCm6lHfPEv0TH/isjGVLNi9arNdJYTX1nvAZzCXz5d2ddIdz+CIg9tN+U1tXowKZrj1ngf0TsKX9I0N7PQTixChAcT/1tV4Xc4rRHHydPzQgXVod4iUIyxZ1zZiVQW4RehYuCn+Vht1yvYjOuBEA8chs4fUqbiUGEnB3ZuIw6TtVMruEYlW1mq5OZRQQ8TIhnfrFh4M4Ux+yxGjhBDri9ubn7WTas3gAWpIOBtbIAACIFDhBHKKHtgR5Vcf0Du8tEeZvKiXLOhSMmTrHf8X7rY6QV2N76z0C1pc0KIfHPxJ1NK5iabHW1LLi3ds82mOLL1OGJvE54IXv0jkWIg/JWbNX0EDnUBalDCdWfiL+lbNMfut9Ttaad/jGykJCAZ+EpYN5Cf+8RLuZDzG8vU1HJjUnaZPbRrm+eT8K4+rt170uJUhwrbTvxnZG68fpRMWdDiEX1e3jpj3NBm4/ttfNri+aVV+tVE/SfjbjJMf9aR7rKzbvZ8OOE0eG7risbxO5zskiodim4sQ1tYm2tjUpT81vXzr7s6+npaFIkErIn7jHQwR2WS1QnOAT646nR6i0KrSiXUiS2MbBECgcghUpqc5RA8fdH31UTqOXdP9ToIeJUOirqNq7gy9ulMRHppm/3yDXL4raqlJNjmSQj6qg8/QvEzEPRYNN7MgfW3m4ukBo7pNvpWOwGeiIB3ZK+7IeRAy7ZyipQR3ptF1ZmYec6Kl9iU66CAfuHyxpyFeiEhDBzphcVNifGdszD4WvgaC2uNfvI6uza3csfLM2G/eVmTSEwsU35UT4jL/VH9yhBCZYvdC9873tb/JEoFq7Hfnhvt0qkd2bL7dX2uKdYqDgbW8epTO0vCpw+aXj+F6yRQ0kQ0CIFBhBLKOHhjTCyaW8Fp+dlpTS//B5obNw9h1jbUv0amKGp1Z5etphVvq6Wm9x6SJeDCRx2UajB6Y93q4s3Cu8vTkOckifJnrbq4WPtf10A3WdirixgGakObiDToXI79OKl9LZ3VMz4SfjcHaevooPv5DOxZeJRFTmpBMzPPa9XTonog17wy2xI/bPLZumYkLHUYU6wmhUxj+ayAeVDuC5jMDz3PHSvPg6UN1mR4rvIcULTR86NVTgi2t3D29se5c/5SLovhfDtwROm0duhQrwu0nnn7icmO/jPlRpY3w24Zm3nqCT86r9/VTurFC2AcBECgZAjCk2ASyjR6YMyPcVQiekafvEW0QhZeHTb5+0216oKqqStRxNtiBxPHLogwUXFO1UiT7oYMsq+t+JzxlXvfCYAvtas6ra++ob+7s6HhcJrqjtms8+JwB8WYx1TmtbdqhVO5Q064lhTwVLt4i3LKNmk4sj9VSy5U77mnnZmQyqF58F+ec66WmxseVjRrqXExZcfc/KuhJuFNTu/L+5g46379hTTN3/q0YeCHOFElMYUIyMW9yxMy1oavvwYhWpg130B5Uy5P2XZz80Bc6+JO4AGLy3Jiujuffp8cKF/N5Tj9zDy0YXppNV/0CSdfLpIp9PkW8NsX2eJJfk0hosu9I6Ohsrr3/1U994jTNtwjF3IyOvy2ala/7Dk9fRpIVc2JfxzghO49o7uPVvXBESohTsy/uY7OTKEEWCIAACJQxgWyjh1us/+JFD8Mw1yIX7uqDNHmxgYJfCNZLFPqRmc/GooYx+NKBC2M6mZjvddpOmM2/uvDlrarB7zcElK9TDfbJBcsI84HFcoksp6nJ5alAEZc67ZhRJuR5XbYTQ9Pi3ve4OwAzqF7YPmiU0fCAcQxbXF7OuZjCvO3GixcGVQ1CMmUzn7DYbwol7YMXLxql/BjB+LsZmDf3By54ICTYWMG2vhnR0DyhOGZYgi+uCad42N/7zKDHSqDF/UrcX6Q3HiDZxw1HCdq/HXWjh08ltxIoBk+ravjckWA+y1P881vP+m6y4LJ8X6l+RLWJR7i2GL/xX3xJyVdXDM2dNDYS6w5z4Svht/RqaTDnVH/HdwNn8rLIBYFKJgDfK4lAttHDOtXkfLzPh9w/ekKEbe/Q3Bnj9qjTwADYcb6LwAAAEABJREFU2LI3Zj4aMT4hESyUvb1O9bPJ2c+pqvn5z2cnT+vk68JC4r2DM/6sWR139km1J5QXqj6kSiZVkf2K34yAwbQwER7w+WSip5rcLv1KTbRU8PbOnQPcTjA3KouKEhKVskys+NlF7t7Q+RvnaJQjG+DKBuuKklxYlqZwxWe4IvPzs4cDztHkyIW3Tq477a9ifv7GxZHDcmGYTbQxkcX825x+f9k45vlFAmu/135TItdBDgGxZD9++JGF/dvRzRHS4G+X+YFwM1RrLs7PzxwKz8nEAOQ36M7N+nReHlTV1vnaOthqVC1fonvP1xTzN0b20Wkxvz3Rtfsr9TfQOtU5TllYIHBg2P3HNtWIBQRAAAQqnUC20UOlc4P/IAACIFCKBGATCBSHAKKH4nBGLSAAAiAAAiBQPgQQPZRPW8ITEACB0iAAK0Cg/Akgeij/NoaHIAACIAACIJBfAoge8ssT2kAABEqDAKwAARAoJAFED4WkC90gAAIgAAIgUI4EED2UY6vCJxAoDQKwAgRAoFwJIHoo15aFXyAAAiAAAiBQKAKIHgpFFnpBoDQIwAoQAAEQyD8BRA/5ZwqNIAACIAACIFDeBBA9lHf7wrvSIAArQAAEQKC8CCB6KK/2hDcgAAIgAAIgUHgCiB4Kzxg1lAYBWAECIAACIJAvAoge8kUSekAABEAABECgUgggeqiUli4NP2EFCIAACIBAORBA9FAOrQgfQAAEQAAEQKCYBBA9FJN2adQFK0AABEAABEAgNwKIHnLjh9IgAAIgAAIgUHkEED0sTpujVhAAARAAARBYugQQPSzdtoPlIAACIAACILA4BCo5elgc4qgVBEAABEAABJY6AUQPS70FYT8IgAAIgAAIFJvAYkcPxfYX9YEACIAACIAACORKANFDrgRRHgRAAARAAAQqjQAXPVSaz/AXBCqJgIe96cnY31ssm3mhjGtBARAAgSVLANHDkm06GF7GBLwelmE93tw9ZO3dTWrHFykU3XIYOs3OSCHvhLqxw8ZGJmEbBECgFAkslk2IHhaLPOoFgbgE3KYdVVW3rVwjajx2Na5ABonu/qZ95BXjTn7yMs4epfqE3R0ZrPClRoNALTe4IhOTa0EuCIBAJRFA9FBJrQ1flwABYduZ+dnXpOlbypzVm6fiiV8zd2iEr7xYFy8vIu2KYV+vm5Apd0ywcrem56+0rf00K0IYmyAAAnEIVGISoodKbHX4XOIE+LenGC2ItN9t09uvRSYEtu29XRN797esCOwm+GHMnUOkmmbOzS2Yp5DsU3k0asstmosFBEAABKIIIHqIwoEdEFhiBLzOM6Pxrm/02szHiaJFktwdz+jz+g29g98SE8J8en2BbLV8t8B6Mq7+BbJIAIFFJoDqi0sA0UNxeaM2EEhEwMM4z1qtp+yuBHc7sFM2k05teNPmvBlU4WVtB1v1V8kXLMN9Iu+tmLSNEFlDbVAy7q/X8cJB0vtiHc+Xy95aGIXUbNlObL+2+fILtvJ6mPM267grD1eJ3uIY2qcXOlIw41Mo9rCX7NazTiZ3i/JIKYXNyAaBtAggekgLE4RAoKAE2PGujXfcr+VujmDtP2iRaRxR1XkZy2OiezQu8bc7pcutrSJRxyidZmBsvWrrNCfo/IVWq9Nqj48z3B73dTvsnurNNcu47URfd/8zn75wRLqCCNdvojLua6HSdC+wiMViMuVyBfby/8NOGmQbarX/x0M+O9b01/W1t1V1nM2uFtZxVCb6n9qJP5Ibx5rqJbVVVR0FjnpS2XnN2rF5Y+upG+SP48801teLquqzvYgkf5RS2ZxzPhRUDgFED5XT1vC0VAlM6xubTGLTR8PqFvkuedvhkcGn6FRC2Fp3f5Py1JZXfq6SrBWIdxmNe1lz26sOIpA+ZzQ+yV0UWfek0dhnND4nFQQLuX7rIsJVod1gcsTvNXOHdXdvc/gCi7m5uYjswCYXWEx/kujKSecP60UbRCmW+/VR94IGFPt+pg1ND2hXHnnPuE8uf6Snd/t1l1cs/ktfVmhFh1UWXnhxjYmJdFxHmxp1K3vtxrZd8hZ9r/QzF6mmgU9Ii28MYDx6WMfDusat9ksJhnpCRbPbYG3Ke1snvn16hGtT1fGnBE6GrF8njFbGMteiBiU815w2OlAR428qSvFL0ZoWUKJpWEAgXwQQPeSLJPSAQJYEbD1aF5HuibivMvqqSYdB5yIN0obg9Y+SbTLC2iaupKqOz/dPScSTY62aY3U9qkBvtupOGmcw8cYefGVZNqY/86XSVc1z52Yuz6RY3uuuoaJxFrdBoXauVT0rC0QwDA0JeJIt6/yiHte7FkOnTPQXTUPhSIFxnjJp99Sv3PB8VERyxdCqcQoPPCuP1FS/JeCd12V4dF/fFEvOa++5wz9sQ8i0oVXZN3WTTP3wnpWixE+28LDUqmRL5GyR33Bu7bF1t1pY+bNPBqJAqoEQieRrXB79eqbtlqMdsg1rmoZDvrG2TlnXqNtzc+jRNVWN/aHhnuSU4pZKQIlWjAUE8kcA0UP+WEITCGRDwO3i7rfk84PBQayOKxN2eoL6qUXb2dHhX85+SbF3tziRfGz5ePsfaNuHnXpJVeAj0XOd2GfXuXUcceZ66EqLOLnZJn1g0F4ighZ5oIMlzgk6Z/GQlBtL4VTyhJsaFK+qGqIeOMG/c+uebu1uIScQ/jp+RMMvwe7/FdR0fuIMIbK/CWjy/Epr+n3NDplcfmBw+AAxP6Z1EI/lJdP1r+2Q7ZKrfjLcTcytL0dPFQV1M+dM3JQQnRVKtLw0FBXH+AsyQ4Y3PWTng7JAG3kc405SLZXQGM0nwFu9uWFvj6ret+NfXepTO1ZK/oaOwehOm6SOg11mf2MkpxS/VHxK/nqwBoF8EUD0kC+S0AMChSGwgr+KKr5L0UPnJsJLd3iWgub6Fua83ZVgkMCXH1x5Xfrvf3pkdj7iM9xCM3+faAx/vXgtzY633Ep1ak5Pupn4arkrMwjvQWlwYOLquI0hkq3BXUJ4twv4sYMnPD5NWxZjiXvinIdq2nF3IN39PqcpdKJPlhP3B+Of/JHLralrIJ6Jiatk+TK3Y/wT1pe2ZRvxOCbc3HbsV7C9m5sS6vNNDMVfK8IWh0p/bLcTItnZEDR/3D5KeKGxECq2gvOD/kYsPHLJdsEXpfG+JhETu4OLKUkqSnFLxaUUURU2QSAfBBA95IMidIBA9gSEW+ppL3Mj0Yk/EeyQ1RLy8SehsWxaFTtpdy4IFJw/6rL5T1gJEawWEJcrbo/ofr19/Dv9LYFBfqosuFyKc3Wk5xbtYb8UlIj9Zd0TE++nXD6lKmJLBvbFwtWBLY/D7iTihq0Cz3CrcoQOtgTS0/3ZIAye2PtO9Nc3bBF4LI8prTSukA3Oz48ofNlOxzhZK5Wu5cl/Mj//diBt4l0ilEqF6daUrpyQNoFf1j8W0lBHLmmbeyOb0Z/tW1d3T87P6mhDE+L52O4icslWXzq3SkwpWSmuJL4gUDgCiB4KxxaaQSAtAnVP9UiI3TAY7Fe8rNUyQshc8PFNgraX2/iMXjsY7IW9zr6Xx+kpNafdd8mC72ZLD3tLvMrXR9L0VcKvkMvuYCxBEwKLZ0rfenDV/keCcoFk4Ve40YU/BfYiftxuN2moi3N67ZPhV0vlu+SplpqYynxFifBuCY94iNe3x9ra/85GyKaa9Z6RU6wkcA+pLyv1SrhpK48EX+XBjrY/PUrI12rEt0benpNsoYFZSANr0R5d1f3T7uAMB5fBDmv1d3QPPhWZxqXn9N20hc6a/MnvmtdleIpODIk330Vcp2x3bk1Vkdepf3FC/kav/zFf6VKKLpWT8SgMAukRQPSQHidIgUDhCKxWWD7sEf64vnZPR0ensvkb7e7VDYQweknVmoN2rtr7en7zjo68tEa0Q0kFZA/ohXpN4G7Muzv7WwW2v2tSPt50sk7j73JoEUGDVOxxfRIZPkxqN66sWnm/1kmsrXfIzMHHU9oPitbcVqvlHlNtab5tjehxSzBIoWo8Uw6XeLtEQDfzvjRoLE94+vZTj5rr5fY9Q7oa4jBwXvT4xwTSr1ByyNLm6VM+3tGxp75pfM9b2hryvkH5zZNb9BGaaC+++/WaM6c1d0cEFNOGh4/VjFk1NSvSry0NydVt/X2S8YPNHZ1K2QNa/g8GW/juoZea269pNPclL87aOjtcL3402BxEnhalBaWSV4JcEMgHAUQP+aAIHSCQGwFeddvwzI1zr2k0h/qHzwyq1AMzM7M3Pp+fPSzxK+bXqoZn5i/+/BWN+ojFPqhY70+ma770tZkbv/nZK/94evhAxHntOql8rd16LmIKoFZz8UbwUofPRxTBKQPJ4ZnZz0PpszNvRMxp3Bp5e1Qo357LoD61MNHCl+gvXvzlK5pDg+fsOul9qnM33juuj/YiUdGYdL6k58LFtw5rdG+cO3dYWnfg3I1/O37kl8OqECUvY3nasOqNMU0tnzlrdfipXLN0GFf97J81dXzGdiqQFqM4613x3pGZfxsINNZ98oHfXT396sDp16QL54siqmAdOvXEd05zocOU1crFczQzJaW4pWhBLCBQWAKIHgrLF9pBIH0CvNsFgtt9Z8Y8viDO5YHchYRc+gKNfvHoZHHni1Lbj8yRow/RAqn32NGT1p1/38m9BSO1cHYSnOV+l2l5uhPapruZLbSwIHTfCt0JbRPC2p59/g9PahqWMe7zNtOJCUIZs7aul/6geq6B3HQ7z5rMDi4tswpTSq/wNaJfbBlnEa3Wvxd37Tr69Nt13W1rPcwlu8lom1selqKFAwcGTaM7EZSSlKKyWECgcAQQPRSOLTSDwGIS4Df36rx6/QeEZGeF19n3A0anjRiKyE5PlqUY2w/pTITaQlx931V2dJp9N0Y6zZ0dyu/2uYhFTWd5fmhLJzZiBlubj1u67hXRz0ZJs/4/VgkIY1Y0m97sqt3ApdU/rHf/j+BMQZbWZlaMOavv6GxWDxOXUans7DBPETKpbtRYDA9vpAaJ7pV1vUmolamVxi+VDaXUdUECBKIJIHqI5oE9ECgfAkKVtf8PKqUt4kKG9J1z6vbZv3M8PPiffsn8SPqepHlycn5+fubMgLHPf2NkjaLPOHBmhiZOnjRGPlszSZ2C1hEqH17sKiERKN4OJ9Ctc+0Fmp2Jb5fvRtDhSTphNDM20GdUbCKkVhd1C+28URq/aHRq/FLZUIrWiz0QSE0A0UNqRpAAgdwJLI4GvnTg7a9bX7JmGj943tX2CQfH2iMupFgcB1ArCIBAiRJA9FCiDQOzQCA/BFa3GI/Ik16sF6ce3jbNwF6EDnHIIAkEQMBPANGDnwPWlUAAPoIACIAACOSHAKKH/HCEFhAAARAAARCoHAKIHiqnrUvDU1gBAiAAAiCw9Akgelj6bQgPQAAEQAAEQKC4BBA9FJd3adQGK0AABEAABEAgFwKIHnKhh7IgAAIgAAIgUHMgR8AAABAASURBVIkEED0sVqujXhAAARAAARBYqgQQPSzVloPdIAACIAACILBYBCo7elgs6qgXBEAABEAABJYyAUQPS7n1YDsIgAAIgAAILAaBxY8eFsNr1AkCIAACIAACIJA9AUQP2bNDSRAAARAAARCoTAL+6KEyfYfXIAACIAACIAAC2RBA9JANNZQBARAAARAAgdIgsDhWIHpYHO6oFQRAAARAAASWLgFED0u37WA5CIAACIBAaRCoPCsQPVRem8NjEAABEAABEMiNAKKH3PihNAiAAAiAQGkQgBXFJIDooZi0URcIgAAIgAAIlAMBRA/l0IrwAQRAAARKgwCsqBQCiB4qpaXhJwiAAAiAAAjkiwCih3yRhB4QAAEQKA0CsAIECk8A0UPhGaMGEAABEAABECgvAogeyqs94Q0IgEBpEIAVIFDeBBA9lHf7wjsQAAEQAAEQyD8BRA/5ZwqNIAACpUEAVoAACBSKQPbRg/tobVXUp9ZwpVBWQi8IgAAIgAAIgEDpEMg+euB8qNZdnA99JlXruDR8QQAEQCBMAFsgAALlSCC36KEcicAnEAABEAABEACB5AQKEj1ETWq02cIWjCqrqpQ2bl1Vda/BHc7AFgiAQAEJQDUIgAAI5JdA/qMHW1vVRs2m4cCExkXdVHN0oGBpPrWHy/xQJcyvK9AGAiAAAiAAAiBQFAK5RQ+X1BtDF076xxKuGNRvinUXBqQB64Wqn+vEl8zW8AWVYt33g5kBGfyAQCUQgI8gAAIgUD4EcoseIq+a9I8luC64qhXyyMsn18kV1TQ1hGyTODI3lIwNEAABEAABEACBJUIgt+hhiTgJM0EgQAA/IAACIAAC+SCQ7+hBvDl6noKQK1bzJZqaD2OhAwRAAARAAARAoAQI5Dt6WKfSPeJSb1YGb7RwG/5W7XpEh0dBlEBbl4oJsAMEQAAEQGCpE8h39ECI1DQ//IilOXA15Ubzty7Om3CZ5FI/TmA/CIAACIAACIQJZB89CA9MzvuvlAxrC2zRAIK7J9P3nTwQcWPmzoH5+dDtGAFh/CwGAdQJAiAAAiAAAtkTyD56yL5OlAQBEAABEAABEFjKBBA9LF7roWYQAAEQAAEQWJoEED0szXaD1SAAAiAAAiCweAQqPXpYPPKoGQRAAARAAASWKgFED0u15WA3CIAACIAACCwWgVKIHhbLd9QLAiAAAiAAAiCQDQFED9lQQxkQAAEQAAEQqGQCweihkhnAdxAAARAAARAAgUwIIHrIhBZkQQAEQAAEQKDUCCyGPYgeFoM66gQBEAABEACBpUwA0cNSbj3YDgIgAAIgUBoEKs0KRA+V1uLwFwRAAARAAARyJYDoIVeCKA8CIAACIFAaBGBF8Qggeigea9QEAiAAAiAAAuVBANFDebQjvAABEACB0iAAKyqDAKKHymhneAkCIAACIAAC+SOA6CF/LKEJBEAABEqDAKwAgUITQPRQaMLQDwIgAAIgAALlRgDRQ7m1KPwBARAoDQKwAgTKmQCih3JuXfgGAiAAAiAAAoUggOihEFShEwRAoDQIwAoQAIHCEED0UBiu0AoCIAACIAAC5UsA0UP5ti08A4HSIAArQAAEyo8Aoofya1N4lA4Bp7mzoyO86G1MOqXyLMOc1UfY0NFxwpnnCqAOBEAABApDANFDYbhCa6kTYOwnhpxsCVk59/GQ+f3ChTAl5ClMAQEQKAMCiB7KoBHhQnYEhLsPGY19/qVbKshOSU6lBNu7gwYYdS3CnHShMAiAAAgUkQCihyLCRlVLhoDHNWjI61yGx33WoOYmStSGU07Wu2RAwFAQAAEQiEsA0UNcLEisTAKM85TFcLC5fs3K2u+ZXbfyBYG1tdV3OMQKdff+Otb0WP2aDR22Upo0yZef0AMCIFA5BBA9VE5bw1OOQKrvcuFOnbFDnEosk/xxbatL/vKTUrFAWNNqfO8NKWHMrd02TyY6IAsCIAACJUUA0UNJNQeMWVwCgppdcnmD+Mu8fJrhPm/3nNfXa2x+pfyHFC2EeN60jvv3sQYBEACBJUgA0cMSbLQlb3JlOSDcqZCsFsu3Bsczlvljkz9VFgV4CwIgUF4EED2UV3vCmxIksF41cnlysDV4S8X5CW7UYZukpgRNhUkgAAIgkB4BRA/pcSo/KXi0OARYq8HAkBqdXrEYt4gujs+oFQRAoPwIIHoovzaFR6VLgB19un1Y3P3OadX60jUSloEACIBASgKIHlIiKqAAVFcWgWlDU+cNzYdnNbX8ynIc3oIACJQdAUQPZdekcKg0CUwb6r9xofvDkbZqHiEeR78Z77QozYaCVSAAAukQQPSQDiXIgEBuBFhbx+MuzUcD8tv9eqaGfsnQIMK/U6ZrD3sz80da3GLZzAvlBPAWm06NHiqV6gmh6cjQwDEbLNl5eIstW9eyA4JSeSWA6CGvOKEsRwK3HIbOUjkp96TqLdL1lXVo5c1m95n2e0WiDb5F1GT6b3cG78FIV00x5LwelmHz4Thr725SO75IYfPC5vZOqBuL+CDOaXOzwnx9WQozaTaPMTd9w+BKfEiw411NBye+SK2Kd32wqbHfRXUWdilj1woLDtrTJVAa0UO61kKuzAk4e5TqE3Z34v/RBfbfbXpYJFpTtVFD/7m7tPdUraGd/UF7jpW6T7TrzxPCMsy14MJ4BNXrS2zswW3aUVV128o1osZjV3P0mLj7m/aRV4w7U1zeEae5+VKjQaCWJ+unczUuVP6WreMbFnmfShzb5XvivOVkveqt/fam7yV4wvgVQ5OSvNInjeuwq1/WfNwdqlZ84K0nxpuUo4V8Vnkc1xK/aSVj10KqtKZxV2SsWQzXQhzT3QhZi1fMpIssTTlED2mCgljhCVwx7Oul/2Sn3Dn3XtnaKmx7a2Zmdj70mb08M3NYkq22QDnhgcmQwtDGzKFSe9yDsO3M/Oxr0oDR6fxMmfVnmTiC18wdGuErL9bFyYpMStTcd2t6/krb2k+PhEjp/G87XlTa9/YoVoc0p3jLCb+5v/vfW58eXTizwpg71cLDL9fFRiE+zdP61oN2d9Q7U/gtR7rdjz1ti0r0CedptcA1NvmbVjJxzW3aUat2N7RpdbonheOP1q7cERnqFdy1DAmxyR3PUBvEowiEo4eoZOyAQLEJ0H/BQ6Sa1jo3V8izMloBlkQE+LfHPXmOL858bBm6tLArJfberom9+1tWxC8VTE3W3JJ9Ko9GbSlY58rZcM30/Oti1V4xtx3+Jn/LiUDxXamlW08HpsIl6Na4vsvRtv+heGNJXpd+vzZWnhZZrXhiu+WZf4qTQzNzXRa6Np7yTStpu/aB4YUP3PaPGQGfz69WdO8TkEl112BEEFlQ1zJFk9rxTDVCPkwA0UOYBbYWkYBn9Hn9ht7Bb9H/5syn1xfREFSdJgF2fDTenI7XZj5OFC0pBmxSNHe1fLfAejLOWX6atqUWcw8fczQoHgwPPNAigpRvOeHtfFB61TxE56GoeHCxDZrIY7sl8QYeXEe7Pvmmih7TQdnQL0+2S+o+MVSI+24WupbOm1bSdW3Z8uV0Fu7adX+Ez/uvX6Yuzd2KDCIL6BqtK6MlHcczUljKwsW3DdFD8ZmjxgUEvI4XDpLeF+v8p29s1D+jBcJIyC8BD+M8a7WesrsSXKDPTtlMOrXhTZvzZqhij+t1OoZPyBzj+0SUnLSNEFlDbUgy3kbq5q7Zsp3Yfh14r1g8FTmmMfazLvG2LRk/7nNFneRuxvqvkWMGDtuvqMPxpmmm9V0u1RHZqri28uokNYzVNh03M5fEOK6l9aaVNF2r1c38bmb2pP9JqYz91xSFePdOYaTFBXMtspK0ttNyPC1NEIpDANFDHChIKjIBd/8zn75wRLqCCNdvolW7r0UMhNJ9LAUjwI53bbzjfi13cwRr/0GLTOOIqsrLWB4T3aNxib/dKV1ubRWJOka5c07niS7D+3NfEOI+26fVabW6t2kf4i/odtg91Ztrlvn34q/TaW6xWEymXCG18RVln+q0j5NN1fEGBVLoFFK7XL+NsOvKhN0j3nzXgmJel6H7k/36+NdRctJrxeuJ65MITVxiHr7xXEvrTSvpusa7XcDnwnyPe/AZ7SRf0jeoWhdtd6Fci64lnb20HE9HUZoylSWG6KGy2rsUvb1m7rDu7m0Oz7jPzc0ltJO1KDf4bnpMulYOc51cQiXI8BOY1jc2mcSmj4bVLfJd8rbDI4NPRXWo7v4m5aktr/xcJVkrEO8yGvey5rZXaXxRs9doPLSbnm8KW3TGPqOxTxG6BJTrWYWrkp3Tp9fcXBw5/UmiKyfZYWXg3tdkh4HSkugouOKaIoI74w8K+NEkXIvvEpNL7rBhrgsuEsdhV3/XhX1H5OGDeqFC8eZqMnUlrGmhRDYpqV1L+KaVNF2jVrmPN4s2bGw8aBer3zr+SNQxQ3MJSe6aU39/6j/h+h/mfVYnoeM+m7HKmACih4yRoUBeCbBWzbG6HhXtiji1q+6kHQ+TZOyB3zJweWYm1TIQEYtwavGNR8DWo3UR6Z6d4S4u+qpJh0HnIg3ShuD1j5JtMsLaJq7E0xWZxvedmkamhLczam6WTXDhJL95IOUxMHN5oCXsWdiC4NaXv5wsNygV9/fm3FxUOp8fRBRInjZ0/Xb/EVnqChIGyh7WNyWUeJXsSVzJXEvxppWUrvk8FO4b5vj/7jeKjxtFolbLNV9q9Cqha6Sm+73Uf8LnngtFpNF6uedtJcbCMAzDxD1sUjgeWwn2UxNA9JCaESQKSOADbfuwUy+pCnwkem7S4rPr3LqAtUI1JeCmJ+CELOj5aI5/4cbkCfnUou3s6PAvZ7+k2LtbHNNT+oXTXGfW3Mz18JUWaVZQFDHaeSWrx23ovrBfn3TcIVg8kSbmnMk3JURnhRIsLw1lc26e8k0riQwKGhz1u4yvaG0hrFX5hHnhH2xGmqLUpthhxn+cgAk3icZlqS0L2KR0PEWlyI5DANFDHChIKhIBr0v//U+PRDxfYX5+uIXW/fuIq/DobtSS8qSM/teKf/IRpQY7KQms4HND+3cperi5CTo94V+6pYLYkp5puzPe2WesXMbNvV68NlZHYD+9oyDyQUaBgnn5qRYvHKwPK756xj49/kzouaI76AAPceka6VSL+t2wlH+Lu7zDvxW9Fmzv9k0J+ZnHXYdni6KLJt6bTuNNK8ldI4Qd13d06u2hKaG7NnMoxu0x3TU1IpFrNMtzk/sjTfFN+D9AIH0uLpCIxL3R4xbpOE7NwpIhAUQPGQKDeP4IuF9vH/9Of5zh5UuJL5fzsq73JyZSLReuRd5Clj+LF1dT3h4j7XdDuKWeR8iNhOM8gh2yWkI+jrqwj520OxfMJjCjXX1Tfp1EsFpAXK64k/kZNbfnFu2gvhRQuvDnpivlMTDx/gX3FwtL+lIEq4TUyn/3bWe44gbkl0eU4ebapl2Rzzdb2zYcObN2RkP7V7F6jA7167YkAtCbAAAJ90lEQVRFFCRzczcJL+nlpZHS6W4nci2NN62kdo24zc9qzSe0XSeCLcxd9kEI78+5GzfDJiZ3jXV/PJG6+a7QAyCsMfutNBzPXnlll0T0UNntv3jee6b0rQdX7X8k5kxW+BXudPNPCe1aJqjbJZenWiSl9hjohP5kkOHQiNaI1tT+0JVBmaSidU/1SIjdMBhU6GWtlhFC5oJP6xK0vdzGZ/TaweD/ca+z7+Vx4u87uV6KinIXAMzNrQq9tGOV8CvksptZUG+mze12u0lDXfQpZITS1XUpjwH5LknCSZYVwjt5xJ3k8ho6ue6NqC5i0+1meHVbApfp0PQ7qMMud5KhF68vkPWvqXxo8bo/ZXhbvhbWFMrJaSPsWoSa9N60koZrAvEmHlkrf3ZnwGynw0GrqTmkirpjNYVrfPH21H/C8rsFVHOuS3qO51pLpZZH9FCpLb+Ifk9qN66sWnm/1kmsrXfIzMH/vPaDojW31Wq50zhL821rRI9bgr1WUW1lp8y+mX7uqfiM7z9/fqtnRztqs3p3huBOehJL3DZb8LwvZ7tWKywf9gh/XF+7p6OjU9n8jXb36gZCGL2kao3fwvt6fvOOjry0RrRDSQVkD+iFek3gbswVLbrDdUxva3Nn8zOMqpN7SChnj6BBKva4PokMH7Jpbs+UwyXeLslHB8JZteBbJ32ITPw2BqTb9HDKt5w4neeI7G8i+kqBRFrtcbkiHQ7VZldvEK28xzdz8VLtSpEoaubionOcyKR0dCcknp+NOK6l96aVdFzjSfUWFc/+qkZrOmW16GRNvW5x+8jp9kAwEfCgUK4F1Kf/k57j6euDZBQBRA9ROLBTDAK1mos3gi98+Hwk9KIByeGZ2c9D6bMzb8SZ0yiweR5b58aHf7Fq9yGd7jnp3D/Vizbm+32PrPXpx8yum4mG1JP5J3xibH5+rC16jDhZgTTyeNVtwzM3zr2m0RzqHz4zqFIPzMzM3vh8fjb4dg9+rWp4Zv7iz1/RqI9Y7IOK9WGl4vax+f98r//Q4Nhr0vDdBeuk8rV267mIsCuL5r418vaoUL49uk8K15yHrQap3POrM9Gz9Wm85eSSdYiRf52GWGEThFKZ0D46HuFwKE+iuzwTOtJvzMxEzly4fj3EyL7esCwknLeNha6l9aaVNF3jS3QfzYwdalhFyPLqrrH/nJ88LAm3vs+JwrnmU5/BKi3HM9AH0SgCiB6icGCnogkwQ4YTbsf7Lt7tfP5qSbdKShhz68vc2GyesLDW7nZLvH4mXf2XzrjqpHnvVHm3CwS38zgbeHyBgL9wMp4ToOmcRPR3BT9QMJws7nxRavuROe7JeFgq6RY7etK68+9D4xlJZbPM5D3U3b3c8NPxzIo7LUPkme6YV3iIO/5eOvp6aAgtLY1e59AvSHdXiw96WiXSFyq8azx+tcQ3cySJMzdUSNfShwDJIhBA9FAEyKhiSRG4EriOkLecO6fy3OKm9vPiADvy9LG7OrmbSrJT53WbDjpaYl/slJ2uApbiN/fqvHr9B9lW4XX2/YDRafM28hTfjmU13f+4++1XM4lyWIt2sK73qQUXY/Bbeg9/of+nDKJM9lda89bezrvjm5Zrahm7lisalM8nAUQP+aQJXUubgEBhmZ2Z/UTnn9a2vztCCK9FFjVOnb2DdM7i+Oae9gV9T/oarzrIM4OhiZ70yxVdUqiy9v9BpbRldd2KU7fP/p3jqogpkgLZz9tuPL3d/OjR4EWjKaphLd97flXfESkXUsaKCttP97PtSt9jvGPzFu6zlnbNqn59XE0LpbNJKWPXssGBMoUhgOihMFyhdWkSoCP3/ucGsh9oXzjuET5hObIzL6PLrK372Ff0KvGyHLisa2lriNd35aCyUEX50oG3v259yRqMH9Ktx/Outk84ONbOXR+abpkc5MQH3nrlj6/qg7ebJtHkOv70hSc+Mu5MxJ8vfe3010e0aTjsMnVf2P+hsYCxg8+NMnbN5x9Wi08A0cPitwEsKC0C76pFG0T3KAyeRwaGX4y9Iiw7U9nRpw3inu7Cn09nZ15BSq1uMSZ/z0O8WnnbNANFnZrh16kHurlXs8WzJiJNvG9Alzx0WyZoea1Hnii6CKsSt5l0+TmqwjrjbpWxa3H9RWKxCSB6KDZx1FfqBLbpZi7PzMxc7Rf8Q+1/r9dOZnr+vMA/1vb0j7/Sc6BI59MLqg8m4BcEQAAE8kcA0UP+WEJTWRHg1X1bISZO/Te1jgQPDkrPXY/toOEr+u6c5izSqwlSIAACIFA0AogeioYaFZU8gWmLulNtmQ7aub6GG9Jm7RPcA6yCiRn/Ttjf/cT0YOCVxKINSgvVMKykkyPNx2OeVkQzsIAACIDA0iCA6GFptBOsLAIBW4/ScMKg7LEF6rri8l1Ot8p/HWUgMeMfiY7Og4SXAe6OzeYBOjkyvC/vD27I2DgUAAEQAIHsCCB6yI4bSi1dAgktF98lJrya7tYtfgn2Y7uLEH6ranceH5jsf9+Bf+2vBmsQAAEQWIIEED0swUaDyYUhIGwfNNZfN+vUhjet1uMd9z9uE2w3jvVJ83LLJiFu08OiNStbfTMXrVVrRJi5KEwzQisIgEAxCCB6KAZl1BFLoDT3l4kVb81cfGO/eDkht8sHZ27MvKXI39WO3GsUwi/ymJ3BzEVpHgWwCgRAIB0CiB7SoQSZCiLAW10j3SWX75LWCPI06FBB8OAqCIBApRBA9FApLb3QT6SAAAiAAAiAQHYEED1kxw2lQAAEQAAEQKByCSB6WNy2R+2LSWDuJhP8sJ6cHgmVrRe32KABDDOXrRKUAwEQAIGiE0D0UHTkqLBUCLj0D4iCn8ZjOT0SKkuX3McbgwaIGntdWWpBMRAAARAoOgFED4QUHToqLAEC0oH5yM+kat0iGCU8MBlpxLxJughGoEoQAAEQyJwAoofMmaEECIAACIAACFQ2gVKJHiq7FeA9CIAACIAACCwlAogellJrwVYQAAEQAAEQKAUCkdFDKdgDG0AABEAABEAABEqdAKKHUm8h2AcCIAACIAACqQgUOx/RQ7GJoz4QAAEQAAEQWOoEED0s9RaE/SAAAiAAAqVBoJKsQPRQSa0NX0EABEAABEAgHwQQPeSDInSAAAiAAAiUBgFYURwCiB6Kwxm1gAAIgAAIgED5EED0UD5tCU9AAARAoDQIwIryJ4DoofzbGB6CAAiAAAiAQH4JIHrIL09oAwEQAIHSIAArQKCQBBA9FJIudIMACIAACIBAORJA9FCOrQqfQAAESoMArACBciWA6KFcWxZ+gQAIgAAIgEChCCB6KBRZ6AUBECgNArACBEAg/wQQPeSfKTSCAAiAAAiAQHkTQPRQ3u0L70CgNAjAChAAgfIigOihvNoT3oAACIAACIBA4Qn8fwAAAP//LXOAVgAAAAZJREFUAwDd3NdSrdOlfgAAAABJRU5ErkJggg==)"
      ],
      "metadata": {
        "id": "KAhYmUzsiBJO"
      }
    },
    {
      "cell_type": "code",
      "source": [
        "print(np.linalg.det(A))"
      ],
      "metadata": {
        "colab": {
          "base_uri": "https://localhost:8080/"
        },
        "id": "ehbV2xDviCc-",
        "outputId": "c69f4f30-6f7d-402b-d37b-7e4b6a886a9d"
      },
      "execution_count": null,
      "outputs": [
        {
          "output_type": "stream",
          "name": "stdout",
          "text": [
            "-2.0000000000000004\n"
          ]
        }
      ]
    },
    {
      "cell_type": "code",
      "source": [
        "print(np.linalg.inv(A))"
      ],
      "metadata": {
        "colab": {
          "base_uri": "https://localhost:8080/"
        },
        "id": "IJu1cdo5iOo-",
        "outputId": "dadda9ca-b509-4d21-9307-489c89ce6d1e"
      },
      "execution_count": null,
      "outputs": [
        {
          "output_type": "stream",
          "name": "stdout",
          "text": [
            "[[-2.   1. ]\n",
            " [ 1.5 -0.5]]\n"
          ]
        }
      ]
    },
    {
      "cell_type": "markdown",
      "source": [
        "![image.png](data:image/png;base64,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)"
      ],
      "metadata": {
        "id": "idlxATE5XHMg"
      }
    },
    {
      "cell_type": "code",
      "source": [
        "eigenvalues, eigenvectors = np.linalg.eig(A)\n",
        "print(eigenvalues)\n"
      ],
      "metadata": {
        "colab": {
          "base_uri": "https://localhost:8080/"
        },
        "id": "ZaEvSAV7Xqnm",
        "outputId": "076259ac-32da-4115-9d46-7468d0744742"
      },
      "execution_count": null,
      "outputs": [
        {
          "output_type": "stream",
          "name": "stdout",
          "text": [
            "[-0.37228132  5.37228132]\n"
          ]
        }
      ]
    },
    {
      "cell_type": "code",
      "source": [
        "print(eigenvectors)"
      ],
      "metadata": {
        "colab": {
          "base_uri": "https://localhost:8080/"
        },
        "id": "FzOFOofHix7c",
        "outputId": "8c21f351-7c97-4668-b3b5-e61c9511c20b"
      },
      "execution_count": null,
      "outputs": [
        {
          "output_type": "stream",
          "name": "stdout",
          "text": [
            "[[-0.82456484 -0.41597356]\n",
            " [ 0.56576746 -0.90937671]]\n"
          ]
        }
      ]
    },
    {
      "cell_type": "markdown",
      "source": [
        "![image.png](data:image/png;base64,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)"
      ],
      "metadata": {
        "id": "7xI7GhfTXO9f"
      }
    },
    {
      "cell_type": "code",
      "source": [
        "C = np.array([5, 11])\n",
        "solution = np.linalg.solve(A, C)\n",
        "print(solution)"
      ],
      "metadata": {
        "colab": {
          "base_uri": "https://localhost:8080/"
        },
        "id": "tGqttvLJit2t",
        "outputId": "6e7cc9dd-5346-4752-dc75-3be0d7c218d6"
      },
      "execution_count": null,
      "outputs": [
        {
          "output_type": "stream",
          "name": "stdout",
          "text": [
            "[1. 2.]\n"
          ]
        }
      ]
    },
    {
      "cell_type": "code",
      "source": [
        "A = np.array([[1, 2], [3, 4]])\n",
        "B = np.array([[5, 6], [7, 8]])\n",
        "vertical_stack = np.vstack((A, B))\n",
        "horizontal_stack = np.hstack((A, B))\n",
        "print(vertical_stack)\n",
        "print(horizontal_stack)"
      ],
      "metadata": {
        "colab": {
          "base_uri": "https://localhost:8080/"
        },
        "id": "_7qzPMdGjGR3",
        "outputId": "cf82f8cc-2cdc-47ae-bec7-236dcf984522"
      },
      "execution_count": null,
      "outputs": [
        {
          "output_type": "stream",
          "name": "stdout",
          "text": [
            "[[1 2]\n",
            " [3 4]\n",
            " [5 6]\n",
            " [7 8]]\n",
            "[[1 2 5 6]\n",
            " [3 4 7 8]]\n"
          ]
        }
      ]
    },
    {
      "cell_type": "code",
      "source": [
        "split_arr = np.split(np.array([1, 2, 3, 4, 5, 6]), 2)\n",
        "print(split_arr)"
      ],
      "metadata": {
        "id": "zvJeapwxkJv8",
        "outputId": "4fc8c7e2-8ab9-46f8-dbd7-03dcd5b46a6f",
        "colab": {
          "base_uri": "https://localhost:8080/"
        }
      },
      "execution_count": null,
      "outputs": [
        {
          "output_type": "stream",
          "name": "stdout",
          "text": [
            "[array([1, 2, 3]), array([4, 5, 6])]\n"
          ]
        }
      ]
    }
  ]
}