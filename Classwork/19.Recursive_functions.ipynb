{
 "cells": [
  {
   "cell_type": "markdown",
   "id": "f0a76360",
   "metadata": {},
   "source": [
    "***Pass by Value and Pass by Reference***\n",
    "\n",
    "In Python, arguments are passed to functions by object reference. The behavior depends\n",
    "on whether the object is mutable or immutable:\n",
    "● Immutable objects (int, float, string, tuple): Behave like pass-by-value (changes\n",
    "inside the function do not affect the original object).\n",
    "● Mutable objects (list, dictionary, set, etc.): Behave like pass-by-reference\n",
    "(changes inside the function affect the original object).\n",
    "\n"
   ]
  },
  {
   "cell_type": "markdown",
   "id": "5a9177c1",
   "metadata": {},
   "source": [
    "\n",
    "***Recursion***\n",
    "''' when we call a function itself inside the same function is called Recursion'''\n",
    "\n",
    "First in, first out\n",
    "call is first and execution is last"
   ]
  },
  {
   "cell_type": "code",
   "execution_count": 2,
   "id": "32dabad2",
   "metadata": {},
   "outputs": [
    {
     "name": "stdout",
     "output_type": "stream",
     "text": [
      "10\n",
      "9\n",
      "8\n",
      "7\n",
      "6\n",
      "5\n",
      "4\n",
      "3\n",
      "2\n",
      "1\n",
      "55\n"
     ]
    }
   ],
   "source": [
    "def num(n):\n",
    "    if n == 0:\n",
    "        return n\n",
    "    print(n)\n",
    "    return n+num(n-1)\n",
    "print(num(10))"
   ]
  },
  {
   "cell_type": "code",
   "execution_count": null,
   "id": "cc162a37",
   "metadata": {},
   "outputs": [
    {
     "name": "stdout",
     "output_type": "stream",
     "text": [
      "5\n",
      "4\n",
      "3\n",
      "2\n",
      "120\n"
     ]
    }
   ],
   "source": [
    "def product(n):\n",
    "    if n == 1:          # Base condition when to stop\n",
    "        return n\n",
    "    print(n)\n",
    "    return n*product(n-1)   # Return value[Recursion]\n",
    "print(product(5))       # function call"
   ]
  },
  {
   "cell_type": "code",
   "execution_count": null,
   "id": "8c9f8847",
   "metadata": {},
   "outputs": [
    {
     "name": "stdout",
     "output_type": "stream",
     "text": [
      "p\n",
      "y\n",
      "t\n",
      "h\n",
      "o\n",
      "n\n",
      " \n",
      "p\n",
      "r\n",
      "o\n",
      "g\n",
      "r\n",
      "a\n",
      "m\n",
      "m\n",
      "i\n",
      "n\n",
      "g\n"
     ]
    }
   ],
   "source": [
    "def display(s,ind):\n",
    "    if ind == len(s):   # Base condition when to stop\n",
    "        return \n",
    "    print(s[ind])       \n",
    "    display(s,ind+1)    # recursion\n",
    "\n",
    "s = 'python programming'\n",
    "display(s,0)"
   ]
  },
  {
   "cell_type": "code",
   "execution_count": 18,
   "id": "68224e1b",
   "metadata": {},
   "outputs": [
    {
     "name": "stdout",
     "output_type": "stream",
     "text": [
      "gnimmargorp nohtyp"
     ]
    }
   ],
   "source": [
    "def display(s,ind):\n",
    "    if ind == -1:   # Base condition when to stop\n",
    "        return \n",
    "    print(s[ind],end = \"\")       \n",
    "    display(s,ind-1)    # recursion\n",
    "\n",
    "s = 'python programming'\n",
    "display(s,len(s)-1)"
   ]
  },
  {
   "cell_type": "code",
   "execution_count": null,
   "id": "5ed5f1cd",
   "metadata": {},
   "outputs": [
    {
     "name": "stdout",
     "output_type": "stream",
     "text": [
      "p y t h o n   p r o g r a m m i n g g n i m m a r g o r p   n o h t y p "
     ]
    }
   ],
   "source": [
    "def display(s,ind):\n",
    "    if ind == len(s):   # Base condition when to stop\n",
    "        return   \n",
    "    print(s[ind],end = \" \")     # first in  ***p y t h o n   p r o g r a m m i n g***\n",
    "    display(s,ind+1)    # recursion\n",
    "    print(s[ind],end = \" \")      # Last out ***g n i m m a r g o r p   n o h t y p***\n",
    "\n",
    "s = 'python programming'\n",
    "display(s,0) "
   ]
  },
  {
   "cell_type": "code",
   "execution_count": 35,
   "id": "91384a34",
   "metadata": {},
   "outputs": [
    {
     "name": "stdout",
     "output_type": "stream",
     "text": [
      "65874526\n",
      "43\n"
     ]
    }
   ],
   "source": [
    "n = int(input())\n",
    "print(n)\n",
    "sumofdigits = 0\n",
    "while n>0:\n",
    "    sumofdigits += (n % 10)\n",
    "    n = n//10\n",
    "print(sumofdigits)\n"
   ]
  },
  {
   "cell_type": "code",
   "execution_count": 8,
   "id": "2d9c6b55",
   "metadata": {},
   "outputs": [
    {
     "name": "stdout",
     "output_type": "stream",
     "text": [
      "55\n",
      "10\n"
     ]
    }
   ],
   "source": [
    "def sumofdigit(n):\n",
    "    if n<=0:             # Base condition\n",
    "        return n\n",
    "    return (n%10) + sumofdigit(n//10)\n",
    "\n",
    "n = int(input())\n",
    "print(n)\n",
    "print(sumofdigit(n))"
   ]
  },
  {
   "cell_type": "code",
   "execution_count": 46,
   "id": "89597219",
   "metadata": {},
   "outputs": [
    {
     "name": "stdout",
     "output_type": "stream",
     "text": [
      "82686\n",
      "68628\n"
     ]
    }
   ],
   "source": [
    "# def sumofdigit(n):\n",
    "#     if n<=0:             # Base condition\n",
    "#         return n\n",
    "#     return (n%10) + sumofdigit(n//10)\n",
    "\n",
    "n = int(input())\n",
    "print(n)\n",
    "num = 0\n",
    "while n > 0:\n",
    "    num = (num*10) + n%10\n",
    "    n = n//10\n",
    "print(num)\n",
    "\n"
   ]
  },
  {
   "cell_type": "code",
   "execution_count": null,
   "id": "93f4df30",
   "metadata": {},
   "outputs": [
    {
     "name": "stdout",
     "output_type": "stream",
     "text": [
      "156\n",
      "651\n"
     ]
    }
   ],
   "source": [
    "def reverse(n):\n",
    "    if n<=0:             # Base condition\n",
    "        return n\n",
    "    # rev = 0\n",
    "    # while n != 0:\n",
    "    #     rev = rev*10 +(n%10)\n",
    "    #     n = n//10\n",
    "    # return rev\n",
    "    \n",
    "\n",
    "n = int(input())\n",
    "print(n)\n",
    "print(reverse(n))"
   ]
  }
 ],
 "metadata": {
  "kernelspec": {
   "display_name": "Python 3",
   "language": "python",
   "name": "python3"
  },
  "language_info": {
   "codemirror_mode": {
    "name": "ipython",
    "version": 3
   },
   "file_extension": ".py",
   "mimetype": "text/x-python",
   "name": "python",
   "nbconvert_exporter": "python",
   "pygments_lexer": "ipython3",
   "version": "3.11.9"
  }
 },
 "nbformat": 4,
 "nbformat_minor": 5
}
