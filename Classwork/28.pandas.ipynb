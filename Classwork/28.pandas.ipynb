{
  "cells": [
    {
      "cell_type": "code",
      "execution_count": 31,
      "metadata": {
        "colab": {
          "base_uri": "https://localhost:8080/"
        },
        "id": "s1rbxAPq4qno",
        "outputId": "f29b023e-c806-40cc-83d1-bd68ce032cd0"
      },
      "outputs": [
        {
          "name": "stdout",
          "output_type": "stream",
          "text": [
            "Wireless Earbuds      2999\n",
            "Smartphone           15999\n",
            "Laptop               52999\n",
            "Smartwatch            4999\n",
            "Bluetooth Speaker     1999\n",
            "dtype: int64\n"
          ]
        }
      ],
      "source": [
        "import pandas as pd\n",
        "\n",
        "product_prices = pd.Series(\n",
        "[2999, 15999, 52999, 4999, 1999],\n",
        "index=[\"Wireless Earbuds\", \"Smartphone\", \"Laptop\", \"Smartwatch\", \"Bluetooth Speaker\"]\n",
        ")\n",
        "print(product_prices)"
      ]
    },
    {
      "cell_type": "code",
      "execution_count": 32,
      "metadata": {
        "colab": {
          "base_uri": "https://localhost:8080/"
        },
        "id": "kEkdBKItD3mp",
        "outputId": "ffb63dd2-6e4b-4399-8fff-35e47897f580"
      },
      "outputs": [
        {
          "name": "stdout",
          "output_type": "stream",
          "text": [
            "15799.0\n"
          ]
        }
      ],
      "source": [
        "print(product_prices.mean())"
      ]
    },
    {
      "cell_type": "code",
      "execution_count": 33,
      "metadata": {
        "colab": {
          "base_uri": "https://localhost:8080/"
        },
        "id": "LJB8M2AOD8yu",
        "outputId": "c5501068-d5f0-453f-ec5c-2389f6d4ba91"
      },
      "outputs": [
        {
          "name": "stdout",
          "output_type": "stream",
          "text": [
            "78995\n"
          ]
        }
      ],
      "source": [
        "print(product_prices.sum())\n"
      ]
    },
    {
      "cell_type": "code",
      "execution_count": 34,
      "metadata": {
        "colab": {
          "base_uri": "https://localhost:8080/"
        },
        "id": "poUglGpZEJxM",
        "outputId": "08c4c09b-473d-4a64-9f81-a3c95e69a134"
      },
      "outputs": [
        {
          "name": "stdout",
          "output_type": "stream",
          "text": [
            "1999\n"
          ]
        }
      ],
      "source": [
        "print(product_prices.min())\n"
      ]
    },
    {
      "cell_type": "code",
      "execution_count": 35,
      "metadata": {
        "colab": {
          "base_uri": "https://localhost:8080/"
        },
        "id": "50_gupLAELig",
        "outputId": "ef1202a7-b5ea-45a1-8563-76894cd6d3b4"
      },
      "outputs": [
        {
          "name": "stdout",
          "output_type": "stream",
          "text": [
            "52999\n"
          ]
        }
      ],
      "source": [
        "print(product_prices.max())\n"
      ]
    },
    {
      "cell_type": "code",
      "execution_count": 36,
      "metadata": {
        "colab": {
          "base_uri": "https://localhost:8080/"
        },
        "id": "3XN4cwVTENqM",
        "outputId": "994ad5ed-06ca-458c-d843-3f1749f1a144"
      },
      "outputs": [
        {
          "name": "stdout",
          "output_type": "stream",
          "text": [
            "Wireless Earbuds     2999\n",
            "Smartphone          15999\n",
            "dtype: int64\n"
          ]
        }
      ],
      "source": [
        "print(product_prices.head(2))\n"
      ]
    },
    {
      "cell_type": "code",
      "execution_count": 37,
      "metadata": {
        "colab": {
          "base_uri": "https://localhost:8080/"
        },
        "id": "Kp_8vcahERRb",
        "outputId": "ee50d34d-9e95-4451-e4ee-6d181f5c88f1"
      },
      "outputs": [
        {
          "name": "stdout",
          "output_type": "stream",
          "text": [
            "Bluetooth Speaker    1999\n",
            "dtype: int64\n"
          ]
        }
      ],
      "source": [
        "print(product_prices.tail(1))\n"
      ]
    },
    {
      "cell_type": "code",
      "execution_count": 38,
      "metadata": {
        "colab": {
          "base_uri": "https://localhost:8080/"
        },
        "id": "VkI4ygZl57Di",
        "outputId": "0ec0d8ed-a2c1-48ed-9f35-23f8d5b1bb15"
      },
      "outputs": [
        {
          "name": "stdout",
          "output_type": "stream",
          "text": [
            "Applying (Adding 18% GST):\n",
            "  Wireless Earbuds      $2399.2\n",
            "Smartphone           $12799.2\n",
            "Laptop               $42399.2\n",
            "Smartwatch            $3999.2\n",
            "Bluetooth Speaker     $1599.2\n",
            "dtype: object\n"
          ]
        }
      ],
      "source": [
        "print(\"Applying (Adding 18% GST):\\n \",product_prices.apply(lambda x: f'${x-(x*0.2)}'))\n",
        "# use for some complex claculations"
      ]
    },
    {
      "cell_type": "code",
      "execution_count": 39,
      "metadata": {
        "colab": {
          "base_uri": "https://localhost:8080/"
        },
        "id": "o7ZpcW8T6VpP",
        "outputId": "53c95382-b314-42b0-b08e-a81185472e20"
      },
      "outputs": [
        {
          "name": "stdout",
          "output_type": "stream",
          "text": [
            "Applying (Adding 18% GST):\n",
            "  Wireless Earbuds      $2999.00\n",
            "Smartphone           $15999.00\n",
            "Laptop               $52999.00\n",
            "Smartwatch            $4999.00\n",
            "Bluetooth Speaker     $1999.00\n",
            "dtype: object\n"
          ]
        }
      ],
      "source": [
        "print(\"Applying (Adding 18% GST):\\n \",product_prices.map(lambda x: f'${x}.00'))\n",
        "# use for output formatting"
      ]
    },
    {
      "cell_type": "code",
      "execution_count": 40,
      "metadata": {
        "colab": {
          "base_uri": "https://localhost:8080/"
        },
        "id": "O82S7Iw26sZe",
        "outputId": "f2587b1b-a3cf-498f-ad97-dcf4dafa70d6"
      },
      "outputs": [
        {
          "name": "stdout",
          "output_type": "stream",
          "text": [
            "Sort by values:\n",
            " Bluetooth Speaker     1999\n",
            "Wireless Earbuds      2999\n",
            "Smartwatch            4999\n",
            "Smartphone           15999\n",
            "Laptop               52999\n",
            "dtype: int64\n"
          ]
        }
      ],
      "source": [
        "print('Sort by values:\\n',product_prices.sort_values())"
      ]
    },
    {
      "cell_type": "code",
      "execution_count": 41,
      "metadata": {
        "colab": {
          "base_uri": "https://localhost:8080/"
        },
        "id": "i8cgAecI66Bk",
        "outputId": "861e1539-36a2-4771-e32f-adad6b8a3096"
      },
      "outputs": [
        {
          "name": "stdout",
          "output_type": "stream",
          "text": [
            "Sort by index:\n",
            " Bluetooth Speaker     1999\n",
            "Laptop               52999\n",
            "Smartphone           15999\n",
            "Smartwatch            4999\n",
            "Wireless Earbuds      2999\n",
            "dtype: int64\n"
          ]
        }
      ],
      "source": [
        "print('Sort by index:\\n',product_prices.sort_index())"
      ]
    },
    {
      "cell_type": "code",
      "execution_count": 42,
      "metadata": {
        "colab": {
          "base_uri": "https://localhost:8080/"
        },
        "id": "9l4xtZF47l6H",
        "outputId": "ff1ce042-7a13-44f2-86ba-0f5112b8b03a"
      },
      "outputs": [
        {
          "name": "stdout",
          "output_type": "stream",
          "text": [
            "Sort by decending index:\n",
            " Wireless Earbuds      2999\n",
            "Smartwatch            4999\n",
            "Smartphone           15999\n",
            "Laptop               52999\n",
            "Bluetooth Speaker     1999\n",
            "dtype: int64\n"
          ]
        }
      ],
      "source": [
        "print('Sort by decending index:\\n',product_prices.sort_index(ascending = False))"
      ]
    },
    {
      "cell_type": "code",
      "execution_count": 43,
      "metadata": {
        "colab": {
          "base_uri": "https://localhost:8080/"
        },
        "id": "u1RE2VBZ7zFN",
        "outputId": "3a0f8d2d-bf4d-4d54-a162-2243d8879c3a"
      },
      "outputs": [
        {
          "name": "stdout",
          "output_type": "stream",
          "text": [
            "Sort by decending values:\n",
            " Laptop               52999\n",
            "Smartphone           15999\n",
            "Smartwatch            4999\n",
            "Wireless Earbuds      2999\n",
            "Bluetooth Speaker     1999\n",
            "dtype: int64\n"
          ]
        }
      ],
      "source": [
        "print('Sort by decending values:\\n',product_prices.sort_values(ascending = False))"
      ]
    },
    {
      "cell_type": "code",
      "execution_count": 44,
      "metadata": {
        "colab": {
          "base_uri": "https://localhost:8080/"
        },
        "id": "AJ6VXz3-8Ftz",
        "outputId": "ce6a8272-0f98-47ca-fd96-de9abb4e3249"
      },
      "outputs": [
        {
          "name": "stdout",
          "output_type": "stream",
          "text": [
            "value Counts:\n",
            " 2999     1\n",
            "15999    1\n",
            "52999    1\n",
            "4999     1\n",
            "1999     1\n",
            "Name: count, dtype: int64\n"
          ]
        }
      ],
      "source": [
        "print('value Counts:\\n',product_prices.value_counts())"
      ]
    },
    {
      "cell_type": "code",
      "execution_count": null,
      "metadata": {
        "colab": {
          "base_uri": "https://localhost:8080/"
        },
        "id": "oWdUPQao8plY",
        "outputId": "776b6521-a418-4e39-e89b-52dd9defc52c"
      },
      "outputs": [
        {
          "name": "stdout",
          "output_type": "stream",
          "text": [
            "             Product     Brand  Price  Stock\n",
            "0   Wireless Earbuds     Boult   2999     50\n",
            "1         Smartphone    RealMe  15999     30\n",
            "2             Laptop    Lenovo  52999     20\n",
            "3         Smartwatch  fastrack   4999     40\n",
            "4  Bluetooth Speaker        MI   1999     60\n"
          ]
        }
      ],
      "source": [
        "data = {\n",
        "\"Product\": [\"Wireless Earbuds\", \"Smartphone\", \"Laptop\", \"Smartwatch\", \"Bluetooth Speaker\"],\n",
        "\"Brand\": [\"Boult\", \"RealMe\", \"Lenovo\", \"fastrack\", \"MI\"],\n",
        "\"Price\": [2999, 15999, 52999, 4999, 1999],\n",
        "\"Stock\": [50, 30, 20, 40, 60]\n",
        "}\n",
        "# need to have same length of rows\n",
        "df = pd.DataFrame(data)\n",
        "print(df)"
      ]
    },
    {
      "cell_type": "code",
      "execution_count": 46,
      "metadata": {
        "colab": {
          "base_uri": "https://localhost:8080/"
        },
        "id": "qnozs9dR_P9O",
        "outputId": "a75732eb-0af4-4a51-e10e-f76094d4e8bd"
      },
      "outputs": [
        {
          "name": "stdout",
          "output_type": "stream",
          "text": [
            "Shape of DataFrames:\n",
            " (5, 4)\n"
          ]
        }
      ],
      "source": [
        "print(\"Shape of DataFrames:\\n\",df.shape)"
      ]
    },
    {
      "cell_type": "code",
      "execution_count": 47,
      "metadata": {
        "colab": {
          "base_uri": "https://localhost:8080/"
        },
        "id": "6VUjIWmO_d8n",
        "outputId": "ca7a29e9-232b-4813-c6fb-809dd2f0d436"
      },
      "outputs": [
        {
          "name": "stdout",
          "output_type": "stream",
          "text": [
            "Columns of DataFrames:\n",
            " Index(['Product', 'Brand', 'Price', 'Stock'], dtype='object')\n"
          ]
        }
      ],
      "source": [
        "print(\"Columns of DataFrames:\\n\",df.columns)"
      ]
    },
    {
      "cell_type": "code",
      "execution_count": 48,
      "metadata": {
        "colab": {
          "base_uri": "https://localhost:8080/"
        },
        "id": "RFPvZDZp_kiz",
        "outputId": "1c67e167-c9ed-4edd-c4ec-d24aebccc088"
      },
      "outputs": [
        {
          "name": "stdout",
          "output_type": "stream",
          "text": [
            "Index of DataFrames:\n",
            " RangeIndex(start=0, stop=5, step=1)\n"
          ]
        }
      ],
      "source": [
        "print(\"Index of DataFrames:\\n\",df.index)"
      ]
    },
    {
      "cell_type": "code",
      "execution_count": 49,
      "metadata": {
        "colab": {
          "base_uri": "https://localhost:8080/"
        },
        "id": "FXYoRZQm_9n_",
        "outputId": "f8fb5b9e-7307-44e7-d41d-f9090ac22a0e"
      },
      "outputs": [
        {
          "name": "stdout",
          "output_type": "stream",
          "text": [
            "Information of DataFrame:\n",
            "<class 'pandas.core.frame.DataFrame'>\n",
            "RangeIndex: 5 entries, 0 to 4\n",
            "Data columns (total 4 columns):\n",
            " #   Column   Non-Null Count  Dtype \n",
            "---  ------   --------------  ----- \n",
            " 0   Product  5 non-null      object\n",
            " 1   Brand    5 non-null      object\n",
            " 2   Price    5 non-null      int64 \n",
            " 3   Stock    5 non-null      int64 \n",
            "dtypes: int64(2), object(2)\n",
            "memory usage: 292.0+ bytes\n",
            "None\n"
          ]
        }
      ],
      "source": [
        "print(\"Information of DataFrame:\")\n",
        "print(df.info())"
      ]
    },
    {
      "cell_type": "code",
      "execution_count": 50,
      "metadata": {
        "colab": {
          "base_uri": "https://localhost:8080/"
        },
        "id": "beGa9JPYAmw0",
        "outputId": "e10cd8aa-be48-4cbd-c0b9-f9d0e7554e45"
      },
      "outputs": [
        {
          "name": "stdout",
          "output_type": "stream",
          "text": [
            "Statistical Summary:\n",
            "               Price      Stock\n",
            "count      5.000000   5.000000\n",
            "mean   15799.000000  40.000000\n",
            "std    21533.694527  15.811388\n",
            "min     1999.000000  20.000000\n",
            "25%     2999.000000  30.000000\n",
            "50%     4999.000000  40.000000\n",
            "75%    15999.000000  50.000000\n",
            "max    52999.000000  60.000000\n"
          ]
        }
      ],
      "source": [
        "print(\"Statistical Summary:\\n\",df.describe())"
      ]
    },
    {
      "cell_type": "code",
      "execution_count": 51,
      "metadata": {
        "colab": {
          "base_uri": "https://localhost:8080/"
        },
        "id": "iMR0kU399OIb",
        "outputId": "5c181b0a-5ded-421f-a30f-ec8d496332e2"
      },
      "outputs": [
        {
          "name": "stdout",
          "output_type": "stream",
          "text": [
            "Head of data:\n",
            "             Product  Brand  Price  Stock\n",
            "0  Wireless Earbuds  Boult   2999     50\n",
            "Head of data:\n",
            "             Product   Brand  Price  Stock\n",
            "0  Wireless Earbuds   Boult   2999     50\n",
            "1        Smartphone  RealMe  15999     30\n",
            "2            Laptop  Lenovo  52999     20\n",
            "Head of data:\n",
            "             Product   Brand  Price  Stock\n",
            "0  Wireless Earbuds   Boult   2999     50\n",
            "1        Smartphone  RealMe  15999     30\n"
          ]
        }
      ],
      "source": [
        "print(\"Head of data:\\n\",df.head(1))\n",
        "print(\"Head of data:\\n\",df.head(3))\n",
        "print(\"Head of data:\\n\",df.head(2))\n"
      ]
    },
    {
      "cell_type": "code",
      "execution_count": 52,
      "metadata": {
        "colab": {
          "base_uri": "https://localhost:8080/"
        },
        "id": "g4ou-Uko-nn9",
        "outputId": "e81ee67f-448d-4e1d-e99e-2f5987f48c39"
      },
      "outputs": [
        {
          "name": "stdout",
          "output_type": "stream",
          "text": [
            "Tail of data:\n",
            "              Product Brand  Price  Stock\n",
            "4  Bluetooth Speaker    MI   1999     60\n"
          ]
        }
      ],
      "source": [
        "print(\"Tail of data:\\n\",df.tail(1))"
      ]
    },
    {
      "cell_type": "code",
      "execution_count": 53,
      "metadata": {
        "colab": {
          "base_uri": "https://localhost:8080/"
        },
        "id": "GfZkuIsT-wpy",
        "outputId": "d99fcc4f-25a6-40fe-872b-b407458fa3a3"
      },
      "outputs": [
        {
          "name": "stdout",
          "output_type": "stream",
          "text": [
            "             Product     Brand  Price  Stock\n",
            "0   Wireless Earbuds     Boult   2999     50\n",
            "1         Smartphone    RealMe  15999     30\n",
            "2             Laptop    Lenovo  52999     20\n",
            "3         Smartwatch  fastrack   4999     40\n",
            "4  Bluetooth Speaker        MI   1999     60\n",
            "Smartphone\n",
            "Lenovo\n",
            "40\n",
            "15999\n",
            "20\n",
            "Bluetooth Speaker\n"
          ]
        }
      ],
      "source": [
        "print(df)\n",
        "print(df.loc[1,'Product'])   # Extract Data based on the labels\n",
        "print(df.loc[2,'Brand'])\n",
        "print(df.loc[3,'Stock'])\n",
        "\n",
        "\n",
        "print(df.iloc[1,2])   # Extract Data based on the indexes\n",
        "print(df.iloc[2,3])\n",
        "print(df.iloc[4,0])"
      ]
    },
    {
      "cell_type": "code",
      "execution_count": 54,
      "metadata": {
        "colab": {
          "base_uri": "https://localhost:8080/"
        },
        "id": "ThJ4TO1mEYl2",
        "outputId": "56dd23e2-35a2-4b8e-9b13-1c5cb3665b6c"
      },
      "outputs": [
        {
          "name": "stdout",
          "output_type": "stream",
          "text": [
            "using iloc(selecting 4th row):\n",
            " Product    Bluetooth Speaker\n",
            "Brand                     MI\n",
            "Price                   1999\n",
            "Stock                     60\n",
            "Name: 4, dtype: object\n"
          ]
        }
      ],
      "source": [
        "print('using iloc(selecting 4th row):\\n',df.iloc[4])"
      ]
    },
    {
      "cell_type": "code",
      "execution_count": 55,
      "metadata": {
        "colab": {
          "base_uri": "https://localhost:8080/"
        },
        "id": "1bVB1sH9E9Kf",
        "outputId": "7b7b7115-fe2c-47fa-9b5f-8bc795010e97"
      },
      "outputs": [
        {
          "name": "stdout",
          "output_type": "stream",
          "text": [
            "************ using loc for selecting on condition *************\n",
            "       Product   Brand  Price  Stock\n",
            "1  Smartphone  RealMe  15999     30\n",
            "2      Laptop  Lenovo  52999     20\n",
            "************ using loc for selecting on condition *************\n",
            "              Product     Brand  Price  Stock\n",
            "0   Wireless Earbuds     Boult   2999     50\n",
            "3         Smartwatch  fastrack   4999     40\n",
            "4  Bluetooth Speaker        MI   1999     60\n",
            "************ using loc for selecting on condition *************\n",
            "              Product  Brand  Price  Stock\n",
            "0   Wireless Earbuds  Boult   2999     50\n",
            "4  Bluetooth Speaker     MI   1999     60\n",
            "************ using loc for selecting on condition *************\n",
            "       Product   Brand  Price  Stock\n",
            "1  Smartphone  RealMe  15999     30\n",
            "2      Laptop  Lenovo  52999     20\n"
          ]
        }
      ],
      "source": [
        "# Extract multiple rows based on the condition\n",
        "\n",
        "print('************ using loc for selecting on condition *************\\n',df.loc[df['Stock']<40])\n",
        "print('************ using loc for selecting on condition *************\\n',df.loc[df['Price']<10000])\n",
        "print('************ using loc for selecting on condition *************\\n',df.loc[df['Stock']>40])\n",
        "print('************ using loc for selecting on condition *************\\n',df.loc[df['Price']>10000])\n"
      ]
    },
    {
      "cell_type": "code",
      "execution_count": 56,
      "metadata": {
        "id": "fMdWjCJKGB_r"
      },
      "outputs": [
        {
          "name": "stdout",
          "output_type": "stream",
          "text": [
            "Before drop df:\n",
            "              Product     Brand  Price  Stock\n",
            "0   Wireless Earbuds     Boult   2999     50\n",
            "1         Smartphone    RealMe  15999     30\n",
            "2             Laptop    Lenovo  52999     20\n",
            "3         Smartwatch  fastrack   4999     40\n",
            "4  Bluetooth Speaker        MI   1999     60\n",
            "After dropped: \n",
            "              Product     Brand  Price\n",
            "0   Wireless Earbuds     Boult   2999\n",
            "1         Smartphone    RealMe  15999\n",
            "2             Laptop    Lenovo  52999\n",
            "3         Smartwatch  fastrack   4999\n",
            "4  Bluetooth Speaker        MI   1999\n",
            "after drop:\n",
            "              Product     Brand  Price  Stock\n",
            "0   Wireless Earbuds     Boult   2999     50\n",
            "1         Smartphone    RealMe  15999     30\n",
            "2             Laptop    Lenovo  52999     20\n",
            "3         Smartwatch  fastrack   4999     40\n",
            "4  Bluetooth Speaker        MI   1999     60\n"
          ]
        }
      ],
      "source": [
        "# deleting using drop\n",
        "\n",
        "print(\"Before drop df:\\n\",df)\n",
        "df_dropped = df.drop(columns = [\"Stock\"]) #  this won't effect the original df\n",
        "                                          #  inplace = True will effect the orginal df\n",
        "print(\"After dropped: \\n\",df_dropped)\n",
        "print(\"after drop:\\n\",df) \n",
        "\n",
        "\n"
      ]
    },
    {
      "cell_type": "code",
      "execution_count": 57,
      "metadata": {},
      "outputs": [
        {
          "name": "stdout",
          "output_type": "stream",
          "text": [
            "rename :\n",
            "              Product     Brand   Cost  Stock\n",
            "0   Wireless Earbuds     Boult   2999     50\n",
            "1         Smartphone    RealMe  15999     30\n",
            "2             Laptop    Lenovo  52999     20\n",
            "3         Smartwatch  fastrack   4999     40\n",
            "4  Bluetooth Speaker        MI   1999     60\n",
            "             Product     Brand  Price  Stock\n",
            "0   Wireless Earbuds     Boult   2999     50\n",
            "1         Smartphone    RealMe  15999     30\n",
            "2             Laptop    Lenovo  52999     20\n",
            "3         Smartwatch  fastrack   4999     40\n",
            "4  Bluetooth Speaker        MI   1999     60\n",
            "             Product     Brand  Price  Stock\n",
            "0   Wireless Earbuds     Boult   2999     50\n",
            "1         Smartphone    RealMe  15999     30\n",
            "2             Laptop    Lenovo  52999     20\n",
            "3         Smartwatch  fastrack   4999     40\n",
            "4  Bluetooth Speaker        MI   1999     60\n"
          ]
        }
      ],
      "source": [
        "df_rename = df.rename(columns={\"Price\":\"Cost\"}) # temporary\n",
        "print(\"rename :\\n\",df_rename)\n",
        "print(df)\n",
        "df.rename(columns={\"Product Name\":\"Product\"},inplace = True) # will change the original data\n",
        "print(df)\n"
      ]
    },
    {
      "cell_type": "code",
      "execution_count": 59,
      "metadata": {},
      "outputs": [
        {
          "name": "stdout",
          "output_type": "stream",
          "text": [
            "          Price  Stock\n",
            "Brand                 \n",
            "Boult      2999     50\n",
            "Lenovo    52999     20\n",
            "MI         1999     60\n",
            "RealMe    15999     30\n",
            "fastrack   4999     40\n"
          ]
        }
      ],
      "source": [
        "# aggrogation = grouping data and analyzing data [how you want to group data]\n",
        "# grouping means grouping data based on names,price,specification etc \n",
        "# groupby\n",
        "\n",
        "df_grouped = df.groupby(\"Brand\").agg({\"Price\":\"sum\",\"Stock\":\"sum\"})\n",
        "print(df_grouped)"
      ]
    },
    {
      "cell_type": "code",
      "execution_count": 61,
      "metadata": {},
      "outputs": [
        {
          "name": "stdout",
          "output_type": "stream",
          "text": [
            "            Price              \n",
            "             mean    max    min\n",
            "Brand                          \n",
            "Boult      2999.0   2999   2999\n",
            "Lenovo    52999.0  52999  52999\n",
            "MI         1999.0   1999   1999\n",
            "RealMe    15999.0  15999  15999\n",
            "fastrack   4999.0   4999   4999\n"
          ]
        }
      ],
      "source": [
        "grouped = df.groupby(\"Brand\").agg({\"Price\":[\"mean\",\"max\",\"min\"]})\n",
        "print(grouped)"
      ]
    },
    {
      "cell_type": "code",
      "execution_count": 62,
      "metadata": {},
      "outputs": [
        {
          "name": "stdout",
          "output_type": "stream",
          "text": [
            "Brand\n",
            "Boult        2999.0\n",
            "Lenovo      52999.0\n",
            "MI           1999.0\n",
            "RealMe      15999.0\n",
            "fastrack     4999.0\n",
            "Name: Price, dtype: float64\n"
          ]
        }
      ],
      "source": [
        "grouped = df.groupby(\"Brand\")[\"Price\"].mean()\n",
        "print(grouped)"
      ]
    },
    {
      "cell_type": "code",
      "execution_count": 68,
      "metadata": {},
      "outputs": [
        {
          "name": "stdout",
          "output_type": "stream",
          "text": [
            "      Brand  Ratings  Discount\n",
            "0     Boult      4.2        20\n",
            "1    RealMe      4.5        10\n",
            "2    Lenovo      3.5        15\n",
            "3  fastrack      4.0        25\n",
            "4        MI      5.0        30\n"
          ]
        }
      ],
      "source": [
        "import pandas as pd\n",
        "data2 = {\n",
        "    \"Brand\": [\"Boult\", \"RealMe\", \"Lenovo\", \"fastrack\", \"MI\"],\n",
        "    \"Ratings\": [4.2, 4.5, 3.5, 4.0, 5.0],\n",
        "    \"Discount\":[20,10,15,25,30]\n",
        "}\n",
        "df_ratings = pd.DataFrame(data2)\n",
        "print(df_ratings)"
      ]
    },
    {
      "cell_type": "code",
      "execution_count": 69,
      "metadata": {},
      "outputs": [
        {
          "name": "stdout",
          "output_type": "stream",
          "text": [
            "             Product     Brand  Price  Stock  Ratings  Discount\n",
            "0   Wireless Earbuds     Boult   2999     50      4.2        20\n",
            "1         Smartphone    RealMe  15999     30      4.5        10\n",
            "2             Laptop    Lenovo  52999     20      3.5        15\n",
            "3         Smartwatch  fastrack   4999     40      4.0        25\n",
            "4  Bluetooth Speaker        MI   1999     60      5.0        30\n"
          ]
        }
      ],
      "source": [
        "import pandas as pd\n",
        "df_merged = df.merge(df_ratings, on= \"Brand\")\n",
        "print(df_merged)"
      ]
    },
    {
      "cell_type": "code",
      "execution_count": 73,
      "metadata": {},
      "outputs": [
        {
          "name": "stdout",
          "output_type": "stream",
          "text": [
            "  Product    Brand  Price  Stock\n",
            "0  Tablet  OnePlus  12999     25\n"
          ]
        }
      ],
      "source": [
        "new_data = {\n",
        "    \"Product\": [\"Tablet\"],\n",
        "    \"Brand\": [\"OnePlus\"],\n",
        "    \"Price\": [12999],\n",
        "    \"Stock\": [25],\n",
        "}\n",
        "df_new = pd.DataFrame(new_data)\n",
        "print(df_new)"
      ]
    },
    {
      "cell_type": "code",
      "execution_count": 75,
      "metadata": {},
      "outputs": [
        {
          "name": "stdout",
          "output_type": "stream",
          "text": [
            "             Product     Brand  Price  Stock\n",
            "0   Wireless Earbuds     Boult   2999     50\n",
            "1         Smartphone    RealMe  15999     30\n",
            "2             Laptop    Lenovo  52999     20\n",
            "3         Smartwatch  fastrack   4999     40\n",
            "4  Bluetooth Speaker        MI   1999     60\n",
            "5             Tablet   OnePlus  12999     25\n"
          ]
        }
      ],
      "source": [
        "df_concat = pd.concat([df,df_new],ignore_index = True)\n",
        "print(df_concat)"
      ]
    },
    {
      "cell_type": "code",
      "execution_count": 79,
      "metadata": {},
      "outputs": [
        {
          "name": "stdout",
          "output_type": "stream",
          "text": [
            "0     Wireless Earbuds\n",
            "1           Smartphone\n",
            "2               Laptop\n",
            "3           Smartwatch\n",
            "4    Bluetooth Speaker\n",
            "Name: Product, dtype: object\n",
            "0       Boult\n",
            "1      RealMe\n",
            "2      Lenovo\n",
            "3    fastrack\n",
            "4          MI\n",
            "Name: Brand, dtype: object\n",
            "0     2999\n",
            "1    15999\n",
            "2    52999\n",
            "3     4999\n",
            "4     1999\n",
            "Name: Price, dtype: int64\n",
            "0    50\n",
            "1    30\n",
            "2    20\n",
            "3    40\n",
            "4    60\n",
            "Name: Stock, dtype: int64\n"
          ]
        }
      ],
      "source": [
        "print(df['Product'])\n",
        "print(df['Brand'])\n",
        "print(df['Price'])\n",
        "print(df['Stock'])\n"
      ]
    },
    {
      "cell_type": "code",
      "execution_count": 80,
      "metadata": {},
      "outputs": [
        {
          "name": "stdout",
          "output_type": "stream",
          "text": [
            "             Product  Price  Stock\n",
            "0   Wireless Earbuds   2999     50\n",
            "1         Smartphone  15999     30\n",
            "2             Laptop  52999     20\n",
            "3         Smartwatch   4999     40\n",
            "4  Bluetooth Speaker   1999     60\n"
          ]
        }
      ],
      "source": [
        "print(df[[\"Product\", \"Price\",\"Stock\"]])"
      ]
    },
    {
      "cell_type": "code",
      "execution_count": 86,
      "metadata": {},
      "outputs": [
        {
          "name": "stdout",
          "output_type": "stream",
          "text": [
            "             Product     Brand    Price  Stock\n",
            "0   Wireless Earbuds     Boult   2999.0   50.0\n",
            "1         Smartphone    RealMe  15999.0   30.0\n",
            "2             Laptop    Lenovo  52999.0   20.0\n",
            "3         Smartwatch  fastrack   4999.0   40.0\n",
            "4  Bluetooth Speaker        MI   1999.0   60.0\n"
          ]
        }
      ],
      "source": [
        "df[\"Price\"] = df[\"Price\"].astype(float)\n",
        "df[\"Stock\"] = df[\"Stock\"].astype(float)\n",
        "\n",
        "print(df)"
      ]
    },
    {
      "cell_type": "code",
      "execution_count": 90,
      "metadata": {},
      "outputs": [
        {
          "name": "stdout",
          "output_type": "stream",
          "text": [
            "             Product     Brand    Price  Stock  Rank\n",
            "0   Wireless Earbuds     Boult   2999.0   50.0   2.0\n",
            "1         Smartphone    RealMe  15999.0   30.0   4.0\n",
            "2             Laptop    Lenovo  52999.0   20.0   5.0\n",
            "3         Smartwatch  fastrack   4999.0   40.0   3.0\n",
            "4  Bluetooth Speaker        MI   1999.0   60.0   1.0\n",
            "             Product     Brand    Price  Stock  Rank\n",
            "4  Bluetooth Speaker        MI   1999.0   60.0   1.0\n",
            "0   Wireless Earbuds     Boult   2999.0   50.0   2.0\n",
            "3         Smartwatch  fastrack   4999.0   40.0   3.0\n",
            "1         Smartphone    RealMe  15999.0   30.0   4.0\n",
            "2             Laptop    Lenovo  52999.0   20.0   5.0\n",
            "             Product     Brand    Price  Stock  Rank\n",
            "2             Laptop    Lenovo  52999.0   20.0   5.0\n",
            "1         Smartphone    RealMe  15999.0   30.0   4.0\n",
            "3         Smartwatch  fastrack   4999.0   40.0   3.0\n",
            "0   Wireless Earbuds     Boult   2999.0   50.0   2.0\n",
            "4  Bluetooth Speaker        MI   1999.0   60.0   1.0\n"
          ]
        }
      ],
      "source": [
        "df.sort_values(by=\"Price\", ascending=False)\n",
        "df[\"Rank\"] = df[\"Stock\"].rank(ascending=False)\n",
        "print(df)\n",
        "print(df.sort_values(by=\"Rank\", ascending=True))\n",
        "print(df.sort_values(by=\"Rank\", ascending=False))\n"
      ]
    },
    {
      "cell_type": "code",
      "execution_count": 93,
      "metadata": {},
      "outputs": [
        {
          "name": "stdout",
          "output_type": "stream",
          "text": [
            "   ID     Name  Age\n",
            "0   1      sri   25\n",
            "1   2      sai   30\n",
            "0   3  chandra   28\n",
            "1   4    kiran   35\n"
          ]
        }
      ],
      "source": [
        "import pandas as pd\n",
        "\n",
        "df1 = pd.DataFrame({\n",
        "    \"ID\": [1, 2],\n",
        "    \"Name\": [\"sri\", \"sai\"],\n",
        "    \"Age\": [25, 30]\n",
        "})\n",
        "\n",
        "df2 = pd.DataFrame({\n",
        "    \"ID\": [3, 4],\n",
        "    \"Name\": [\"chandra\", \"kiran\"],\n",
        "    \"Age\": [28, 35]\n",
        "})\n",
        "\n",
        "df_combined = pd.concat([df1, df2], axis=0)  # Combine row-wise\n",
        "print(df_combined)"
      ]
    },
    {
      "cell_type": "code",
      "execution_count": 95,
      "metadata": {},
      "outputs": [
        {
          "name": "stdout",
          "output_type": "stream",
          "text": [
            "   ID Name  Age  ID     Name  Age\n",
            "0   1  sri   25   3  chandra   28\n",
            "1   2  sai   30   4    kiran   35\n"
          ]
        }
      ],
      "source": [
        "df_combined = pd.concat([df1, df2], axis=1)  # Combine column-wise\n",
        "print(df_combined)"
      ]
    },
    {
      "cell_type": "code",
      "execution_count": 96,
      "metadata": {},
      "outputs": [
        {
          "data": {
            "text/html": [
              "<div>\n",
              "<style scoped>\n",
              "    .dataframe tbody tr th:only-of-type {\n",
              "        vertical-align: middle;\n",
              "    }\n",
              "\n",
              "    .dataframe tbody tr th {\n",
              "        vertical-align: top;\n",
              "    }\n",
              "\n",
              "    .dataframe thead th {\n",
              "        text-align: right;\n",
              "    }\n",
              "</style>\n",
              "<table border=\"1\" class=\"dataframe\">\n",
              "  <thead>\n",
              "    <tr style=\"text-align: right;\">\n",
              "      <th>Stock</th>\n",
              "      <th>20.0</th>\n",
              "      <th>30.0</th>\n",
              "      <th>40.0</th>\n",
              "      <th>50.0</th>\n",
              "      <th>60.0</th>\n",
              "    </tr>\n",
              "    <tr>\n",
              "      <th>Brand</th>\n",
              "      <th></th>\n",
              "      <th></th>\n",
              "      <th></th>\n",
              "      <th></th>\n",
              "      <th></th>\n",
              "    </tr>\n",
              "  </thead>\n",
              "  <tbody>\n",
              "    <tr>\n",
              "      <th>Boult</th>\n",
              "      <td>NaN</td>\n",
              "      <td>NaN</td>\n",
              "      <td>NaN</td>\n",
              "      <td>2999.0</td>\n",
              "      <td>NaN</td>\n",
              "    </tr>\n",
              "    <tr>\n",
              "      <th>Lenovo</th>\n",
              "      <td>52999.0</td>\n",
              "      <td>NaN</td>\n",
              "      <td>NaN</td>\n",
              "      <td>NaN</td>\n",
              "      <td>NaN</td>\n",
              "    </tr>\n",
              "    <tr>\n",
              "      <th>MI</th>\n",
              "      <td>NaN</td>\n",
              "      <td>NaN</td>\n",
              "      <td>NaN</td>\n",
              "      <td>NaN</td>\n",
              "      <td>1999.0</td>\n",
              "    </tr>\n",
              "    <tr>\n",
              "      <th>RealMe</th>\n",
              "      <td>NaN</td>\n",
              "      <td>15999.0</td>\n",
              "      <td>NaN</td>\n",
              "      <td>NaN</td>\n",
              "      <td>NaN</td>\n",
              "    </tr>\n",
              "    <tr>\n",
              "      <th>fastrack</th>\n",
              "      <td>NaN</td>\n",
              "      <td>NaN</td>\n",
              "      <td>4999.0</td>\n",
              "      <td>NaN</td>\n",
              "      <td>NaN</td>\n",
              "    </tr>\n",
              "  </tbody>\n",
              "</table>\n",
              "</div>"
            ],
            "text/plain": [
              "Stock        20.0     30.0    40.0    50.0    60.0\n",
              "Brand                                             \n",
              "Boult         NaN      NaN     NaN  2999.0     NaN\n",
              "Lenovo    52999.0      NaN     NaN     NaN     NaN\n",
              "MI            NaN      NaN     NaN     NaN  1999.0\n",
              "RealMe        NaN  15999.0     NaN     NaN     NaN\n",
              "fastrack      NaN      NaN  4999.0     NaN     NaN"
            ]
          },
          "execution_count": 96,
          "metadata": {},
          "output_type": "execute_result"
        }
      ],
      "source": [
        "df.pivot_table(values=\"Price\", index=\"Brand\", columns=\"Stock\", aggfunc=\"mean\")"
      ]
    },
    {
      "cell_type": "code",
      "execution_count": null,
      "metadata": {},
      "outputs": [
        {
          "data": {
            "text/html": [
              "<div>\n",
              "<style scoped>\n",
              "    .dataframe tbody tr th:only-of-type {\n",
              "        vertical-align: middle;\n",
              "    }\n",
              "\n",
              "    .dataframe tbody tr th {\n",
              "        vertical-align: top;\n",
              "    }\n",
              "\n",
              "    .dataframe thead th {\n",
              "        text-align: right;\n",
              "    }\n",
              "</style>\n",
              "<table border=\"1\" class=\"dataframe\">\n",
              "  <thead>\n",
              "    <tr style=\"text-align: right;\">\n",
              "      <th>Stock</th>\n",
              "      <th>20.0</th>\n",
              "      <th>30.0</th>\n",
              "      <th>40.0</th>\n",
              "      <th>50.0</th>\n",
              "      <th>60.0</th>\n",
              "    </tr>\n",
              "    <tr>\n",
              "      <th>Brand</th>\n",
              "      <th></th>\n",
              "      <th></th>\n",
              "      <th></th>\n",
              "      <th></th>\n",
              "      <th></th>\n",
              "    </tr>\n",
              "  </thead>\n",
              "  <tbody>\n",
              "    <tr>\n",
              "      <th>Boult</th>\n",
              "      <td>0</td>\n",
              "      <td>0</td>\n",
              "      <td>0</td>\n",
              "      <td>1</td>\n",
              "      <td>0</td>\n",
              "    </tr>\n",
              "    <tr>\n",
              "      <th>Lenovo</th>\n",
              "      <td>1</td>\n",
              "      <td>0</td>\n",
              "      <td>0</td>\n",
              "      <td>0</td>\n",
              "      <td>0</td>\n",
              "    </tr>\n",
              "    <tr>\n",
              "      <th>MI</th>\n",
              "      <td>0</td>\n",
              "      <td>0</td>\n",
              "      <td>0</td>\n",
              "      <td>0</td>\n",
              "      <td>1</td>\n",
              "    </tr>\n",
              "    <tr>\n",
              "      <th>RealMe</th>\n",
              "      <td>0</td>\n",
              "      <td>1</td>\n",
              "      <td>0</td>\n",
              "      <td>0</td>\n",
              "      <td>0</td>\n",
              "    </tr>\n",
              "    <tr>\n",
              "      <th>fastrack</th>\n",
              "      <td>0</td>\n",
              "      <td>0</td>\n",
              "      <td>1</td>\n",
              "      <td>0</td>\n",
              "      <td>0</td>\n",
              "    </tr>\n",
              "  </tbody>\n",
              "</table>\n",
              "</div>"
            ],
            "text/plain": [
              "Stock     20.0  30.0  40.0  50.0  60.0\n",
              "Brand                                 \n",
              "Boult        0     0     0     1     0\n",
              "Lenovo       1     0     0     0     0\n",
              "MI           0     0     0     0     1\n",
              "RealMe       0     1     0     0     0\n",
              "fastrack     0     0     1     0     0"
            ]
          },
          "execution_count": 99,
          "metadata": {},
          "output_type": "execute_result"
        }
      ],
      "source": [
        "pd.crosstab(df['Brand'],df['Stock'])    "
      ]
    }
  ],
  "metadata": {
    "colab": {
      "provenance": []
    },
    "kernelspec": {
      "display_name": "Python 3",
      "name": "python3"
    },
    "language_info": {
      "codemirror_mode": {
        "name": "ipython",
        "version": 3
      },
      "file_extension": ".py",
      "mimetype": "text/x-python",
      "name": "python",
      "nbconvert_exporter": "python",
      "pygments_lexer": "ipython3",
      "version": "3.11.9"
    }
  },
  "nbformat": 4,
  "nbformat_minor": 0
}
