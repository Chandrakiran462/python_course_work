{
  "nbformat": 4,
  "nbformat_minor": 0,
  "metadata": {
    "colab": {
      "provenance": []
    },
    "kernelspec": {
      "name": "python3",
      "display_name": "Python 3"
    },
    "language_info": {
      "name": "python"
    }
  },
  "cells": [
    {
      "cell_type": "code",
      "execution_count": 58,
      "metadata": {
        "colab": {
          "base_uri": "https://localhost:8080/"
        },
        "id": "s1rbxAPq4qno",
        "outputId": "f29b023e-c806-40cc-83d1-bd68ce032cd0"
      },
      "outputs": [
        {
          "output_type": "stream",
          "name": "stdout",
          "text": [
            "Wireless Earbuds      2999\n",
            "Smartphone           15999\n",
            "Laptop               52999\n",
            "Smartwatch            4999\n",
            "Bluetooth Speaker     1999\n",
            "dtype: int64\n"
          ]
        }
      ],
      "source": [
        "import pandas as pd\n",
        "\n",
        "product_prices = pd.Series(\n",
        "[2999, 15999, 52999, 4999, 1999],\n",
        "index=[\"Wireless Earbuds\", \"Smartphone\", \"Laptop\", \"Smartwatch\", \"Bluetooth Speaker\"]\n",
        ")\n",
        "print(product_prices)"
      ]
    },
    {
      "cell_type": "code",
      "source": [
        "print(product_prices.mean())"
      ],
      "metadata": {
        "colab": {
          "base_uri": "https://localhost:8080/"
        },
        "id": "kEkdBKItD3mp",
        "outputId": "ffb63dd2-6e4b-4399-8fff-35e47897f580"
      },
      "execution_count": 43,
      "outputs": [
        {
          "output_type": "stream",
          "name": "stdout",
          "text": [
            "15799.0\n"
          ]
        }
      ]
    },
    {
      "cell_type": "code",
      "source": [
        "print(product_prices.sum())\n"
      ],
      "metadata": {
        "colab": {
          "base_uri": "https://localhost:8080/"
        },
        "id": "LJB8M2AOD8yu",
        "outputId": "c5501068-d5f0-453f-ec5c-2389f6d4ba91"
      },
      "execution_count": 45,
      "outputs": [
        {
          "output_type": "stream",
          "name": "stdout",
          "text": [
            "78995\n"
          ]
        }
      ]
    },
    {
      "cell_type": "code",
      "source": [
        "print(product_prices.min())\n"
      ],
      "metadata": {
        "colab": {
          "base_uri": "https://localhost:8080/"
        },
        "id": "poUglGpZEJxM",
        "outputId": "08c4c09b-473d-4a64-9f81-a3c95e69a134"
      },
      "execution_count": 46,
      "outputs": [
        {
          "output_type": "stream",
          "name": "stdout",
          "text": [
            "1999\n"
          ]
        }
      ]
    },
    {
      "cell_type": "code",
      "source": [
        "print(product_prices.max())\n"
      ],
      "metadata": {
        "colab": {
          "base_uri": "https://localhost:8080/"
        },
        "id": "50_gupLAELig",
        "outputId": "ef1202a7-b5ea-45a1-8563-76894cd6d3b4"
      },
      "execution_count": 47,
      "outputs": [
        {
          "output_type": "stream",
          "name": "stdout",
          "text": [
            "52999\n"
          ]
        }
      ]
    },
    {
      "cell_type": "code",
      "source": [
        "print(product_prices.head(2))\n"
      ],
      "metadata": {
        "colab": {
          "base_uri": "https://localhost:8080/"
        },
        "id": "3XN4cwVTENqM",
        "outputId": "994ad5ed-06ca-458c-d843-3f1749f1a144"
      },
      "execution_count": 48,
      "outputs": [
        {
          "output_type": "stream",
          "name": "stdout",
          "text": [
            "Wireless Earbuds     2999\n",
            "Smartphone          15999\n",
            "dtype: int64\n"
          ]
        }
      ]
    },
    {
      "cell_type": "code",
      "source": [
        "print(product_prices.tail(1))\n"
      ],
      "metadata": {
        "colab": {
          "base_uri": "https://localhost:8080/"
        },
        "id": "Kp_8vcahERRb",
        "outputId": "ee50d34d-9e95-4451-e4ee-6d181f5c88f1"
      },
      "execution_count": 50,
      "outputs": [
        {
          "output_type": "stream",
          "name": "stdout",
          "text": [
            "Bluetooth Speaker    1999\n",
            "dtype: int64\n"
          ]
        }
      ]
    },
    {
      "cell_type": "code",
      "source": [
        "print(\"Applying (Adding 18% GST):\\n \",product_prices.apply(lambda x: f'${x-(x*0.2)}'))\n",
        "# use for some complex claculations"
      ],
      "metadata": {
        "colab": {
          "base_uri": "https://localhost:8080/"
        },
        "id": "VkI4ygZl57Di",
        "outputId": "0ec0d8ed-a2c1-48ed-9f35-23f8d5b1bb15"
      },
      "execution_count": 2,
      "outputs": [
        {
          "output_type": "stream",
          "name": "stdout",
          "text": [
            "Applying (Adding 18% GST):\n",
            "  Wireless Earbuds      $2399.2\n",
            "Smartphone           $12799.2\n",
            "Laptop               $42399.2\n",
            "Smartwatch            $3999.2\n",
            "Bluetooth Speaker     $1599.2\n",
            "dtype: object\n"
          ]
        }
      ]
    },
    {
      "cell_type": "code",
      "source": [
        "print(\"Applying (Adding 18% GST):\\n \",product_prices.map(lambda x: f'${x}.00'))\n",
        "# use for output formatting"
      ],
      "metadata": {
        "colab": {
          "base_uri": "https://localhost:8080/"
        },
        "id": "o7ZpcW8T6VpP",
        "outputId": "53c95382-b314-42b0-b08e-a81185472e20"
      },
      "execution_count": 5,
      "outputs": [
        {
          "output_type": "stream",
          "name": "stdout",
          "text": [
            "Applying (Adding 18% GST):\n",
            "  Wireless Earbuds      $2999.00\n",
            "Smartphone           $15999.00\n",
            "Laptop               $52999.00\n",
            "Smartwatch            $4999.00\n",
            "Bluetooth Speaker     $1999.00\n",
            "dtype: object\n"
          ]
        }
      ]
    },
    {
      "cell_type": "code",
      "source": [
        "print('Sort by values:\\n',product_prices.sort_values())"
      ],
      "metadata": {
        "colab": {
          "base_uri": "https://localhost:8080/"
        },
        "id": "O82S7Iw26sZe",
        "outputId": "f2587b1b-a3cf-498f-ad97-dcf4dafa70d6"
      },
      "execution_count": 6,
      "outputs": [
        {
          "output_type": "stream",
          "name": "stdout",
          "text": [
            "Sort by values:\n",
            " Bluetooth Speaker     1999\n",
            "Wireless Earbuds      2999\n",
            "Smartwatch            4999\n",
            "Smartphone           15999\n",
            "Laptop               52999\n",
            "dtype: int64\n"
          ]
        }
      ]
    },
    {
      "cell_type": "code",
      "source": [
        "print('Sort by index:\\n',product_prices.sort_index())"
      ],
      "metadata": {
        "colab": {
          "base_uri": "https://localhost:8080/"
        },
        "id": "i8cgAecI66Bk",
        "outputId": "861e1539-36a2-4771-e32f-adad6b8a3096"
      },
      "execution_count": 7,
      "outputs": [
        {
          "output_type": "stream",
          "name": "stdout",
          "text": [
            "Sort by index:\n",
            " Bluetooth Speaker     1999\n",
            "Laptop               52999\n",
            "Smartphone           15999\n",
            "Smartwatch            4999\n",
            "Wireless Earbuds      2999\n",
            "dtype: int64\n"
          ]
        }
      ]
    },
    {
      "cell_type": "code",
      "source": [
        "print('Sort by decending index:\\n',product_prices.sort_index(ascending = False))"
      ],
      "metadata": {
        "colab": {
          "base_uri": "https://localhost:8080/"
        },
        "id": "9l4xtZF47l6H",
        "outputId": "ff1ce042-7a13-44f2-86ba-0f5112b8b03a"
      },
      "execution_count": 13,
      "outputs": [
        {
          "output_type": "stream",
          "name": "stdout",
          "text": [
            "Sort by decending index:\n",
            " Wireless Earbuds      2999\n",
            "Smartwatch            4999\n",
            "Smartphone           15999\n",
            "Laptop               52999\n",
            "Bluetooth Speaker     1999\n",
            "dtype: int64\n"
          ]
        }
      ]
    },
    {
      "cell_type": "code",
      "source": [
        "print('Sort by decending values:\\n',product_prices.sort_values(ascending = False))"
      ],
      "metadata": {
        "colab": {
          "base_uri": "https://localhost:8080/"
        },
        "id": "u1RE2VBZ7zFN",
        "outputId": "3a0f8d2d-bf4d-4d54-a162-2243d8879c3a"
      },
      "execution_count": 12,
      "outputs": [
        {
          "output_type": "stream",
          "name": "stdout",
          "text": [
            "Sort by decending values:\n",
            " Laptop               52999\n",
            "Smartphone           15999\n",
            "Smartwatch            4999\n",
            "Wireless Earbuds      2999\n",
            "Bluetooth Speaker     1999\n",
            "dtype: int64\n"
          ]
        }
      ]
    },
    {
      "cell_type": "code",
      "source": [
        "print('value Counts:\\n',product_prices.value_counts())"
      ],
      "metadata": {
        "colab": {
          "base_uri": "https://localhost:8080/"
        },
        "id": "AJ6VXz3-8Ftz",
        "outputId": "ce6a8272-0f98-47ca-fd96-de9abb4e3249"
      },
      "execution_count": 14,
      "outputs": [
        {
          "output_type": "stream",
          "name": "stdout",
          "text": [
            "value Counts:\n",
            " 2999     1\n",
            "15999    1\n",
            "52999    1\n",
            "4999     1\n",
            "1999     1\n",
            "Name: count, dtype: int64\n"
          ]
        }
      ]
    },
    {
      "cell_type": "code",
      "source": [
        "data = {\n",
        "\"Product\": [\"Wireless Earbuds\", \"Smartphone\", \"Laptop\", \"Smartwatch\", \"Bluetooth Speaker\"],\n",
        "\"Brand\": [\"Boult\", \"RealMe\", \"Lenovo\", \"fastrack\", \"MI\"],\n",
        "\"Price\": [2999, 15999, 52999, 4999, 1999],\n",
        "\"Stock\": [50, 30, 20, 40, 60]\n",
        "}\n",
        "# need to have same length of rows\n",
        "df = pd.DataFrame(data)\n",
        "print(df)"
      ],
      "metadata": {
        "colab": {
          "base_uri": "https://localhost:8080/"
        },
        "id": "oWdUPQao8plY",
        "outputId": "776b6521-a418-4e39-e89b-52dd9defc52c"
      },
      "execution_count": 16,
      "outputs": [
        {
          "output_type": "stream",
          "name": "stdout",
          "text": [
            "             Product     Brand  Price  Stock\n",
            "0   Wireless Earbuds     Boult   2999     50\n",
            "1         Smartphone    RealMe  15999     30\n",
            "2             Laptop    Lenovo  52999     20\n",
            "3         Smartwatch  fastrack   4999     40\n",
            "4  Bluetooth Speaker        MI   1999     60\n"
          ]
        }
      ]
    },
    {
      "cell_type": "code",
      "source": [
        "print(\"Shape of DataFrames:\\n\",df.shape)"
      ],
      "metadata": {
        "colab": {
          "base_uri": "https://localhost:8080/"
        },
        "id": "qnozs9dR_P9O",
        "outputId": "a75732eb-0af4-4a51-e10e-f76094d4e8bd"
      },
      "execution_count": 26,
      "outputs": [
        {
          "output_type": "stream",
          "name": "stdout",
          "text": [
            "Shape of DataFrames:\n",
            " (5, 4)\n"
          ]
        }
      ]
    },
    {
      "cell_type": "code",
      "source": [
        "print(\"Columns of DataFrames:\\n\",df.columns)"
      ],
      "metadata": {
        "colab": {
          "base_uri": "https://localhost:8080/"
        },
        "id": "6VUjIWmO_d8n",
        "outputId": "ca7a29e9-232b-4813-c6fb-809dd2f0d436"
      },
      "execution_count": 28,
      "outputs": [
        {
          "output_type": "stream",
          "name": "stdout",
          "text": [
            "Columns of DataFrames:\n",
            " Index(['Product', 'Brand', 'Price', 'Stock'], dtype='object')\n"
          ]
        }
      ]
    },
    {
      "cell_type": "code",
      "source": [
        "print(\"Index of DataFrames:\\n\",df.index)"
      ],
      "metadata": {
        "colab": {
          "base_uri": "https://localhost:8080/"
        },
        "id": "RFPvZDZp_kiz",
        "outputId": "1c67e167-c9ed-4edd-c4ec-d24aebccc088"
      },
      "execution_count": 31,
      "outputs": [
        {
          "output_type": "stream",
          "name": "stdout",
          "text": [
            "Index of DataFrames:\n",
            " RangeIndex(start=0, stop=5, step=1)\n"
          ]
        }
      ]
    },
    {
      "cell_type": "code",
      "source": [
        "print(\"Information of DataFrame:\")\n",
        "print(df.info())"
      ],
      "metadata": {
        "colab": {
          "base_uri": "https://localhost:8080/"
        },
        "id": "FXYoRZQm_9n_",
        "outputId": "f8fb5b9e-7307-44e7-d41d-f9090ac22a0e"
      },
      "execution_count": 34,
      "outputs": [
        {
          "output_type": "stream",
          "name": "stdout",
          "text": [
            "Information of DataFrame:\n",
            "<class 'pandas.core.frame.DataFrame'>\n",
            "RangeIndex: 5 entries, 0 to 4\n",
            "Data columns (total 4 columns):\n",
            " #   Column   Non-Null Count  Dtype \n",
            "---  ------   --------------  ----- \n",
            " 0   Product  5 non-null      object\n",
            " 1   Brand    5 non-null      object\n",
            " 2   Price    5 non-null      int64 \n",
            " 3   Stock    5 non-null      int64 \n",
            "dtypes: int64(2), object(2)\n",
            "memory usage: 292.0+ bytes\n",
            "None\n"
          ]
        }
      ]
    },
    {
      "cell_type": "code",
      "source": [
        "print(\"Statistical Summary:\\n\",df.describe())"
      ],
      "metadata": {
        "colab": {
          "base_uri": "https://localhost:8080/"
        },
        "id": "beGa9JPYAmw0",
        "outputId": "e10cd8aa-be48-4cbd-c0b9-f9d0e7554e45"
      },
      "execution_count": 36,
      "outputs": [
        {
          "output_type": "stream",
          "name": "stdout",
          "text": [
            "Statistical Summary:\n",
            "               Price      Stock\n",
            "count      5.000000   5.000000\n",
            "mean   15799.000000  40.000000\n",
            "std    21533.694527  15.811388\n",
            "min     1999.000000  20.000000\n",
            "25%     2999.000000  30.000000\n",
            "50%     4999.000000  40.000000\n",
            "75%    15999.000000  50.000000\n",
            "max    52999.000000  60.000000\n"
          ]
        }
      ]
    },
    {
      "cell_type": "code",
      "source": [
        "print(\"Head of data:\\n\",df.head(1))\n",
        "print(\"Head of data:\\n\",df.head(3))\n",
        "print(\"Head of data:\\n\",df.head(2))\n"
      ],
      "metadata": {
        "colab": {
          "base_uri": "https://localhost:8080/"
        },
        "id": "iMR0kU399OIb",
        "outputId": "5c181b0a-5ded-421f-a30f-ec8d496332e2"
      },
      "execution_count": 38,
      "outputs": [
        {
          "output_type": "stream",
          "name": "stdout",
          "text": [
            "Head of data:\n",
            "             Product  Brand  Price  Stock\n",
            "0  Wireless Earbuds  Boult   2999     50\n",
            "Head of data:\n",
            "             Product   Brand  Price  Stock\n",
            "0  Wireless Earbuds   Boult   2999     50\n",
            "1        Smartphone  RealMe  15999     30\n",
            "2            Laptop  Lenovo  52999     20\n",
            "Head of data:\n",
            "             Product   Brand  Price  Stock\n",
            "0  Wireless Earbuds   Boult   2999     50\n",
            "1        Smartphone  RealMe  15999     30\n"
          ]
        }
      ]
    },
    {
      "cell_type": "code",
      "source": [
        "print(\"Tail of data:\\n\",df.tail(1))"
      ],
      "metadata": {
        "colab": {
          "base_uri": "https://localhost:8080/"
        },
        "id": "g4ou-Uko-nn9",
        "outputId": "e81ee67f-448d-4e1d-e99e-2f5987f48c39"
      },
      "execution_count": 24,
      "outputs": [
        {
          "output_type": "stream",
          "name": "stdout",
          "text": [
            "Tail of data:\n",
            "              Product Brand  Price  Stock\n",
            "4  Bluetooth Speaker    MI   1999     60\n"
          ]
        }
      ]
    },
    {
      "cell_type": "code",
      "source": [
        "print(df)\n",
        "print(df.loc[1,'Product'])   # Extract Data based on the labels\n",
        "print(df.loc[2,'Brand'])\n",
        "print(df.loc[3,'Stock'])\n",
        "\n",
        "\n",
        "print(df.iloc[1,2])   # Extract Data based on the indexes\n",
        "print(df.iloc[2,3])\n",
        "print(df.iloc[4,0])"
      ],
      "metadata": {
        "colab": {
          "base_uri": "https://localhost:8080/"
        },
        "id": "GfZkuIsT-wpy",
        "outputId": "d99fcc4f-25a6-40fe-872b-b407458fa3a3"
      },
      "execution_count": 42,
      "outputs": [
        {
          "output_type": "stream",
          "name": "stdout",
          "text": [
            "             Product     Brand  Price  Stock\n",
            "0   Wireless Earbuds     Boult   2999     50\n",
            "1         Smartphone    RealMe  15999     30\n",
            "2             Laptop    Lenovo  52999     20\n",
            "3         Smartwatch  fastrack   4999     40\n",
            "4  Bluetooth Speaker        MI   1999     60\n",
            "Smartphone\n",
            "Lenovo\n",
            "40\n",
            "15999\n",
            "20\n",
            "Bluetooth Speaker\n"
          ]
        }
      ]
    },
    {
      "cell_type": "code",
      "source": [
        "print('using iloc(selecting 4th row):\\n',df.iloc[4])"
      ],
      "metadata": {
        "colab": {
          "base_uri": "https://localhost:8080/"
        },
        "id": "ThJ4TO1mEYl2",
        "outputId": "56dd23e2-35a2-4b8e-9b13-1c5cb3665b6c"
      },
      "execution_count": 53,
      "outputs": [
        {
          "output_type": "stream",
          "name": "stdout",
          "text": [
            "using iloc(selecting 4th row):\n",
            " Product    Bluetooth Speaker\n",
            "Brand                     MI\n",
            "Price                   1999\n",
            "Stock                     60\n",
            "Name: 4, dtype: object\n"
          ]
        }
      ]
    },
    {
      "cell_type": "code",
      "source": [
        "# Extract multiple rows based on the condition\n",
        "\n",
        "print('************ using loc for selecting on condition *************\\n',df.loc[df['Stock']<40])\n",
        "print('************ using loc for selecting on condition *************\\n',df.loc[df['Price']<10000])\n",
        "print('************ using loc for selecting on condition *************\\n',df.loc[df['Stock']>40])\n",
        "print('************ using loc for selecting on condition *************\\n',df.loc[df['Price']>10000])\n"
      ],
      "metadata": {
        "colab": {
          "base_uri": "https://localhost:8080/"
        },
        "id": "1bVB1sH9E9Kf",
        "outputId": "7b7b7115-fe2c-47fa-9b5f-8bc795010e97"
      },
      "execution_count": 59,
      "outputs": [
        {
          "output_type": "stream",
          "name": "stdout",
          "text": [
            "************ using loc for selecting on condition *************\n",
            "       Product   Brand  Price  Stock\n",
            "1  Smartphone  RealMe  15999     30\n",
            "2      Laptop  Lenovo  52999     20\n",
            "************ using loc for selecting on condition *************\n",
            "              Product     Brand  Price  Stock\n",
            "0   Wireless Earbuds     Boult   2999     50\n",
            "3         Smartwatch  fastrack   4999     40\n",
            "4  Bluetooth Speaker        MI   1999     60\n",
            "************ using loc for selecting on condition *************\n",
            "              Product  Brand  Price  Stock\n",
            "0   Wireless Earbuds  Boult   2999     50\n",
            "4  Bluetooth Speaker     MI   1999     60\n",
            "************ using loc for selecting on condition *************\n",
            "       Product   Brand  Price  Stock\n",
            "1  Smartphone  RealMe  15999     30\n",
            "2      Laptop  Lenovo  52999     20\n"
          ]
        }
      ]
    },
    {
      "cell_type": "code",
      "source": [],
      "metadata": {
        "id": "fMdWjCJKGB_r"
      },
      "execution_count": null,
      "outputs": []
    }
  ]
}