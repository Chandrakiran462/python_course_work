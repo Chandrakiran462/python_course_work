{
 "cells": [
  {
   "cell_type": "code",
   "execution_count": 1,
   "id": "da989cb8",
   "metadata": {},
   "outputs": [
    {
     "name": "stdout",
     "output_type": "stream",
     "text": [
      "1\n",
      "2\n",
      "3\n",
      "4\n",
      "5\n",
      "6\n",
      "7\n",
      "8\n"
     ]
    }
   ],
   "source": [
    "def update(n):\n",
    "    if n == 0:\n",
    "        return\n",
    "    update(n-1)\n",
    "    print(n)\n",
    "n = int(input())\n",
    "update(n)"
   ]
  },
  {
   "cell_type": "code",
   "execution_count": 2,
   "id": "2588ad05",
   "metadata": {},
   "outputs": [
    {
     "name": "stdout",
     "output_type": "stream",
     "text": [
      "10\n",
      "9\n",
      "8\n",
      "7\n",
      "6\n",
      "5\n",
      "4\n",
      "3\n",
      "2\n",
      "1\n"
     ]
    }
   ],
   "source": [
    "def update(n):\n",
    "    if n == 0:\n",
    "        return\n",
    "    print(n)\n",
    "    update(n-1)\n",
    "n = int(input())\n",
    "update(n)"
   ]
  },
  {
   "cell_type": "code",
   "execution_count": null,
   "id": "f1a5816b",
   "metadata": {},
   "outputs": [
    {
     "data": {
      "text/plain": [
       "136"
      ]
     },
     "execution_count": 7,
     "metadata": {},
     "output_type": "execute_result"
    }
   ],
   "source": [
    "def sumofnums(n):\n",
    "    if n == 0:\n",
    "        return n\n",
    "    return n+sumofnums(n-1)\n",
    "\n",
    "n = int(input())\n",
    "sumofnums(n)"
   ]
  },
  {
   "cell_type": "code",
   "execution_count": 13,
   "id": "ac715807",
   "metadata": {},
   "outputs": [
    {
     "data": {
      "text/plain": [
       "40320"
      ]
     },
     "execution_count": 13,
     "metadata": {},
     "output_type": "execute_result"
    }
   ],
   "source": [
    "def factorial(n):\n",
    "    if n == 1:\n",
    "        return n\n",
    "    return n*factorial(n-1)\n",
    "\n",
    "n = int(input())\n",
    "factorial(n)"
   ]
  },
  {
   "cell_type": "code",
   "execution_count": 24,
   "id": "a606e013",
   "metadata": {},
   "outputs": [
    {
     "name": "stdout",
     "output_type": "stream",
     "text": [
      "P r o g r a m m i n g g n i m m a r g o r P "
     ]
    }
   ],
   "source": [
    "def revstring(s,ind):\n",
    "    if ind == len(s):\n",
    "        return\n",
    "    print(s[ind],end = \" \")\n",
    "    revstring(s,ind+1)\n",
    "    print(s[ind],end = \" \")\n",
    "s = \"Programming\"\n",
    "revstring(s,0)"
   ]
  },
  {
   "cell_type": "code",
   "execution_count": 70,
   "id": "1cffce2f",
   "metadata": {},
   "outputs": [
    {
     "data": {
      "text/plain": [
       "6"
      ]
     },
     "execution_count": 70,
     "metadata": {},
     "output_type": "execute_result"
    }
   ],
   "source": [
    "def sumofdigits(n):\n",
    "    if n == 0:\n",
    "        return n\n",
    "    return (n%10)+sumofdigits(n//10)\n",
    "sumofdigits(123)"
   ]
  },
  {
   "cell_type": "code",
   "execution_count": 73,
   "id": "0c15a8fd",
   "metadata": {},
   "outputs": [
    {
     "data": {
      "text/plain": [
       "300"
      ]
     },
     "execution_count": 73,
     "metadata": {},
     "output_type": "execute_result"
    }
   ],
   "source": [
    "def proofdigits(n):\n",
    "    if n == 0:\n",
    "        return 1\n",
    "    return (n%10)*proofdigits(n//10)\n",
    "proofdigits(5543)"
   ]
  },
  {
   "cell_type": "code",
   "execution_count": 63,
   "id": "950c2bd2",
   "metadata": {},
   "outputs": [
    {
     "name": "stdout",
     "output_type": "stream",
     "text": [
      "5\n",
      "5\n",
      "144000\n"
     ]
    }
   ],
   "source": [
    "print(55//10)\n",
    "print(55%10)\n",
    "n = 5556846\n",
    "product = 1\n",
    "while n!=0:\n",
    "    rem = n%10\n",
    "    product *= rem\n",
    "    n = n//10\n",
    "print(product)"
   ]
  }
 ],
 "metadata": {
  "kernelspec": {
   "display_name": "Python 3",
   "language": "python",
   "name": "python3"
  },
  "language_info": {
   "codemirror_mode": {
    "name": "ipython",
    "version": 3
   },
   "file_extension": ".py",
   "mimetype": "text/x-python",
   "name": "python",
   "nbconvert_exporter": "python",
   "pygments_lexer": "ipython3",
   "version": "3.11.9"
  }
 },
 "nbformat": 4,
 "nbformat_minor": 5
}
