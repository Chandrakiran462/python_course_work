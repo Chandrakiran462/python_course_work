{
 "cells": [
  {
   "cell_type": "code",
   "execution_count": 2,
   "id": "5253b010",
   "metadata": {},
   "outputs": [
    {
     "name": "stdout",
     "output_type": "stream",
     "text": [
      "2004/06/06\n"
     ]
    }
   ],
   "source": [
    "# Birthday Format Fixer\n",
    "date = input().split('-')\n",
    "print(f'{date[2]}/{date[1]}/{date[0]}')"
   ]
  },
  {
   "cell_type": "code",
   "execution_count": 3,
   "id": "9007fc87",
   "metadata": {},
   "outputs": [
    {
     "name": "stdout",
     "output_type": "stream",
     "text": [
      "Even Winner\n"
     ]
    }
   ],
   "source": [
    "# Even Winner or Odd Winner\n",
    "num = int(input())\n",
    "if num % 2 == 0:\n",
    "    print(\"Even Winner\")\n",
    "else:\n",
    "    print(\"Odd Winner\")"
   ]
  },
  {
   "cell_type": "code",
   "execution_count": 7,
   "id": "7591f61d",
   "metadata": {},
   "outputs": [
    {
     "name": "stdout",
     "output_type": "stream",
     "text": [
      "k*r*n\n"
     ]
    }
   ],
   "source": [
    "#Vowel Replacer Bot\n",
    "s = input()\n",
    "s = s.translate(str.maketrans(\"aeiou\",\"*****\"))\n",
    "print(s)"
   ]
  },
  {
   "cell_type": "code",
   "execution_count": 9,
   "id": "76e6e739",
   "metadata": {},
   "outputs": [
    {
     "name": "stdout",
     "output_type": "stream",
     "text": [
      "140\n",
      "100\n"
     ]
    }
   ],
   "source": [
    "#Shopping Cart Analyzer\n",
    "prices = list(map(float,input().split()))\n",
    "print(\"%.f\" % sum(prices))\n",
    "print(\"%.f\" % max(prices))"
   ]
  },
  {
   "cell_type": "code",
   "execution_count": 10,
   "id": "0f47c9f7",
   "metadata": {},
   "outputs": [
    {
     "name": "stdout",
     "output_type": "stream",
     "text": [
      "Login Successful\n"
     ]
    }
   ],
   "source": [
    "#Secure Login system\n",
    "credentials = ('admin','python123')\n",
    "username = input()\n",
    "password = input()\n",
    "if username == credentials[0] and password == credentials[1]:\n",
    "    print(\"Login Successful\")\n",
    "else:\n",
    "    print(\"Access Denied\")"
   ]
  },
  {
   "cell_type": "code",
   "execution_count": 24,
   "id": "97033264",
   "metadata": {},
   "outputs": [
    {
     "name": "stdout",
     "output_type": "stream",
     "text": [
      "['anji', 'kiran', 'shannu']\n"
     ]
    }
   ],
   "source": [
    "# Remove Duplicates From set\n",
    "names = input().split(\",\")\n",
    "s = set(names)\n",
    "print(sorted(s))"
   ]
  },
  {
   "cell_type": "code",
   "execution_count": null,
   "id": "7a9a8c71",
   "metadata": {},
   "outputs": [
    {
     "ename": "ValueError",
     "evalue": "dictionary update sequence element #0 has length 15; 2 is required",
     "output_type": "error",
     "traceback": [
      "\u001b[31m---------------------------------------------------------------------------\u001b[39m",
      "\u001b[31mValueError\u001b[39m                                Traceback (most recent call last)",
      "\u001b[36mCell\u001b[39m\u001b[36m \u001b[39m\u001b[32mIn[48]\u001b[39m\u001b[32m, line 6\u001b[39m\n\u001b[32m      4\u001b[39m \u001b[38;5;28;01mfor\u001b[39;00m i \u001b[38;5;129;01min\u001b[39;00m \u001b[38;5;28mrange\u001b[39m(n):\n\u001b[32m      5\u001b[39m     data = \u001b[38;5;28minput\u001b[39m().split()\n\u001b[32m----> \u001b[39m\u001b[32m6\u001b[39m     \u001b[43md\u001b[49m\u001b[43m.\u001b[49m\u001b[43mupdate\u001b[49m\u001b[43m(\u001b[49m\u001b[43m{\u001b[49m\u001b[33;43m'\u001b[39;49m\u001b[33;43mdata[0]:data[1]\u001b[39;49m\u001b[33;43m'\u001b[39;49m\u001b[43m}\u001b[49m\u001b[43m)\u001b[49m\n\u001b[32m      7\u001b[39m \u001b[38;5;28mprint\u001b[39m(d)\n",
      "\u001b[31mValueError\u001b[39m: dictionary update sequence element #0 has length 15; 2 is required"
     ]
    }
   ],
   "source": [
    "# students Marks Record\n",
    "n = int(input())\n",
    "d = dict()\n",
    "for i in range(n):\n",
    "    data = input().split()\n",
    "print(d)\n"
   ]
  },
  {
   "cell_type": "code",
   "execution_count": 32,
   "id": "f4fdd655",
   "metadata": {},
   "outputs": [
    {
     "name": "stdout",
     "output_type": "stream",
     "text": [
      "olleh dlrow "
     ]
    }
   ],
   "source": [
    "#Reverse my Words\n",
    "s = input().split()\n",
    "for i in range(len(s)):\n",
    "    print(s[i][::-1],end = \" \")\n"
   ]
  },
  {
   "cell_type": "code",
   "execution_count": 36,
   "id": "8f01b6a4",
   "metadata": {},
   "outputs": [
    {
     "name": "stdout",
     "output_type": "stream",
     "text": [
      "1\n",
      "2\n",
      "3\n",
      "5\n",
      "[1, 2, 3, 5]\n"
     ]
    }
   ],
   "source": [
    "# clean my list\n",
    "n = input()\n",
    "l = list(map(int,n.split()))\n",
    "cleaned_list = []\n",
    "for i in range (len(l)):\n",
    "    if l[i] != 0:\n",
    "        print(l[i])\n",
    "        cleaned_list.append(l[i])\n",
    "print(cleaned_list)\n"
   ]
  },
  {
   "cell_type": "code",
   "execution_count": null,
   "id": "19f7829c",
   "metadata": {},
   "outputs": [],
   "source": [
    "# frequency Counter\n",
    "s = input()\n"
   ]
  }
 ],
 "metadata": {
  "kernelspec": {
   "display_name": "Python 3",
   "language": "python",
   "name": "python3"
  },
  "language_info": {
   "codemirror_mode": {
    "name": "ipython",
    "version": 3
   },
   "file_extension": ".py",
   "mimetype": "text/x-python",
   "name": "python",
   "nbconvert_exporter": "python",
   "pygments_lexer": "ipython3",
   "version": "3.11.9"
  }
 },
 "nbformat": 4,
 "nbformat_minor": 5
}
