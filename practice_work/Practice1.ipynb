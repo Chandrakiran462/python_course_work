{
 "cells": [
  {
   "cell_type": "code",
   "execution_count": null,
   "id": "5253b010",
   "metadata": {},
   "outputs": [
    {
     "name": "stdout",
     "output_type": "stream",
     "text": [
      "2004/6/6\n"
     ]
    }
   ],
   "source": [
    "# 1.Birthday Format Fixer\n",
    "date = input().split('-')\n",
    "print(f'{date[2]}/{date[1]}/{date[0]}')"
   ]
  },
  {
   "cell_type": "code",
   "execution_count": null,
   "id": "9007fc87",
   "metadata": {},
   "outputs": [
    {
     "name": "stdout",
     "output_type": "stream",
     "text": [
      "Even Winner\n"
     ]
    }
   ],
   "source": [
    "# 2.Even Winner or Odd Winner\n",
    "num = int(input())\n",
    "if num % 2 == 0:\n",
    "    print(\"Even Winner\")\n",
    "else:\n",
    "    print(\"Odd Winner\")"
   ]
  },
  {
   "cell_type": "code",
   "execution_count": null,
   "id": "7591f61d",
   "metadata": {},
   "outputs": [
    {
     "name": "stdout",
     "output_type": "stream",
     "text": [
      "k*r*n\n"
     ]
    }
   ],
   "source": [
    "# 3.Vowel Replacer Bot\n",
    "s = input()\n",
    "s = s.translate(str.maketrans(\"aeiou\",\"*****\"))\n",
    "print(s)"
   ]
  },
  {
   "cell_type": "code",
   "execution_count": null,
   "id": "76e6e739",
   "metadata": {},
   "outputs": [
    {
     "name": "stdout",
     "output_type": "stream",
     "text": [
      "193.6\n",
      "125.2\n"
     ]
    }
   ],
   "source": [
    "# 4.Shopping Cart Analyzer\n",
    "prices = list(map(float,input().split()))\n",
    "print(sum(prices))\n",
    "print(max(prices))"
   ]
  },
  {
   "cell_type": "code",
   "execution_count": null,
   "id": "0f47c9f7",
   "metadata": {},
   "outputs": [
    {
     "name": "stdout",
     "output_type": "stream",
     "text": [
      "Login Successful\n"
     ]
    }
   ],
   "source": [
    "# 5.Secure Login system\n",
    "credentials = ('admin','python123')\n",
    "username = input()\n",
    "password = input()\n",
    "if username == credentials[0] and password == credentials[1]:\n",
    "    print(\"Login Successful\")\n",
    "else:\n",
    "    print(\"Access Denied\")"
   ]
  },
  {
   "cell_type": "code",
   "execution_count": null,
   "id": "97033264",
   "metadata": {},
   "outputs": [
    {
     "name": "stdout",
     "output_type": "stream",
     "text": [
      "['anji', 'kiran', 'shannu']\n"
     ]
    }
   ],
   "source": [
    "# 6.Remove Duplicates From set\n",
    "names = input().split(\",\")      # names = set(input().split(\",\"))\n",
    "s = set(names)\n",
    "print(sorted(s))"
   ]
  },
  {
   "cell_type": "code",
   "execution_count": 26,
   "id": "7a9a8c71",
   "metadata": {},
   "outputs": [
    {
     "name": "stdout",
     "output_type": "stream",
     "text": [
      "{'kiran': 54, 'sri': 80, 'sai': 45}\n",
      "sri\n"
     ]
    }
   ],
   "source": [
    "# 7.students Marks Record\n",
    "n = int(input())\n",
    "data = {}\n",
    "max_value= 0\n",
    "res_name = \"\"\n",
    "for _ in range(n):\n",
    "    name,marks = input().split()\n",
    "    marks = int(marks)\n",
    "    data[name] = marks\n",
    "    if marks > max_value:\n",
    "        max_value = marks\n",
    "        res_name = name\n",
    "    data[name] = marks\n",
    "print(data)\n",
    "print(res_name)\n"
   ]
  },
  {
   "cell_type": "code",
   "execution_count": null,
   "id": "f4fdd655",
   "metadata": {},
   "outputs": [
    {
     "name": "stdout",
     "output_type": "stream",
     "text": [
      "olleh dlrow "
     ]
    }
   ],
   "source": [
    "# 8.Reverse my Words\n",
    "s = input().split()\n",
    "for i in range(len(s)):\n",
    "    print(s[i][::-1],end = \" \") # print(i[::-1],end = \" \")\n"
   ]
  },
  {
   "cell_type": "code",
   "execution_count": null,
   "id": "8f01b6a4",
   "metadata": {},
   "outputs": [
    {
     "name": "stdout",
     "output_type": "stream",
     "text": [
      "Input:  0 0 0  4 0 0 5 0 6 4 0 0 0 0 5\n",
      "Output:  [4, 5, 6, 4, 5]\n"
     ]
    }
   ],
   "source": [
    "# 9.clean my list\n",
    "n = input()                     \n",
    "print(\"Input: \",n)\n",
    "l = list(map(int,n.split()))\n",
    "cleaned_list = []\n",
    "for i in range (len(l)):\n",
    "    if l[i] != 0:\n",
    "        cleaned_list.append(l[i])\n",
    "print(\"Output: \",cleaned_list)\n"
   ]
  },
  {
   "cell_type": "code",
   "execution_count": null,
   "id": "68d92d2b",
   "metadata": {},
   "outputs": [
    {
     "name": "stdout",
     "output_type": "stream",
     "text": [
      "[1, 2, 5]\n"
     ]
    }
   ],
   "source": [
    "# 9.clean my list\n",
    "l = list(map(int,input().split()))\n",
    "while (0 in l):\n",
    "    l.remove(0)\n",
    "print(l)"
   ]
  },
  {
   "cell_type": "code",
   "execution_count": null,
   "id": "19f7829c",
   "metadata": {},
   "outputs": [
    {
     "name": "stdout",
     "output_type": "stream",
     "text": [
      "{'h': 2, 'e': 1, 'l': 3, 'o': 4, 'w': 1, 'r': 3, 'd': 1, 'p': 2, 'y': 1, 't': 1, 'n': 1, 'g': 1, 'a': 1, 'm': 1}\n"
     ]
    }
   ],
   "source": [
    "# 10.frequency Counter\n",
    "s = input()\n",
    "data = {}\n",
    "for i in s:\n",
    "    if i not in data and i != ' ':\n",
    "        data[i]=s.count(i)\n",
    "print(data)"
   ]
  },
  {
   "cell_type": "code",
   "execution_count": 3,
   "id": "33ea9708",
   "metadata": {},
   "outputs": [
    {
     "name": "stdout",
     "output_type": "stream",
     "text": [
      "{'milk': 30, 'bread': 20, 'sugar': 40, 'tea': 15}\n",
      "Thank You\n",
      "Total Amout:  235\n"
     ]
    }
   ],
   "source": [
    "total = 0\n",
    "data={\n",
    "    'milk':30,\n",
    "    'bread': 20,\n",
    "    'sugar':40,\n",
    "    'tea':15\n",
    "}\n",
    "print(data)\n",
    "while True:\n",
    "    p_name = input(\"Enter the Product Name(0-Exit): \")\n",
    "    if p_name == \"0\":\n",
    "        print(\"Thank You\")\n",
    "        break\n",
    "    quantity = int(input(\"Enter Item Quantity: \"))\n",
    "    total += data[p_name]*quantity\n",
    "print(\"Total Amout: \",total)"
   ]
  },
  {
   "cell_type": "code",
   "execution_count": 4,
   "id": "90f826ae",
   "metadata": {},
   "outputs": [
    {
     "name": "stdout",
     "output_type": "stream",
     "text": [
      "6 is not Prime\n"
     ]
    }
   ],
   "source": [
    "n = int(input())\n",
    "c = 0\n",
    "for i in range(1,n+1):\n",
    "    if n%i == 0:\n",
    "        c+=1\n",
    "if c == 2:\n",
    "    print(f\"{n} is Prime\")\n",
    "else:\n",
    "    print(f\"{n} is not Prime\")"
   ]
  },
  {
   "cell_type": "code",
   "execution_count": 6,
   "id": "53e497c9",
   "metadata": {},
   "outputs": [
    {
     "name": "stdout",
     "output_type": "stream",
     "text": [
      "5 is Prime\n"
     ]
    }
   ],
   "source": [
    "n = int(input())\n",
    "c = 0\n",
    "for i in range(2,n+1):\n",
    "    if n%i == 0:\n",
    "        c+=1\n",
    "if c == 1:\n",
    "    print(f\"{n} is Prime\")\n",
    "else:\n",
    "    print(f\"{n} is not Prime\")"
   ]
  },
  {
   "cell_type": "code",
   "execution_count": 8,
   "id": "c7a55257",
   "metadata": {},
   "outputs": [
    {
     "name": "stdout",
     "output_type": "stream",
     "text": [
      "37 is Prime\n"
     ]
    }
   ],
   "source": [
    "n = int(input())\n",
    "c = 0\n",
    "for i in range(2,n):\n",
    "    if n%i == 0:\n",
    "        c+=1\n",
    "if c == 0:\n",
    "    print(f\"{n} is Prime\")\n",
    "else:\n",
    "    print(f\"{n} is not Prime\")"
   ]
  },
  {
   "cell_type": "code",
   "execution_count": 15,
   "id": "d1548528",
   "metadata": {},
   "outputs": [
    {
     "name": "stdout",
     "output_type": "stream",
     "text": [
      "2 is Prime\n",
      "3 is Prime\n",
      "5 is Prime\n",
      "7 is Prime\n",
      "11 is Prime\n",
      "13 is Prime\n",
      "17 is Prime\n",
      "19 is Prime\n",
      "23 is Prime\n",
      "29 is Prime\n",
      "31 is Prime\n",
      "37 is Prime\n",
      "41 is Prime\n",
      "43 is Prime\n",
      "47 is Prime\n",
      "53 is Prime\n",
      "59 is Prime\n",
      "61 is Prime\n",
      "67 is Prime\n",
      "71 is Prime\n",
      "73 is Prime\n",
      "79 is Prime\n",
      "83 is Prime\n",
      "89 is Prime\n",
      "97 is Prime\n"
     ]
    }
   ],
   "source": [
    "n = int(input())\n",
    "for j in range (2,n+1):\n",
    "    c = 0\n",
    "    for i in range(2,j//2+1):\n",
    "        if j%i == 0:\n",
    "            c+=1\n",
    "    if c == 0:\n",
    "        print(f\"{j} is Prime\")"
   ]
  },
  {
   "cell_type": "code",
   "execution_count": null,
   "id": "e3a0d26c",
   "metadata": {},
   "outputs": [],
   "source": []
  }
 ],
 "metadata": {
  "kernelspec": {
   "display_name": "Python 3",
   "language": "python",
   "name": "python3"
  },
  "language_info": {
   "codemirror_mode": {
    "name": "ipython",
    "version": 3
   },
   "file_extension": ".py",
   "mimetype": "text/x-python",
   "name": "python",
   "nbconvert_exporter": "python",
   "pygments_lexer": "ipython3",
   "version": "3.11.9"
  }
 },
 "nbformat": 4,
 "nbformat_minor": 5
}
