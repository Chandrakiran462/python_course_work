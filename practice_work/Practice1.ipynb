{
 "cells": [
  {
   "cell_type": "code",
   "execution_count": 2,
   "id": "5253b010",
   "metadata": {},
   "outputs": [
    {
     "name": "stdout",
     "output_type": "stream",
     "text": [
      "2004/06/06\n"
     ]
    }
   ],
   "source": [
    "# Birthday Format Fixer\n",
    "date = input().split('-')\n",
    "print(f'{date[2]}/{date[1]}/{date[0]}')"
   ]
  },
  {
   "cell_type": "code",
   "execution_count": 3,
   "id": "9007fc87",
   "metadata": {},
   "outputs": [
    {
     "name": "stdout",
     "output_type": "stream",
     "text": [
      "Even Winner\n"
     ]
    }
   ],
   "source": [
    "# Even Winner or Odd Winner\n",
    "num = int(input())\n",
    "if num % 2 == 0:\n",
    "    print(\"Even Winner\")\n",
    "else:\n",
    "    print(\"Odd Winner\")"
   ]
  },
  {
   "cell_type": "code",
   "execution_count": 7,
   "id": "7591f61d",
   "metadata": {},
   "outputs": [
    {
     "name": "stdout",
     "output_type": "stream",
     "text": [
      "k*r*n\n"
     ]
    }
   ],
   "source": [
    "#Vowel Replacer Bot\n",
    "s = input()\n",
    "s = s.translate(str.maketrans(\"aeiou\",\"*****\"))\n",
    "print(s)"
   ]
  },
  {
   "cell_type": "code",
   "execution_count": 9,
   "id": "76e6e739",
   "metadata": {},
   "outputs": [
    {
     "name": "stdout",
     "output_type": "stream",
     "text": [
      "140\n",
      "100\n"
     ]
    }
   ],
   "source": [
    "#Shopping Cart Analyzer\n",
    "prices = list(map(float,input().split()))\n",
    "print(\"%.f\" % sum(prices))\n",
    "print(\"%.f\" % max(prices))"
   ]
  },
  {
   "cell_type": "code",
   "execution_count": 10,
   "id": "0f47c9f7",
   "metadata": {},
   "outputs": [
    {
     "name": "stdout",
     "output_type": "stream",
     "text": [
      "Login Successful\n"
     ]
    }
   ],
   "source": [
    "#Secure Login system\n",
    "credentials = ('admin','python123')\n",
    "username = input()\n",
    "password = input()\n",
    "if username == credentials[0] and password == credentials[1]:\n",
    "    print(\"Login Successful\")\n",
    "else:\n",
    "    print(\"Access Denied\")"
   ]
  },
  {
   "cell_type": "code",
   "execution_count": 24,
   "id": "97033264",
   "metadata": {},
   "outputs": [
    {
     "name": "stdout",
     "output_type": "stream",
     "text": [
      "['anji', 'kiran', 'shannu']\n"
     ]
    }
   ],
   "source": [
    "# Remove Duplicates From set\n",
    "names = input().split(\",\")\n",
    "s = set(names)\n",
    "print(sorted(s))"
   ]
  },
  {
   "cell_type": "code",
   "execution_count": 4,
   "id": "7a9a8c71",
   "metadata": {},
   "outputs": [
    {
     "name": "stdout",
     "output_type": "stream",
     "text": [
      "['shannu', '35']\n"
     ]
    }
   ],
   "source": [
    "# students Marks Record\n",
    "n = int(input())\n",
    "d = dict()\n",
    "for i in range(n):\n",
    "    data = input().split() \n",
    "print(data)\n"
   ]
  },
  {
   "cell_type": "code",
   "execution_count": 9,
   "id": "f4fdd655",
   "metadata": {},
   "outputs": [
    {
     "name": "stdout",
     "output_type": "stream",
     "text": [
      "olleh dlrow "
     ]
    }
   ],
   "source": [
    "#Reverse my Words\n",
    "s = input().split()\n",
    "for i in range(len(s)):\n",
    "    print(s[i][::-1],end = \" \")\n"
   ]
  },
  {
   "cell_type": "code",
   "execution_count": 6,
   "id": "8f01b6a4",
   "metadata": {},
   "outputs": [
    {
     "name": "stdout",
     "output_type": "stream",
     "text": [
      "Input:  1 0 3 0 4 5 8 0\n",
      "Output:  [1, 3, 4, 5, 8]\n"
     ]
    }
   ],
   "source": [
    "# clean my list\n",
    "n = input()\n",
    "print(\"Input: \",n)\n",
    "l = list(map(int,n.split()))\n",
    "cleaned_list = []\n",
    "for i in range (len(l)):\n",
    "    if l[i] != 0:\n",
    "        cleaned_list.append(l[i])\n",
    "print(\"Output: \",cleaned_list)\n"
   ]
  },
  {
   "cell_type": "code",
   "execution_count": null,
   "id": "19f7829c",
   "metadata": {},
   "outputs": [],
   "source": [
    "# frequency Counter\n",
    "s = input()\n"
   ]
  }
 ],
 "metadata": {
  "kernelspec": {
   "display_name": "Python 3",
   "language": "python",
   "name": "python3"
  },
  "language_info": {
   "codemirror_mode": {
    "name": "ipython",
    "version": 3
   },
   "file_extension": ".py",
   "mimetype": "text/x-python",
   "name": "python",
   "nbconvert_exporter": "python",
   "pygments_lexer": "ipython3",
   "version": "3.11.9"
  }
 },
 "nbformat": 4,
 "nbformat_minor": 5
}
