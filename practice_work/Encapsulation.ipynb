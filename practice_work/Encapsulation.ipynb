{
 "cells": [
  {
   "cell_type": "code",
   "execution_count": 6,
   "id": "314505f5",
   "metadata": {},
   "outputs": [
    {
     "name": "stdout",
     "output_type": "stream",
     "text": [
      "username  Kiran12\n",
      "PassWord  Kiran@66\n",
      "OTP  2207\n",
      "updated username:  kiran_12\n",
      "updated pass:  Kiran22\n",
      "updated OTP:  2548\n"
     ]
    }
   ],
   "source": [
    "import random\n",
    "class Login:\n",
    "    def __init__ (self,username,password):\n",
    "        self.username = username                # public\n",
    "        self.__password = password              # private\n",
    "        self._otp = random.randint(1111,9999)   # protected\n",
    "    \n",
    "    def getpassword(self):\n",
    "        return self.__password\n",
    "    def updatepassword(self,new_pwd):\n",
    "        self.__password = new_pwd\n",
    "\n",
    "\n",
    "    @property\n",
    "    def publicotp(self):\n",
    "        return self._otp\n",
    "    @publicotp.setter\n",
    "    def publicotp(self,new_otp):\n",
    "        self._otp = new_otp\n",
    "\n",
    "kiran = Login('Kiran12','Kiran@66')\n",
    "\n",
    "# public \n",
    "print('username ',kiran.username)\n",
    "\n",
    "# private\n",
    "print('PassWord ',kiran.getpassword())\n",
    "\n",
    "# protected\n",
    "print('OTP ',kiran.publicotp)\n",
    "\n",
    "kiran.username = \"kiran_12\"\n",
    "print(\"updated username: \",kiran.username)\n",
    "kiran.updatepassword('Kiran22')\n",
    "print(\"updated pass: \",kiran.getpassword())\n",
    "kiran.publicotp = 2548\n",
    "print(\"updated OTP: \",kiran.publicotp)"
   ]
  }
 ],
 "metadata": {
  "kernelspec": {
   "display_name": "Python 3",
   "language": "python",
   "name": "python3"
  },
  "language_info": {
   "codemirror_mode": {
    "name": "ipython",
    "version": 3
   },
   "file_extension": ".py",
   "mimetype": "text/x-python",
   "name": "python",
   "nbconvert_exporter": "python",
   "pygments_lexer": "ipython3",
   "version": "3.11.9"
  }
 },
 "nbformat": 4,
 "nbformat_minor": 5
}
