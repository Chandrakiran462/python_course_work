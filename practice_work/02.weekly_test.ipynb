{
 "cells": [
  {
   "cell_type": "code",
   "execution_count": 13,
   "id": "0650185e",
   "metadata": {},
   "outputs": [
    {
     "name": "stdout",
     "output_type": "stream",
     "text": [
      "330000.0\n"
     ]
    }
   ],
   "source": [
    "salary=int(input())\n",
    "if 0 < salary <=250000:\n",
    "    print(\"No Tax\")\n",
    "elif 250001<= salary <= 500000:\n",
    "    print(salary*0.05)\n",
    "elif 500001<= salary <= 1000000:\n",
    "    print(salary*0.2)\n",
    "elif salary>1000000:\n",
    "    print(salary*0.3)"
   ]
  },
  {
   "cell_type": "code",
   "execution_count": 14,
   "id": "3c806cb6",
   "metadata": {},
   "outputs": [
    {
     "name": "stdout",
     "output_type": "stream",
     "text": [
      "370\n"
     ]
    }
   ],
   "source": [
    "n = int(input())\n",
    "amount = 0\n",
    "while n!= 0:\n",
    "    age = int(input())\n",
    "    if age <= 5:\n",
    "        pass\n",
    "    elif age <= 18:\n",
    "        amount += 100\n",
    "    elif age <= 60:\n",
    "        amount += 150\n",
    "    elif age > 60:\n",
    "        amount += 120\n",
    "    n -= 1\n",
    "print(amount)"
   ]
  },
  {
   "cell_type": "code",
   "execution_count": 15,
   "id": "13af6f9d",
   "metadata": {},
   "outputs": [
    {
     "name": "stdout",
     "output_type": "stream",
     "text": [
      "600.0\n"
     ]
    }
   ],
   "source": [
    "units=int(input())\n",
    "\n",
    "if units<=100:\n",
    "    print(units*1.5)\n",
    "\n",
    "elif 101<=units<=200:\n",
    "    bill=(100*1.5)+(units-100)*2.5\n",
    "    print(bill)\n",
    "\n",
    "elif 201<=units<=500:\n",
    "    bill=(100*1.5)+(100*2.5)+(units-200)*4\n",
    "    print(bill)\n",
    "\n",
    "elif units>500:\n",
    "    bill=(100*1.5)+(100*2.5)+(300*4)+(units-500)*6\n",
    "    print(bill)"
   ]
  },
  {
   "cell_type": "code",
   "execution_count": 19,
   "id": "2ca099fc",
   "metadata": {},
   "outputs": [
    {
     "name": "stdout",
     "output_type": "stream",
     "text": [
      "40\n"
     ]
    }
   ],
   "source": [
    "hours = int(input())\n",
    "amount = 30\n",
    "if hours <= 2:\n",
    "    print(amount)\n",
    "elif 2<hours<24:\n",
    "    print(amount+((hours - 2)*10))\n",
    "elif hours == 24:\n",
    "    print(200)"
   ]
  },
  {
   "cell_type": "code",
   "execution_count": 12,
   "id": "5ec7441e",
   "metadata": {},
   "outputs": [
    {
     "name": "stdout",
     "output_type": "stream",
     "text": [
      "0 1 0 1 0 \n",
      "1 0 1 0 1 \n",
      "0 1 0 1 0 \n",
      "1 0 1 0 1 \n",
      "0 1 0 1 0 \n"
     ]
    }
   ],
   "source": [
    "n = int(input())\n",
    "for rows in range(n):\n",
    "    for cols in range(n):\n",
    "        print((rows+cols)%2,end = \" \")\n",
    "    print()"
   ]
  }
 ],
 "metadata": {
  "kernelspec": {
   "display_name": "Python 3",
   "language": "python",
   "name": "python3"
  },
  "language_info": {
   "codemirror_mode": {
    "name": "ipython",
    "version": 3
   },
   "file_extension": ".py",
   "mimetype": "text/x-python",
   "name": "python",
   "nbconvert_exporter": "python",
   "pygments_lexer": "ipython3",
   "version": "3.11.9"
  }
 },
 "nbformat": 4,
 "nbformat_minor": 5
}
