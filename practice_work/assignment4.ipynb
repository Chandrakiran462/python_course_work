{
 "cells": [
  {
   "cell_type": "code",
   "execution_count": 2,
   "id": "b29e7e36",
   "metadata": {},
   "outputs": [
    {
     "name": "stdout",
     "output_type": "stream",
     "text": [
      "3\n"
     ]
    }
   ],
   "source": [
    "def find_missing(nums):\n",
    "    n = len(nums) + 1\n",
    "    total = n * (n + 1) // 2\n",
    "    return total - sum(nums)\n",
    "nums = list(map(int,input().split()))\n",
    "print(find_missing(nums))"
   ]
  },
  {
   "cell_type": "code",
   "execution_count": 2,
   "id": "2287c6a5",
   "metadata": {},
   "outputs": [
    {
     "name": "stdout",
     "output_type": "stream",
     "text": [
      "True\n"
     ]
    }
   ],
   "source": [
    "import atmlogic as atm\n",
    "s = 'madam'\n",
    "atm.palindrome(s)"
   ]
  }
 ],
 "metadata": {
  "kernelspec": {
   "display_name": "Python 3",
   "language": "python",
   "name": "python3"
  },
  "language_info": {
   "codemirror_mode": {
    "name": "ipython",
    "version": 3
   },
   "file_extension": ".py",
   "mimetype": "text/x-python",
   "name": "python",
   "nbconvert_exporter": "python",
   "pygments_lexer": "ipython3",
   "version": "3.11.9"
  }
 },
 "nbformat": 4,
 "nbformat_minor": 5
}
