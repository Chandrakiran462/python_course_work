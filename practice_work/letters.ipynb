{
 "cells": [
  {
   "cell_type": "code",
   "execution_count": 2,
   "id": "9233ead9",
   "metadata": {},
   "outputs": [
    {
     "name": "stdout",
     "output_type": "stream",
     "text": [
      "* * * * * * * * * \n",
      "        *         \n",
      "        *         \n",
      "        *         \n",
      "        *         \n",
      "        *         \n",
      "        *         \n",
      "        *         \n",
      "* * * * * * * * * \n"
     ]
    }
   ],
   "source": [
    "n = int(input())\n",
    "for rows in range(n):\n",
    "  for cols in range(n):\n",
    "    if rows == 0 or rows == n-1 or cols == n // 2:\n",
    "      print(\"*\",end= \" \")\n",
    "    else:\n",
    "      print(\" \",end = \" \")\n",
    "  print()"
   ]
  },
  {
   "cell_type": "code",
   "execution_count": 4,
   "id": "2e99a038",
   "metadata": {},
   "outputs": [
    {
     "name": "stdout",
     "output_type": "stream",
     "text": [
      "*               * \n",
      "*               * \n",
      "*               * \n",
      "*               * \n",
      "* * * * * * * * * \n",
      "*               * \n",
      "*               * \n",
      "*               * \n",
      "*               * \n"
     ]
    }
   ],
   "source": [
    "n = int(input())\n",
    "for rows in range(n):\n",
    "  for cols in range(n):\n",
    "    if cols == 0 or cols == n-1 or rows == n // 2:\n",
    "      print(\"*\",end= \" \")\n",
    "    else:\n",
    "      print(\" \",end = \" \")\n",
    "  print()"
   ]
  },
  {
   "cell_type": "code",
   "execution_count": null,
   "id": "53eb107c",
   "metadata": {},
   "outputs": [
    {
     "name": "stdout",
     "output_type": "stream",
     "text": [
      "  * * * * * * * * \n",
      "*                 \n",
      "*                 \n",
      "*                 \n",
      "* * * * * * * * * \n",
      "                * \n",
      "                * \n",
      "                * \n",
      "* * * * * * * * * \n"
     ]
    }
   ],
   "source": [
    "n = int(input())\n",
    "for rows in range(n):\n",
    "  for cols in range(n):\n",
    "    if (rows==0 and cols!=0) or (rows==n-1 and cols!=n-1) or rows==n//2 or (cols == 0 and rows <= n//2 and rows!=0) or (cols == n-1 and rows >= n//2):\n",
    "      print(\"*\",end= \" \")\n",
    "    else:\n",
    "      print(\" \",end = \" \")\n",
    "  print()"
   ]
  },
  {
   "cell_type": "code",
   "execution_count": null,
   "id": "e01a5784",
   "metadata": {},
   "outputs": [
    {
     "name": "stdout",
     "output_type": "stream",
     "text": [
      "* * * * * * * * * \n",
      "*               * \n",
      "*               * \n",
      "*               * \n",
      "* * * * * * * * * \n",
      "*               * \n",
      "*               * \n",
      "*               * \n",
      "*               * \n"
     ]
    }
   ],
   "source": [
    "n = int(input())\n",
    "for rows in range(n):\n",
    "  for cols in range(n):\n",
    "    if rows == 0 or cols == 0 or cols == n-1 or rows == n // 2:\n",
    "      print(\"*\",end= \" \")\n",
    "    else:\n",
    "      print(\" \",end = \" \")\n",
    "  print()"
   ]
  },
  {
   "cell_type": "code",
   "execution_count": 126,
   "id": "500f6753",
   "metadata": {},
   "outputs": [
    {
     "name": "stdout",
     "output_type": "stream",
     "text": [
      "*               * \n",
      "*               * \n",
      "*               * \n",
      "*               * \n",
      "*               * \n",
      "  *           *   \n",
      "    *       *     \n",
      "      *   *       \n",
      "        *         \n"
     ]
    }
   ],
   "source": [
    "n = int(input())\n",
    "for rows in range(n):\n",
    "    for cols in range(n):\n",
    "        if (cols == 0 or cols == n-1) and rows <= n//2 or (rows-cols == n // 2 and rows>=n//2) or (rows>n//2 and cols > n // 2 and rows != n-1 and rows+cols == n + (n//2 - 1)):\n",
    "            print(\"*\",end= \" \")\n",
    "        else:\n",
    "            print(\" \",end = \" \")\n",
    "        \n",
    "    print()"
   ]
  },
  {
   "cell_type": "code",
   "execution_count": 75,
   "id": "731af164",
   "metadata": {},
   "outputs": [
    {
     "name": "stdout",
     "output_type": "stream",
     "text": [
      "*         *     \n",
      "*       *       \n",
      "*     *         \n",
      "*   *           \n",
      "* *             \n",
      "*   *           \n",
      "*     *         \n",
      "*       *       \n",
      "*         *     \n"
     ]
    }
   ],
   "source": [
    "n = int(input())\n",
    "for rows in range(n):\n",
    "  for cols in range(n-1):\n",
    "    if cols == 0 or (cols == n//2 + 1 and (rows == 0 or rows == n-1)) or (rows+cols == n // 2 + 1 and rows<=n//2 and rows!=0) or (rows-cols == n // 2 - 1 and rows>=n//2 and rows != n-1)  :\n",
    "      print(\"*\",end= \" \")\n",
    "    else:\n",
    "      print(\" \",end = \" \")\n",
    "  print()"
   ]
  },
  {
   "cell_type": "code",
   "execution_count": 107,
   "id": "6eed6db4",
   "metadata": {},
   "outputs": [
    {
     "name": "stdout",
     "output_type": "stream",
     "text": [
      "* * * * * * * * * \n",
      "*                 \n",
      "*                 \n",
      "*                 \n",
      "* * * * * * * * * \n",
      "*                 \n",
      "*                 \n",
      "*                 \n",
      "*                 \n"
     ]
    }
   ],
   "source": [
    "n = int(input())\n",
    "for rows in range(n):\n",
    "  for cols in range(n):\n",
    "    if cols == 0 or rows == 0 or rows == n//2  :\n",
    "      print(\"*\",end= \" \")\n",
    "    else:\n",
    "      print(\" \",end = \" \")\n",
    "  print()"
   ]
  },
  {
   "cell_type": "code",
   "execution_count": 106,
   "id": "98763848",
   "metadata": {},
   "outputs": [
    {
     "name": "stdout",
     "output_type": "stream",
     "text": [
      "* * * * * \n",
      "*       * \n",
      "*     *   \n",
      "*   *     \n",
      "* *       \n",
      "*   *     \n",
      "*     *   \n",
      "*       * \n"
     ]
    }
   ],
   "source": [
    "n = int(input())\n",
    "for rows in range(n-1):\n",
    "  for cols in range(n//2 + 1):\n",
    "    if cols == 0 or (rows == 0 or rows == n-1) or (rows+cols == n // 2 + 1 and rows<=n//2 and rows!=0) or (rows-cols == n // 2 - 1 and rows>=n//2 and rows != n-1)  :\n",
    "      print(\"*\",end= \" \")\n",
    "    else:\n",
    "      print(\" \",end = \" \")\n",
    "  print()"
   ]
  },
  {
   "cell_type": "code",
   "execution_count": 113,
   "id": "f8de30b1",
   "metadata": {},
   "outputs": [
    {
     "name": "stdout",
     "output_type": "stream",
     "text": [
      "*               * \n",
      "* *             * \n",
      "*   *           * \n",
      "*     *         * \n",
      "*       *       * \n",
      "*         *     * \n",
      "*           *   * \n",
      "*             * * \n",
      "*               * \n"
     ]
    }
   ],
   "source": [
    "n = int(input())\n",
    "for rows in range(n):\n",
    "    for cols in range(n):\n",
    "        if cols == 0 or cols == n-1 or (rows == cols):\n",
    "            print(\"*\",end=\" \")\n",
    "        else:\n",
    "            print(\" \",end = \" \")\n",
    "    print()"
   ]
  },
  {
   "cell_type": "code",
   "execution_count": 125,
   "id": "6d991887",
   "metadata": {},
   "outputs": [
    {
     "name": "stdout",
     "output_type": "stream",
     "text": [
      "*               * \n",
      "* *           * * \n",
      "*   *       *   * \n",
      "*     *   *     * \n",
      "*       *       * \n",
      "*               * \n",
      "*               * \n",
      "*               * \n",
      "*               * \n"
     ]
    }
   ],
   "source": [
    "n = int(input())\n",
    "for rows in range(n):\n",
    "    for cols in range(n):\n",
    "        if cols == 0 or cols == n-1 or (rows == cols and rows <= n // 2) or (rows + cols == n-1 and rows <= n//2 -1):\n",
    "            print(\"*\",end=\" \")\n",
    "        else:\n",
    "            print(\" \",end = \" \")\n",
    "    print()"
   ]
  },
  {
   "cell_type": "code",
   "execution_count": 128,
   "id": "5b60e26c",
   "metadata": {},
   "outputs": [
    {
     "name": "stdout",
     "output_type": "stream",
     "text": [
      "* * * * * * * * * \n",
      "        *         \n",
      "        *         \n",
      "        *         \n",
      "        *         \n",
      "        *         \n",
      "        *         \n",
      "        *         \n",
      "        *         \n"
     ]
    }
   ],
   "source": [
    "n = int(input())\n",
    "for rows in range(n):\n",
    "    for cols in range(n):\n",
    "        if rows == 0 or cols == n // 2:\n",
    "            print(\"*\",end = \" \")\n",
    "        else:\n",
    "            print(\" \",end = \" \")\n",
    "    print()"
   ]
  },
  {
   "cell_type": "code",
   "execution_count": 134,
   "id": "a45860f6",
   "metadata": {},
   "outputs": [
    {
     "name": "stdout",
     "output_type": "stream",
     "text": [
      "* * * * * * * * * \n",
      "        *         \n",
      "        *         \n",
      "        *         \n",
      "        *         \n",
      "*       *         \n",
      "*       *         \n",
      "*       *         \n",
      "* * * * *         \n"
     ]
    }
   ],
   "source": [
    "n = int(input())\n",
    "for rows in range(n):\n",
    "    for cols in range(n):\n",
    "        if rows == 0 or cols == n // 2 or (rows == n - 1 and cols < n//2) or (cols == 0  and rows > n //2):\n",
    "            print(\"*\",end = \" \")\n",
    "        else:\n",
    "            print(\" \",end = \" \")\n",
    "    print()"
   ]
  },
  {
   "cell_type": "code",
   "execution_count": 142,
   "id": "0ff16653",
   "metadata": {},
   "outputs": [
    {
     "name": "stdout",
     "output_type": "stream",
     "text": [
      "* * * * * * * * * \n",
      "        *         \n",
      "        *         \n",
      "        *         \n",
      "*       *         \n",
      "  *     *         \n",
      "    *   *         \n",
      "      * *         \n",
      "        *         \n"
     ]
    }
   ],
   "source": [
    "n = int(input())\n",
    "for rows in range(n):\n",
    "    for cols in range(n):\n",
    "        if rows == 0 or cols == n // 2 or (rows-cols == n // 2 and rows>=n//2 and rows != n):\n",
    "            print(\"*\",end = \" \")\n",
    "        else:\n",
    "            print(\" \",end = \" \")\n",
    "    print()"
   ]
  },
  {
   "cell_type": "code",
   "execution_count": null,
   "id": "d433a12b",
   "metadata": {},
   "outputs": [
    {
     "name": "stdout",
     "output_type": "stream",
     "text": [
      "* * * * * * * * * \n",
      "*               * \n",
      "*               * \n",
      "*               * \n",
      "* * * * * * * * * \n",
      "*               * \n",
      "*               * \n",
      "*               * \n",
      "* * * * * * * * * \n"
     ]
    }
   ],
   "source": [
    "n = int(input())\n",
    "for rows in range(n):\n",
    "  for cols in range(n):\n",
    "    if (rows == 0 and cols != n-1) or cols == 0  or cols == n-1  or rows == n // 2 or rows == n-1:\n",
    "      print(\"*\",end= \" \")\n",
    "    else:\n",
    "      print(\" \",end = \" \")\n",
    "  print()"
   ]
  }
 ],
 "metadata": {
  "kernelspec": {
   "display_name": "Python 3",
   "language": "python",
   "name": "python3"
  },
  "language_info": {
   "codemirror_mode": {
    "name": "ipython",
    "version": 3
   },
   "file_extension": ".py",
   "mimetype": "text/x-python",
   "name": "python",
   "nbconvert_exporter": "python",
   "pygments_lexer": "ipython3",
   "version": "3.11.9"
  }
 },
 "nbformat": 4,
 "nbformat_minor": 5
}
