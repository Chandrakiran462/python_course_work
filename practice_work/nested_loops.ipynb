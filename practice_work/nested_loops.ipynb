{
 "cells": [
  {
   "cell_type": "markdown",
   "id": "fb84c3d1",
   "metadata": {},
   "source": [
    "***Introduction: What Are Nested Loops?***\n",
    "\n",
    "Definition: A nested loop is simply a loop inside another loop. The outer loop runs, and for each of its iterations, the inner loop runs completely."
   ]
  },
  {
   "cell_type": "markdown",
   "id": "ca8866bb",
   "metadata": {},
   "source": [
    "***PATTREN 1 (n = 5)***\n",
    "```\\\n",
    "   1 2 3 4 5\n",
    "1. 1\n",
    "2. 1 2\n",
    "3. 1 2 3\n",
    "4. 1 2 3 4\n",
    "5. 1 2 3 4 5\n"
   ]
  },
  {
   "cell_type": "code",
   "execution_count": 126,
   "id": "c0d24fbd",
   "metadata": {},
   "outputs": [
    {
     "name": "stdout",
     "output_type": "stream",
     "text": [
      "1 \n",
      "1 2 \n",
      "1 2 3 \n",
      "1 2 3 4 \n",
      "1 2 3 4 5 \n"
     ]
    }
   ],
   "source": [
    "n = 5\n",
    "for rows in range (1,n+1):\n",
    "    for cols in range(1,rows+1):\n",
    "        print(cols,end = \" \")\n",
    "    print()"
   ]
  },
  {
   "cell_type": "markdown",
   "id": "552d2f8b",
   "metadata": {
    "slideshow": {
     "slide_type": "notes"
    }
   },
   "source": [
    "***PATTREN 2 (n = 5)***\n",
    "\n",
    "```\\\n",
    "* * * * *\n",
    "  * * * *\n",
    "    * * *\n",
    "      * *\n",
    "        *\n"
   ]
  },
  {
   "cell_type": "code",
   "execution_count": 4,
   "id": "32f50e71",
   "metadata": {},
   "outputs": [
    {
     "name": "stdout",
     "output_type": "stream",
     "text": [
      "* * * * * \n",
      "  * * * * \n",
      "    * * * \n",
      "      * * \n",
      "        * \n"
     ]
    }
   ],
   "source": [
    "n = 5\n",
    "for rows in range(n):\n",
    "    for spaces in range(rows):\n",
    "        print(\" \",end = \" \")\n",
    "    for cols in range(n-rows):\n",
    "        print(\"*\",end = \" \")\n",
    "    print()"
   ]
  },
  {
   "cell_type": "markdown",
   "id": "88871815",
   "metadata": {},
   "source": [
    "***PATTREN 3 (n = 5)***\n",
    "\n",
    "```\\\n",
    "    *\n",
    "   ***\n",
    "  *****\n",
    " *******\n",
    "*********\n",
    "\n",
    "     "
   ]
  },
  {
   "cell_type": "code",
   "execution_count": 19,
   "id": "dd1a8829",
   "metadata": {},
   "outputs": [
    {
     "name": "stdout",
     "output_type": "stream",
     "text": [
      "     *\n",
      "    ***\n",
      "   *****\n",
      "  *******\n",
      " *********\n"
     ]
    }
   ],
   "source": [
    "n = 5\n",
    "for rows in range (1,n+1):\n",
    "    for spaces in range(n-rows + 1):\n",
    "        print(\" \",end = \"\")\n",
    "    for cols in range(2*rows- 1):\n",
    "        print(\"*\",end = \"\")\n",
    "    print()"
   ]
  },
  {
   "cell_type": "markdown",
   "id": "43975aa7",
   "metadata": {},
   "source": [
    "***PATTREN 4 (n = 5)***\n",
    "\n",
    "```\\\n",
    "*********\n",
    " *******\n",
    "  *****\n",
    "   ***\n",
    "    *"
   ]
  },
  {
   "cell_type": "code",
   "execution_count": null,
   "id": "c992415c",
   "metadata": {},
   "outputs": [
    {
     "name": "stdout",
     "output_type": "stream",
     "text": [
      "  123456789\n",
      "   1234567\n",
      "    12345\n",
      "     123\n",
      "      1\n"
     ]
    }
   ],
   "source": [
    "n = 5\n",
    "for rows in range(1,n+1):\n",
    "    for spaces in range(rows+1):\n",
    "        print(\" \",end = \"\")\n",
    "    for cols in range(1,(2*n) -(2*rows)+2):\n",
    "        print(cols,end = \"\")\n",
    "    print()\n"
   ]
  },
  {
   "cell_type": "markdown",
   "id": "65109ed0",
   "metadata": {},
   "source": [
    "***PATTREN 5 (n = 5)***\n",
    "\n",
    "```\\\n",
    "    *\n",
    "   * *\n",
    "  *   *\n",
    " *     *\n",
    "* * * * *"
   ]
  },
  {
   "cell_type": "code",
   "execution_count": 76,
   "id": "ffd9dab7",
   "metadata": {},
   "outputs": [
    {
     "name": "stdout",
     "output_type": "stream",
     "text": [
      "     * \n",
      "    * * \n",
      "   *   * \n",
      "  *     * \n",
      " * * * * * \n"
     ]
    }
   ],
   "source": [
    "n = 5\n",
    "for rows in range(1,n+1):\n",
    "    for spaces in range(n-rows+1):\n",
    "        print(\" \",end = \"\")\n",
    "    for cols in range(1,rows+1):\n",
    "        if cols == 1 or cols == rows or rows == n:\n",
    "            print(\"*\",end = \" \")\n",
    "        else:\n",
    "            print(\" \",end = \" \")\n",
    "    print()\n"
   ]
  },
  {
   "cell_type": "markdown",
   "id": "8de5e6e5",
   "metadata": {},
   "source": [
    "***PATTREN 6 (n = 5)***\n",
    "\n",
    "```\\\n",
    "    *\n",
    "   **\n",
    "  ***\n",
    " ****\n",
    "*****\n",
    " ****\n",
    "  ***\n",
    "   **\n",
    "    *"
   ]
  },
  {
   "cell_type": "code",
   "execution_count": 92,
   "id": "ea067ddd",
   "metadata": {},
   "outputs": [
    {
     "name": "stdout",
     "output_type": "stream",
     "text": [
      "    *\n",
      "   **\n",
      "  ***\n",
      " ****\n",
      "*****\n",
      " ****\n",
      "  ***\n",
      "   **\n",
      "    *\n"
     ]
    }
   ],
   "source": [
    "n = 5 \n",
    "for rows in range(1,n+1):\n",
    "    for spaces in range(n-rows):\n",
    "        print(\" \",end = \"\")\n",
    "    for cols in range(rows):\n",
    "        print(\"*\",end = \"\")\n",
    "    print()\n",
    "for rows in range(1,n):\n",
    "    for spaces in range(rows):\n",
    "        print(\" \",end = \"\")\n",
    "    for cols in range(n-rows):\n",
    "        print(\"*\",end = \"\")\n",
    "    print()"
   ]
  },
  {
   "cell_type": "markdown",
   "id": "8c6d9168",
   "metadata": {},
   "source": [
    "***PATTREN 7 (n = 5)***\n",
    "\n",
    "```\\\n",
    "    *\n",
    "   ***\n",
    "  *****\n",
    " *******\n",
    "*********\n",
    " *******\n",
    "  *****\n",
    "   ***\n",
    "    *"
   ]
  },
  {
   "cell_type": "code",
   "execution_count": 103,
   "id": "40d7d06b",
   "metadata": {},
   "outputs": [
    {
     "name": "stdout",
     "output_type": "stream",
     "text": [
      "    *\n",
      "   ***\n",
      "  *****\n",
      " *******\n",
      "*********\n",
      " *******\n",
      "  *****\n",
      "   ***\n",
      "    *\n"
     ]
    }
   ],
   "source": [
    "n = 5\n",
    "for rows in range (1,n+1):\n",
    "    for spaces in range(n-rows):\n",
    "        print(\" \",end = \"\")\n",
    "    for cols in range (2*rows-1):\n",
    "        print('*',end = \"\")\n",
    "    print()\n",
    "for rows in range (2,n+1):\n",
    "    for spaces in range(1,rows):\n",
    "        print(\" \",end = \"\")\n",
    "    for cols in range (2*n - 2*rows+1):\n",
    "        print('*',end = \"\")\n",
    "    print()"
   ]
  },
  {
   "cell_type": "markdown",
   "id": "a374e5d4",
   "metadata": {},
   "source": [
    "***PATTREN 8 (n = 5)***\n",
    "\n",
    "```\\\n",
    "    1\n",
    "   121\n",
    "  12321\n",
    " 1234321\n",
    "123454321"
   ]
  },
  {
   "cell_type": "code",
   "execution_count": 107,
   "id": "7f2e0a89",
   "metadata": {},
   "outputs": [
    {
     "name": "stdout",
     "output_type": "stream",
     "text": [
      "    1\n",
      "   121\n",
      "  12321\n",
      " 1234321\n",
      "123454321\n"
     ]
    }
   ],
   "source": [
    "n = 5\n",
    "for rows in range (1,n+1):\n",
    "    for spaces in range(n-rows):\n",
    "        print(\" \",end = \"\")\n",
    "    for cols in range (1,2*rows):\n",
    "        if cols <= rows:\n",
    "            print(cols,end = \"\")\n",
    "        else:\n",
    "            print(rows - 1 - cols + rows + 1,end = \"\")\n",
    "    print()       "
   ]
  },
  {
   "cell_type": "markdown",
   "id": "8b328394",
   "metadata": {},
   "source": [
    "***PATTREN 9 (n = 5)***\n",
    "\n",
    "```\\\n",
    "*               * \n",
    "* *           * * \n",
    "* * *       * * * \n",
    "* * * *   * * * * \n",
    "* * * * * * * * * \n",
    "* * * *   * * * * \n",
    "* * *       * * * \n",
    "* *           * * \n",
    "*               *"
   ]
  },
  {
   "cell_type": "code",
   "execution_count": 123,
   "id": "6cce9841",
   "metadata": {},
   "outputs": [
    {
     "name": "stdout",
     "output_type": "stream",
     "text": [
      "*               * \n",
      "* *           * * \n",
      "* * *       * * * \n",
      "* * * *   * * * * \n",
      "* * * * * * * * * \n",
      "* * * *   * * * * \n",
      "* * *       * * * \n",
      "* *           * * \n",
      "*               * \n"
     ]
    }
   ],
   "source": [
    "n = 5\n",
    "total_cols = 2*n-1\n",
    "for rows in range(1,n+1):\n",
    "    for cols in range(1,total_cols+1):\n",
    "        if cols <= rows or cols>total_cols - rows:\n",
    "            print(\"*\",end = \" \")\n",
    "        else:\n",
    "            print(\" \",end = \" \")\n",
    "    print()\n",
    "for rows in range(1,n):\n",
    "    for cols in range(1,total_cols+1):\n",
    "        if cols <= n - rows or cols > n+rows-1:\n",
    "            print(\"*\",end = \" \")\n",
    "        else:\n",
    "            print(\" \",end = \" \")\n",
    "    print()\n"
   ]
  }
 ],
 "metadata": {
  "kernelspec": {
   "display_name": "Python 3",
   "language": "python",
   "name": "python3"
  },
  "language_info": {
   "codemirror_mode": {
    "name": "ipython",
    "version": 3
   },
   "file_extension": ".py",
   "mimetype": "text/x-python",
   "name": "python",
   "nbconvert_exporter": "python",
   "pygments_lexer": "ipython3",
   "version": "3.11.9"
  }
 },
 "nbformat": 4,
 "nbformat_minor": 5
}
