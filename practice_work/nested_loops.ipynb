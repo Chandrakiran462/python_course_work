{
 "cells": [
  {
   "cell_type": "markdown",
   "id": "ca8866bb",
   "metadata": {},
   "source": [
    "***PATTREN 1 (n = 5)***\n",
    "```\\\n",
    "1\n",
    "1 2\n",
    "1 2 3\n",
    "1 2 3 4\n",
    "1 2 3 4 5\n"
   ]
  },
  {
   "cell_type": "markdown",
   "id": "cf53eebc",
   "metadata": {},
   "source": [
    "***PATTREN 2 (n = 5)***\n",
    "```\\\n",
    "1\n",
    "2 2\n",
    "3 3 3\n",
    "4 4 4 4\n",
    "5 5 5 5 5"
   ]
  },
  {
   "cell_type": "markdown",
   "id": "552d2f8b",
   "metadata": {
    "slideshow": {
     "slide_type": "notes"
    }
   },
   "source": [
    "***PATTREN 3 (n = 5)***\n",
    "\n",
    "```\\\n",
    "* * * * *\n",
    "  * * * *\n",
    "    * * *\n",
    "      * *\n",
    "        *\n"
   ]
  },
  {
   "cell_type": "markdown",
   "id": "ae003029",
   "metadata": {},
   "source": [
    "***PATTREN 4 (n = 5)***\n",
    "\n",
    "```\\\n",
    "1 1 1 1 1\n",
    "  2 2 2 2\n",
    "    3 3 3\n",
    "      4 4\n",
    "        5"
   ]
  },
  {
   "cell_type": "markdown",
   "id": "88871815",
   "metadata": {},
   "source": [
    "***PATTREN 5 (n = 5)***\n",
    "\n",
    "```\\\n",
    "    *\n",
    "   ***\n",
    "  *****\n",
    " *******\n",
    "*********\n",
    "\n",
    "     "
   ]
  },
  {
   "cell_type": "markdown",
   "id": "43975aa7",
   "metadata": {},
   "source": [
    "***PATTREN 6 (n = 5)***\n",
    "\n",
    "```\\\n",
    "*********\n",
    " *******\n",
    "  *****\n",
    "   ***\n",
    "    *"
   ]
  },
  {
   "cell_type": "markdown",
   "id": "65109ed0",
   "metadata": {},
   "source": [
    "***PATTREN 7 (n = 5)***\n",
    "\n",
    "```\\\n",
    "    *\n",
    "   * *\n",
    "  *   *\n",
    " *     *\n",
    "* * * * *"
   ]
  },
  {
   "cell_type": "markdown",
   "id": "8de5e6e5",
   "metadata": {},
   "source": [
    "***PATTREN 8 (n = 5)***\n",
    "\n",
    "```\\\n",
    "    *\n",
    "   **\n",
    "  ***\n",
    " ****\n",
    "*****\n",
    " ****\n",
    "  ***\n",
    "   **\n",
    "    *"
   ]
  },
  {
   "cell_type": "markdown",
   "id": "8c6d9168",
   "metadata": {},
   "source": [
    "***PATTREN 9 (n = 5)***\n",
    "\n",
    "```\\\n",
    "    *\n",
    "   ***\n",
    "  *****\n",
    " *******\n",
    "*********\n",
    " *******\n",
    "  *****\n",
    "   ***\n",
    "    *"
   ]
  },
  {
   "cell_type": "markdown",
   "id": "c8b7f63b",
   "metadata": {},
   "source": [
    "***PATTREN 10 (n = 5)***\n",
    "\n",
    "```\\\n",
    "A\n",
    "B B\n",
    "C C C\n",
    "D D D D \n",
    "E E E E E\n"
   ]
  },
  {
   "cell_type": "markdown",
   "id": "a374e5d4",
   "metadata": {},
   "source": [
    "***PATTREN 11 (n = 5)***\n",
    "\n",
    "```\\\n",
    "    1\n",
    "   121\n",
    "  12321\n",
    " 1234321\n",
    "123454321"
   ]
  },
  {
   "cell_type": "code",
   "execution_count": 13,
   "id": "7f2e0a89",
   "metadata": {},
   "outputs": [
    {
     "name": "stdout",
     "output_type": "stream",
     "text": [
      "    5\n",
      "   55\n",
      "  555\n",
      " 5555\n",
      "55555\n"
     ]
    }
   ],
   "source": [
    "n = 5\n",
    "for rows in range(1,n+1):\n",
    "    for cols in range(1,n+1):\n",
    "        if cols > n - rows:\n",
    "            print(n,end = \"\")\n",
    "        else:\n",
    "            print(\" \",end = \"\")\n",
    "    print()"
   ]
  },
  {
   "cell_type": "markdown",
   "id": "8b328394",
   "metadata": {},
   "source": [
    "***PATTREN 12 (n = 5)***\n",
    "\n",
    "```\\\n",
    "*               * \n",
    "* *           * * \n",
    "* * *       * * * \n",
    "* * * *   * * * * \n",
    "* * * * * * * * * \n",
    "* * * *   * * * * \n",
    "* * *       * * * \n",
    "* *           * * \n",
    "*               *"
   ]
  }
 ],
 "metadata": {
  "kernelspec": {
   "display_name": "Python 3",
   "language": "python",
   "name": "python3"
  },
  "language_info": {
   "codemirror_mode": {
    "name": "ipython",
    "version": 3
   },
   "file_extension": ".py",
   "mimetype": "text/x-python",
   "name": "python",
   "nbconvert_exporter": "python",
   "pygments_lexer": "ipython3",
   "version": "3.11.9"
  }
 },
 "nbformat": 4,
 "nbformat_minor": 5
}
