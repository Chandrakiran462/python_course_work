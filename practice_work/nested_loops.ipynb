{
 "cells": [
  {
   "cell_type": "markdown",
   "id": "fb84c3d1",
   "metadata": {},
   "source": [
    "***Introduction: What Are Nested Loops?***\n",
    "\n",
    "Definition: A nested loop is simply a loop inside another loop. The outer loop runs, and for each of its iterations, the inner loop runs completely."
   ]
  },
  {
   "cell_type": "markdown",
   "id": "ca8866bb",
   "metadata": {},
   "source": [
    "***PATTREN 1 (n = 5)***\n",
    "```\\\n",
    "   1 2 3 4 5\n",
    "1. 1\n",
    "2. 1 2\n",
    "3. 1 2 3\n",
    "4. 1 2 3 4\n",
    "5. 1 2 3 4 5\n"
   ]
  },
  {
   "cell_type": "code",
   "execution_count": 45,
   "id": "d2d0405f",
   "metadata": {},
   "outputs": [
    {
     "name": "stdout",
     "output_type": "stream",
     "text": [
      "1 \n",
      "1 2 \n",
      "1 2 3 \n",
      "1 2 3 4 \n",
      "1 2 3 4 5 \n"
     ]
    }
   ],
   "source": [
    "n = 5\n",
    "for rows in range(1,n+1):\n",
    "    for cols in range (1,rows+1):\n",
    "        print(cols,end = \" \")\n",
    "    print()"
   ]
  },
  {
   "cell_type": "markdown",
   "id": "552d2f8b",
   "metadata": {
    "slideshow": {
     "slide_type": "notes"
    }
   },
   "source": [
    "***PATTREN 2 (n = 5)***\n",
    "\n",
    "```\\\n",
    "* * * * *\n",
    "  * * * *\n",
    "    * * *\n",
    "      * *\n",
    "        *\n"
   ]
  },
  {
   "cell_type": "code",
   "execution_count": 48,
   "id": "9a682c0a",
   "metadata": {},
   "outputs": [
    {
     "name": "stdout",
     "output_type": "stream",
     "text": [
      "  * * * * * \n",
      "    * * * * \n",
      "      * * * \n",
      "        * * \n",
      "          * \n"
     ]
    }
   ],
   "source": [
    "n = 5 \n",
    "for rows in range(1,n+1):\n",
    "    for spaces in range (1,rows+1):\n",
    "        print(\" \",end = \" \")\n",
    "    for cols in range(1,n-rows+2):\n",
    "        print(\"*\",end = \" \")\n",
    "    print()"
   ]
  },
  {
   "cell_type": "markdown",
   "id": "88871815",
   "metadata": {},
   "source": [
    "***PATTREN 3 (n = 5)***\n",
    "\n",
    "```\\\n",
    "    *\n",
    "   ***\n",
    "  *****\n",
    " *******\n",
    "*********\n",
    "\n",
    "     "
   ]
  },
  {
   "cell_type": "code",
   "execution_count": 49,
   "id": "478d2c7e",
   "metadata": {},
   "outputs": [
    {
     "name": "stdout",
     "output_type": "stream",
     "text": [
      "    *\n",
      "   ***\n",
      "  *****\n",
      " *******\n",
      "*********\n"
     ]
    }
   ],
   "source": [
    "n = 5\n",
    "for rows in range(1,n+1):\n",
    "    for spaces in range(1,n-rows+1):\n",
    "        print(\" \",end = \"\")\n",
    "    for cols in range(1,2*rows):\n",
    "        print(\"*\",end = \"\")\n",
    "    print()"
   ]
  },
  {
   "cell_type": "markdown",
   "id": "43975aa7",
   "metadata": {},
   "source": [
    "***PATTREN 4 (n = 5)***\n",
    "\n",
    "```\\\n",
    "*********\n",
    " *******\n",
    "  *****\n",
    "   ***\n",
    "    *"
   ]
  },
  {
   "cell_type": "markdown",
   "id": "65109ed0",
   "metadata": {},
   "source": [
    "***PATTREN 5 (n = 5)***\n",
    "\n",
    "```\\\n",
    "    *\n",
    "   * *\n",
    "  *   *\n",
    " *     *\n",
    "* * * * *"
   ]
  },
  {
   "cell_type": "code",
   "execution_count": 53,
   "id": "a9fc7faf",
   "metadata": {},
   "outputs": [
    {
     "name": "stdout",
     "output_type": "stream",
     "text": [
      "    * \n",
      "   * * \n",
      "  *   * \n",
      " *     * \n",
      "* * * * * \n"
     ]
    }
   ],
   "source": [
    "n = 5 \n",
    "for rows in range(1,n+1):\n",
    "    for spaces in range(1,n-rows+1):\n",
    "        print(\" \",end = \"\")\n",
    "    for cols in range(1,rows+1):\n",
    "        if cols == 1 or cols == rows or rows == n:\n",
    "            print(\"*\",end = \" \")\n",
    "        else:\n",
    "            print(\" \",end = \" \")\n",
    "    print()"
   ]
  },
  {
   "cell_type": "markdown",
   "id": "8de5e6e5",
   "metadata": {},
   "source": [
    "***PATTREN 6 (n = 5)***\n",
    "\n",
    "```\\\n",
    "    *\n",
    "   **\n",
    "  ***\n",
    " ****\n",
    "*****\n",
    " ****\n",
    "  ***\n",
    "   **\n",
    "    *"
   ]
  },
  {
   "cell_type": "code",
   "execution_count": 56,
   "id": "9daf6a26",
   "metadata": {},
   "outputs": [
    {
     "name": "stdout",
     "output_type": "stream",
     "text": [
      "    *\n",
      "   **\n",
      "  ***\n",
      " ****\n",
      "*****\n",
      " ****\n",
      "  ***\n",
      "   **\n",
      "    *\n"
     ]
    }
   ],
   "source": [
    "n = 5\n",
    "for rows in range (1,n+1):\n",
    "    for spaces in range(1,n-rows+1):\n",
    "        print(\" \",end = \"\")\n",
    "    for cols in range(1,rows+1):\n",
    "        print(\"*\",end = \"\")\n",
    "    print()\n",
    "for rows in range (1,n):\n",
    "    for spaces in range(1,rows+1):\n",
    "        print(\" \",end = \"\")\n",
    "    for cols in range(1,n - rows+1):\n",
    "        print(\"*\",end = \"\")\n",
    "    print()"
   ]
  },
  {
   "cell_type": "markdown",
   "id": "d5d23c49",
   "metadata": {},
   "source": [
    "***PATTREN 7 (n=5)***\n",
    "```\\\n",
    "    * \n",
    "   * * \n",
    "  *   * \n",
    " *     * \n",
    "*       * \n",
    " *     * \n",
    "  *   *  \n",
    "   * *   \n",
    "    *"
   ]
  },
  {
   "cell_type": "code",
   "execution_count": 15,
   "id": "2e132688",
   "metadata": {},
   "outputs": [
    {
     "name": "stdout",
     "output_type": "stream",
     "text": [
      "    * \n",
      "   * * \n",
      "  *   * \n",
      " *     * \n",
      "*       * \n",
      " *     *  \n",
      "  *   *   \n",
      "   * *    \n",
      "    *     \n"
     ]
    }
   ],
   "source": [
    "n = 5 \n",
    "for rows in range(1,n+1):\n",
    "    for spaces in range (1,n-rows+1):\n",
    "        print(\" \",end = \"\")\n",
    "    for cols in range(1,rows+1):\n",
    "        if cols == 1 or cols == rows:\n",
    "            print(\"*\",end = \" \")\n",
    "        else:\n",
    "            print(\" \",end = \" \")\n",
    "    print()\n",
    "for rows in range(2,n+1):\n",
    "    for cols in range(1,2*n+1):\n",
    "        if cols == rows or cols == 2*n-rows:\n",
    "            print(\"*\",end = \"\")\n",
    "        else:\n",
    "            print(\" \",end = \"\")\n",
    "    print()"
   ]
  },
  {
   "cell_type": "markdown",
   "id": "8b328394",
   "metadata": {},
   "source": [
    "***PATTREN 8 (n = 5)***\n",
    "\n",
    "```\\\n",
    "*               * \n",
    "* *           * * \n",
    "* * *       * * * \n",
    "* * * *   * * * * \n",
    "* * * * * * * * * \n",
    "* * * *   * * * * \n",
    "* * *       * * * \n",
    "* *           * * \n",
    "*               *"
   ]
  }
 ],
 "metadata": {
  "kernelspec": {
   "display_name": "Python 3",
   "language": "python",
   "name": "python3"
  },
  "language_info": {
   "codemirror_mode": {
    "name": "ipython",
    "version": 3
   },
   "file_extension": ".py",
   "mimetype": "text/x-python",
   "name": "python",
   "nbconvert_exporter": "python",
   "pygments_lexer": "ipython3",
   "version": "3.11.9"
  }
 },
 "nbformat": 4,
 "nbformat_minor": 5
}
